{
 "cells": [
  {
   "cell_type": "code",
   "execution_count": 1,
   "id": "1e8ef801",
   "metadata": {
    "_cell_guid": "b1076dfc-b9ad-4769-8c92-a6c4dae69d19",
    "_uuid": "8f2839f25d086af736a60e9eeb907d3b93b6e0e5",
    "execution": {
     "iopub.execute_input": "2021-10-15T10:36:09.935788Z",
     "iopub.status.busy": "2021-10-15T10:36:09.935099Z",
     "iopub.status.idle": "2021-10-15T10:36:10.929655Z",
     "shell.execute_reply": "2021-10-15T10:36:10.930128Z",
     "shell.execute_reply.started": "2021-10-15T10:35:33.417225Z"
    },
    "papermill": {
     "duration": 1.022251,
     "end_time": "2021-10-15T10:36:10.930371",
     "exception": false,
     "start_time": "2021-10-15T10:36:09.908120",
     "status": "completed"
    },
    "tags": []
   },
   "outputs": [
    {
     "name": "stdout",
     "output_type": "stream",
     "text": [
      "/kaggle/input/neolen-house-price-prediction/sample_submission.csv\n",
      "/kaggle/input/neolen-house-price-prediction/data_description.txt\n",
      "/kaggle/input/neolen-house-price-prediction/train.csv\n",
      "/kaggle/input/neolen-house-price-prediction/test.csv\n",
      "/kaggle/input/neolen-house-price-prediction/house-prices-advanced-regression-techniques.zip\n"
     ]
    }
   ],
   "source": [
    "# This Python 3 environment comes with many helpful analytics libraries installed\n",
    "# It is defined by the kaggle/python Docker image: https://github.com/kaggle/docker-python\n",
    "# For example, here's several helpful packages to load\n",
    "\n",
    "import numpy as np # linear algebra\n",
    "import pandas as pd # data processing, CSV file I/O (e.g. pd.read_csv)\n",
    "from sklearn.preprocessing import LabelEncoder\n",
    "from sklearn.compose import ColumnTransformer\n",
    "from sklearn.preprocessing import StandardScaler, MinMaxScaler, RobustScaler\n",
    "from xgboost import XGBRegressor\n",
    "\n",
    "# Input data files are available in the read-only \"../input/\" directory\n",
    "# For example, running this (by clicking run or pressing Shift+Enter) will list all files under the input directory\n",
    "\n",
    "import os\n",
    "for dirname, _, filenames in os.walk('/kaggle/input'):\n",
    "    for filename in filenames:\n",
    "        print(os.path.join(dirname, filename))\n",
    "\n",
    "# You can write up to 20GB to the current directory (/kaggle/working/) that gets preserved as output when you create a version using \"Save & Run All\" \n",
    "# You can also write temporary files to /kaggle/temp/, but they won't be saved outside of the current session"
   ]
  },
  {
   "cell_type": "code",
   "execution_count": 2,
   "id": "c5b1a359",
   "metadata": {
    "execution": {
     "iopub.execute_input": "2021-10-15T10:36:10.983289Z",
     "iopub.status.busy": "2021-10-15T10:36:10.981116Z",
     "iopub.status.idle": "2021-10-15T10:36:11.035432Z",
     "shell.execute_reply": "2021-10-15T10:36:11.035817Z",
     "shell.execute_reply.started": "2021-10-15T10:35:33.592629Z"
    },
    "papermill": {
     "duration": 0.080842,
     "end_time": "2021-10-15T10:36:11.035947",
     "exception": false,
     "start_time": "2021-10-15T10:36:10.955105",
     "status": "completed"
    },
    "tags": []
   },
   "outputs": [],
   "source": [
    "# Read csv files. And keep a copy of the original dataframes. tran_df and test_df will be used throughout this notebook for preprocessing and scaling.we need original test dataframe in the end \n",
    "or_train_df = pd.read_csv('/kaggle/input/neolen-house-price-prediction/train.csv')\n",
    "or_test_df = pd.read_csv('/kaggle/input/neolen-house-price-prediction/test.csv')\n",
    "\n",
    "train_df = or_train_df\n",
    "test_df = or_test_df"
   ]
  },
  {
   "cell_type": "code",
   "execution_count": 3,
   "id": "5a36e766",
   "metadata": {
    "execution": {
     "iopub.execute_input": "2021-10-15T10:36:11.068316Z",
     "iopub.status.busy": "2021-10-15T10:36:11.067737Z",
     "iopub.status.idle": "2021-10-15T10:36:11.080119Z",
     "shell.execute_reply": "2021-10-15T10:36:11.080445Z",
     "shell.execute_reply.started": "2021-10-15T10:35:33.767136Z"
    },
    "papermill": {
     "duration": 0.029548,
     "end_time": "2021-10-15T10:36:11.080562",
     "exception": false,
     "start_time": "2021-10-15T10:36:11.051014",
     "status": "completed"
    },
    "tags": []
   },
   "outputs": [],
   "source": [
    "# Dropping 'Id' column as it has no use in training\n",
    "train_df = train_df.drop(['Id'], axis=1)\n",
    "test_df = test_df.drop(['Id'], axis=1)"
   ]
  },
  {
   "cell_type": "code",
   "execution_count": 4,
   "id": "d3d7cd35",
   "metadata": {
    "execution": {
     "iopub.execute_input": "2021-10-15T10:36:11.114649Z",
     "iopub.status.busy": "2021-10-15T10:36:11.112077Z",
     "iopub.status.idle": "2021-10-15T10:36:11.118249Z",
     "shell.execute_reply": "2021-10-15T10:36:11.117892Z",
     "shell.execute_reply.started": "2021-10-15T10:35:35.552967Z"
    },
    "papermill": {
     "duration": 0.022836,
     "end_time": "2021-10-15T10:36:11.118333",
     "exception": false,
     "start_time": "2021-10-15T10:36:11.095497",
     "status": "completed"
    },
    "tags": []
   },
   "outputs": [
    {
     "name": "stdout",
     "output_type": "stream",
     "text": [
      "Shape of train set: (1259, 80)\n",
      "Shape of test set: (201, 79)\n"
     ]
    }
   ],
   "source": [
    "print(f\"Shape of train set: {train_df.shape}\")\n",
    "print(f\"Shape of test set: {test_df.shape}\")"
   ]
  },
  {
   "cell_type": "markdown",
   "id": "151f8a2e",
   "metadata": {
    "papermill": {
     "duration": 0.014534,
     "end_time": "2021-10-15T10:36:11.147670",
     "exception": false,
     "start_time": "2021-10-15T10:36:11.133136",
     "status": "completed"
    },
    "tags": []
   },
   "source": [
    "## Replace NaNs\n",
    "**While replacing we have to make sure to replace it with '0' (character) in case of a string column and 0 (number) if otherwise**"
   ]
  },
  {
   "cell_type": "code",
   "execution_count": 5,
   "id": "42245f36",
   "metadata": {
    "execution": {
     "iopub.execute_input": "2021-10-15T10:36:11.180337Z",
     "iopub.status.busy": "2021-10-15T10:36:11.179852Z",
     "iopub.status.idle": "2021-10-15T10:36:11.265268Z",
     "shell.execute_reply": "2021-10-15T10:36:11.264624Z",
     "shell.execute_reply.started": "2021-10-15T10:35:35.885927Z"
    },
    "papermill": {
     "duration": 0.102862,
     "end_time": "2021-10-15T10:36:11.265407",
     "exception": false,
     "start_time": "2021-10-15T10:36:11.162545",
     "status": "completed"
    },
    "tags": []
   },
   "outputs": [],
   "source": [
    "str_columns = []\n",
    "num_columns = []\n",
    "\n",
    "def convert_to_str(df):\n",
    "    for col in df.columns:\n",
    "        if (df[col].dtype == np.int64 or df[col].dtype == np.float64):\n",
    "            df[col] = df[col].fillna(df[col].mean())\n",
    "            if col not in num_columns:\n",
    "                num_columns.append(col)\n",
    "        else:\n",
    "            df[col] = df[col].fillna(method='ffill')\n",
    "            if col not in str_columns:\n",
    "                str_columns.append(col)\n",
    "    return df\n",
    "\n",
    "train_df = convert_to_str(train_df)\n",
    "test_df = convert_to_str(test_df)"
   ]
  },
  {
   "cell_type": "code",
   "execution_count": 6,
   "id": "dd2f0770",
   "metadata": {
    "execution": {
     "iopub.execute_input": "2021-10-15T10:36:11.320818Z",
     "iopub.status.busy": "2021-10-15T10:36:11.319077Z",
     "iopub.status.idle": "2021-10-15T10:36:11.332499Z",
     "shell.execute_reply": "2021-10-15T10:36:11.332089Z",
     "shell.execute_reply.started": "2021-10-15T10:35:37.670259Z"
    },
    "papermill": {
     "duration": 0.047358,
     "end_time": "2021-10-15T10:36:11.332637",
     "exception": false,
     "start_time": "2021-10-15T10:36:11.285279",
     "status": "completed"
    },
    "tags": []
   },
   "outputs": [],
   "source": [
    "train_df['type'] = 'train'\n",
    "test_df['type'] = 'test'\n",
    "\n",
    "# Add a dummy SalePrice column to test dataframe to make number of columns equal \n",
    "test_df['SalePrice'] = train_df['SalePrice'].iloc[:201]\n",
    "\n",
    "df = train_df.append(test_df, ignore_index=True)"
   ]
  },
  {
   "cell_type": "code",
   "execution_count": 7,
   "id": "166130ad",
   "metadata": {
    "execution": {
     "iopub.execute_input": "2021-10-15T10:36:11.378097Z",
     "iopub.status.busy": "2021-10-15T10:36:11.377491Z",
     "iopub.status.idle": "2021-10-15T10:36:11.700768Z",
     "shell.execute_reply": "2021-10-15T10:36:11.701126Z",
     "shell.execute_reply.started": "2021-10-15T10:15:03.120126Z"
    },
    "papermill": {
     "duration": 0.347874,
     "end_time": "2021-10-15T10:36:11.701267",
     "exception": false,
     "start_time": "2021-10-15T10:36:11.353393",
     "status": "completed"
    },
    "tags": []
   },
   "outputs": [],
   "source": [
    "for col in str_columns:\n",
    "    one_hot = pd.get_dummies(df[col])\n",
    "\n",
    "    replace_cols = {}\n",
    "    for one_col in one_hot.columns:\n",
    "        replace_cols[one_col] = f\"{col}_{one_col}\"\n",
    "    one_hot = one_hot.rename(columns=replace_cols)\n",
    "\n",
    "    df = df.drop(col, axis = 1)\n",
    "    df = df.join(one_hot)"
   ]
  },
  {
   "cell_type": "code",
   "execution_count": 8,
   "id": "37268564",
   "metadata": {
    "execution": {
     "iopub.execute_input": "2021-10-15T10:36:11.737628Z",
     "iopub.status.busy": "2021-10-15T10:36:11.737035Z",
     "iopub.status.idle": "2021-10-15T10:36:11.747192Z",
     "shell.execute_reply": "2021-10-15T10:36:11.747636Z",
     "shell.execute_reply.started": "2021-10-15T10:15:03.506690Z"
    },
    "papermill": {
     "duration": 0.029973,
     "end_time": "2021-10-15T10:36:11.747743",
     "exception": false,
     "start_time": "2021-10-15T10:36:11.717770",
     "status": "completed"
    },
    "tags": []
   },
   "outputs": [],
   "source": [
    "train_df = df[df['type'] == 'train']\n",
    "test_df = df[df['type'] == 'test']\n",
    "\n",
    "train_df = train_df.drop(['type'], axis=1)\n",
    "test_df = test_df.drop(['type'], axis=1)\n",
    "\n",
    "test_df = test_df.reset_index(drop=True)"
   ]
  },
  {
   "cell_type": "code",
   "execution_count": 9,
   "id": "e1ab9be9",
   "metadata": {
    "execution": {
     "iopub.execute_input": "2021-10-15T10:36:11.783947Z",
     "iopub.status.busy": "2021-10-15T10:36:11.782696Z",
     "iopub.status.idle": "2021-10-15T10:36:11.788339Z",
     "shell.execute_reply": "2021-10-15T10:36:11.787874Z",
     "shell.execute_reply.started": "2021-10-15T10:15:06.039899Z"
    },
    "papermill": {
     "duration": 0.024827,
     "end_time": "2021-10-15T10:36:11.788452",
     "exception": false,
     "start_time": "2021-10-15T10:36:11.763625",
     "status": "completed"
    },
    "tags": []
   },
   "outputs": [
    {
     "name": "stdout",
     "output_type": "stream",
     "text": [
      "Shape of train set: (1259, 289)\n",
      "Shape of test set: (201, 289)\n"
     ]
    }
   ],
   "source": [
    "print(f\"Shape of train set: {train_df.shape}\")\n",
    "print(f\"Shape of test set: {test_df.shape}\")"
   ]
  },
  {
   "cell_type": "markdown",
   "id": "ae0b7afe",
   "metadata": {
    "papermill": {
     "duration": 0.016171,
     "end_time": "2021-10-15T10:36:11.821285",
     "exception": false,
     "start_time": "2021-10-15T10:36:11.805114",
     "status": "completed"
    },
    "tags": []
   },
   "source": [
    "## Standardization of values"
   ]
  },
  {
   "cell_type": "code",
   "execution_count": 10,
   "id": "a7620ef9",
   "metadata": {
    "execution": {
     "iopub.execute_input": "2021-10-15T10:36:11.857295Z",
     "iopub.status.busy": "2021-10-15T10:36:11.856858Z",
     "iopub.status.idle": "2021-10-15T10:36:11.869288Z",
     "shell.execute_reply": "2021-10-15T10:36:11.868907Z",
     "shell.execute_reply.started": "2021-10-15T10:15:07.743732Z"
    },
    "papermill": {
     "duration": 0.031578,
     "end_time": "2021-10-15T10:36:11.869393",
     "exception": false,
     "start_time": "2021-10-15T10:36:11.837815",
     "status": "completed"
    },
    "tags": []
   },
   "outputs": [
    {
     "data": {
      "text/plain": [
       "StandardScaler()"
      ]
     },
     "execution_count": 10,
     "metadata": {},
     "output_type": "execute_result"
    }
   ],
   "source": [
    "scaler = StandardScaler()\n",
    "scaler.fit(train_df[num_columns])"
   ]
  },
  {
   "cell_type": "code",
   "execution_count": 11,
   "id": "042afc75",
   "metadata": {
    "execution": {
     "iopub.execute_input": "2021-10-15T10:36:11.910603Z",
     "iopub.status.busy": "2021-10-15T10:36:11.910131Z",
     "iopub.status.idle": "2021-10-15T10:36:11.934910Z",
     "shell.execute_reply": "2021-10-15T10:36:11.935380Z",
     "shell.execute_reply.started": "2021-10-15T10:15:10.072746Z"
    },
    "papermill": {
     "duration": 0.049495,
     "end_time": "2021-10-15T10:36:11.935552",
     "exception": false,
     "start_time": "2021-10-15T10:36:11.886057",
     "status": "completed"
    },
    "tags": []
   },
   "outputs": [],
   "source": [
    "train_df[num_columns] = scaler.transform(train_df[num_columns])\n",
    "test_df[num_columns] = scaler.transform(test_df[num_columns])"
   ]
  },
  {
   "cell_type": "code",
   "execution_count": 12,
   "id": "407fb6e9",
   "metadata": {
    "execution": {
     "iopub.execute_input": "2021-10-15T10:36:11.973840Z",
     "iopub.status.busy": "2021-10-15T10:36:11.973084Z",
     "iopub.status.idle": "2021-10-15T10:36:11.977114Z",
     "shell.execute_reply": "2021-10-15T10:36:11.977850Z",
     "shell.execute_reply.started": "2021-10-15T10:15:12.033344Z"
    },
    "papermill": {
     "duration": 0.025437,
     "end_time": "2021-10-15T10:36:11.978107",
     "exception": false,
     "start_time": "2021-10-15T10:36:11.952670",
     "status": "completed"
    },
    "tags": []
   },
   "outputs": [
    {
     "name": "stdout",
     "output_type": "stream",
     "text": [
      "Shape of train set: (1259, 289)\n",
      "Shape of test set: (201, 289)\n"
     ]
    }
   ],
   "source": [
    "print(f\"Shape of train set: {train_df.shape}\")\n",
    "print(f\"Shape of test set: {test_df.shape}\")"
   ]
  },
  {
   "cell_type": "code",
   "execution_count": 13,
   "id": "add2ac46",
   "metadata": {
    "execution": {
     "iopub.execute_input": "2021-10-15T10:36:12.015709Z",
     "iopub.status.busy": "2021-10-15T10:36:12.015247Z",
     "iopub.status.idle": "2021-10-15T10:36:12.019397Z",
     "shell.execute_reply": "2021-10-15T10:36:12.019784Z",
     "shell.execute_reply.started": "2021-10-15T10:15:14.070790Z"
    },
    "papermill": {
     "duration": 0.023666,
     "end_time": "2021-10-15T10:36:12.019912",
     "exception": false,
     "start_time": "2021-10-15T10:36:11.996246",
     "status": "completed"
    },
    "tags": []
   },
   "outputs": [],
   "source": [
    "test_df = test_df.drop(['SalePrice'], axis=1)"
   ]
  },
  {
   "cell_type": "code",
   "execution_count": 14,
   "id": "b2e9549e",
   "metadata": {
    "execution": {
     "iopub.execute_input": "2021-10-15T10:36:12.059136Z",
     "iopub.status.busy": "2021-10-15T10:36:12.058491Z",
     "iopub.status.idle": "2021-10-15T10:36:12.062861Z",
     "shell.execute_reply": "2021-10-15T10:36:12.062468Z",
     "shell.execute_reply.started": "2021-10-15T10:15:16.399637Z"
    },
    "papermill": {
     "duration": 0.025876,
     "end_time": "2021-10-15T10:36:12.062967",
     "exception": false,
     "start_time": "2021-10-15T10:36:12.037091",
     "status": "completed"
    },
    "tags": []
   },
   "outputs": [],
   "source": [
    "train_labels = train_df['SalePrice']\n",
    "train_data = train_df.drop(['SalePrice'], axis=1)"
   ]
  },
  {
   "cell_type": "markdown",
   "id": "570e8696",
   "metadata": {
    "papermill": {
     "duration": 0.016653,
     "end_time": "2021-10-15T10:36:12.097113",
     "exception": false,
     "start_time": "2021-10-15T10:36:12.080460",
     "status": "completed"
    },
    "tags": []
   },
   "source": [
    "## XGBoost regressor model "
   ]
  },
  {
   "cell_type": "code",
   "execution_count": 15,
   "id": "4eb50949",
   "metadata": {
    "execution": {
     "iopub.execute_input": "2021-10-15T10:36:12.134029Z",
     "iopub.status.busy": "2021-10-15T10:36:12.133478Z",
     "iopub.status.idle": "2021-10-15T10:36:12.137882Z",
     "shell.execute_reply": "2021-10-15T10:36:12.137422Z",
     "shell.execute_reply.started": "2021-10-15T10:15:16.982798Z"
    },
    "papermill": {
     "duration": 0.024127,
     "end_time": "2021-10-15T10:36:12.138002",
     "exception": false,
     "start_time": "2021-10-15T10:36:12.113875",
     "status": "completed"
    },
    "tags": []
   },
   "outputs": [],
   "source": [
    "model = XGBRegressor(n_estimators=1000, max_depth=7, eta=0.1, subsample=0.7, colsample_bytree=0.8)"
   ]
  },
  {
   "cell_type": "code",
   "execution_count": 16,
   "id": "4ebffb51",
   "metadata": {
    "execution": {
     "iopub.execute_input": "2021-10-15T10:36:12.181056Z",
     "iopub.status.busy": "2021-10-15T10:36:12.178695Z",
     "iopub.status.idle": "2021-10-15T10:36:17.436423Z",
     "shell.execute_reply": "2021-10-15T10:36:17.436924Z",
     "shell.execute_reply.started": "2021-10-15T10:15:17.304227Z"
    },
    "papermill": {
     "duration": 5.28175,
     "end_time": "2021-10-15T10:36:17.437074",
     "exception": false,
     "start_time": "2021-10-15T10:36:12.155324",
     "status": "completed"
    },
    "tags": []
   },
   "outputs": [
    {
     "data": {
      "text/plain": [
       "XGBRegressor(base_score=0.5, booster='gbtree', colsample_bylevel=1,\n",
       "             colsample_bynode=1, colsample_bytree=0.8, eta=0.1, gamma=0,\n",
       "             gpu_id=-1, importance_type='gain', interaction_constraints='',\n",
       "             learning_rate=0.100000001, max_delta_step=0, max_depth=7,\n",
       "             min_child_weight=1, missing=nan, monotone_constraints='()',\n",
       "             n_estimators=1000, n_jobs=4, num_parallel_tree=1, random_state=0,\n",
       "             reg_alpha=0, reg_lambda=1, scale_pos_weight=1, subsample=0.7,\n",
       "             tree_method='exact', validate_parameters=1, verbosity=None)"
      ]
     },
     "execution_count": 16,
     "metadata": {},
     "output_type": "execute_result"
    }
   ],
   "source": [
    "model.fit(train_data, train_labels)"
   ]
  },
  {
   "cell_type": "code",
   "execution_count": 17,
   "id": "16de856a",
   "metadata": {
    "execution": {
     "iopub.execute_input": "2021-10-15T10:36:17.493353Z",
     "iopub.status.busy": "2021-10-15T10:36:17.492566Z",
     "iopub.status.idle": "2021-10-15T10:36:17.500433Z",
     "shell.execute_reply": "2021-10-15T10:36:17.499887Z",
     "shell.execute_reply.started": "2021-10-15T10:15:25.388784Z"
    },
    "papermill": {
     "duration": 0.037619,
     "end_time": "2021-10-15T10:36:17.500565",
     "exception": false,
     "start_time": "2021-10-15T10:36:17.462946",
     "status": "completed"
    },
    "tags": []
   },
   "outputs": [],
   "source": [
    "predictions = model.predict(test_df)"
   ]
  },
  {
   "cell_type": "code",
   "execution_count": 18,
   "id": "1964d0fe",
   "metadata": {
    "execution": {
     "iopub.execute_input": "2021-10-15T10:36:17.562483Z",
     "iopub.status.busy": "2021-10-15T10:36:17.561839Z",
     "iopub.status.idle": "2021-10-15T10:36:17.570544Z",
     "shell.execute_reply": "2021-10-15T10:36:17.571057Z",
     "shell.execute_reply.started": "2021-10-15T10:15:25.402296Z"
    },
    "papermill": {
     "duration": 0.043682,
     "end_time": "2021-10-15T10:36:17.571224",
     "exception": false,
     "start_time": "2021-10-15T10:36:17.527542",
     "status": "completed"
    },
    "tags": []
   },
   "outputs": [],
   "source": [
    "test_df['SalePrice'] = predictions\n",
    "test_df[num_columns] = scaler.inverse_transform(test_df[num_columns])\n",
    "test_df = pd.DataFrame(test_df, columns=train_df.columns)"
   ]
  },
  {
   "cell_type": "code",
   "execution_count": 19,
   "id": "792ddbb3",
   "metadata": {
    "execution": {
     "iopub.execute_input": "2021-10-15T10:36:17.630747Z",
     "iopub.status.busy": "2021-10-15T10:36:17.630204Z",
     "iopub.status.idle": "2021-10-15T10:36:17.634089Z",
     "shell.execute_reply": "2021-10-15T10:36:17.634431Z",
     "shell.execute_reply.started": "2021-10-15T10:15:25.425840Z"
    },
    "papermill": {
     "duration": 0.036756,
     "end_time": "2021-10-15T10:36:17.634570",
     "exception": false,
     "start_time": "2021-10-15T10:36:17.597814",
     "status": "completed"
    },
    "tags": []
   },
   "outputs": [],
   "source": [
    "# Create results dataframe\n",
    "results = pd.DataFrame()\n",
    "results['Id'] = or_test_df['Id']\n",
    "results['SalePrice'] = test_df['SalePrice']"
   ]
  },
  {
   "cell_type": "code",
   "execution_count": 20,
   "id": "e5b8d409",
   "metadata": {
    "execution": {
     "iopub.execute_input": "2021-10-15T10:36:17.675128Z",
     "iopub.status.busy": "2021-10-15T10:36:17.674629Z",
     "iopub.status.idle": "2021-10-15T10:36:17.685075Z",
     "shell.execute_reply": "2021-10-15T10:36:17.684696Z",
     "shell.execute_reply.started": "2021-10-15T10:15:29.844838Z"
    },
    "papermill": {
     "duration": 0.03248,
     "end_time": "2021-10-15T10:36:17.685189",
     "exception": false,
     "start_time": "2021-10-15T10:36:17.652709",
     "status": "completed"
    },
    "tags": []
   },
   "outputs": [
    {
     "data": {
      "text/html": [
       "<div>\n",
       "<style scoped>\n",
       "    .dataframe tbody tr th:only-of-type {\n",
       "        vertical-align: middle;\n",
       "    }\n",
       "\n",
       "    .dataframe tbody tr th {\n",
       "        vertical-align: top;\n",
       "    }\n",
       "\n",
       "    .dataframe thead th {\n",
       "        text-align: right;\n",
       "    }\n",
       "</style>\n",
       "<table border=\"1\" class=\"dataframe\">\n",
       "  <thead>\n",
       "    <tr style=\"text-align: right;\">\n",
       "      <th></th>\n",
       "      <th>Id</th>\n",
       "      <th>SalePrice</th>\n",
       "    </tr>\n",
       "  </thead>\n",
       "  <tbody>\n",
       "    <tr>\n",
       "      <th>0</th>\n",
       "      <td>1260</td>\n",
       "      <td>142751.903718</td>\n",
       "    </tr>\n",
       "    <tr>\n",
       "      <th>1</th>\n",
       "      <td>1261</td>\n",
       "      <td>184787.094732</td>\n",
       "    </tr>\n",
       "    <tr>\n",
       "      <th>2</th>\n",
       "      <td>1262</td>\n",
       "      <td>133445.621678</td>\n",
       "    </tr>\n",
       "    <tr>\n",
       "      <th>3</th>\n",
       "      <td>1263</td>\n",
       "      <td>134021.414263</td>\n",
       "    </tr>\n",
       "    <tr>\n",
       "      <th>4</th>\n",
       "      <td>1264</td>\n",
       "      <td>163834.038156</td>\n",
       "    </tr>\n",
       "  </tbody>\n",
       "</table>\n",
       "</div>"
      ],
      "text/plain": [
       "     Id      SalePrice\n",
       "0  1260  142751.903718\n",
       "1  1261  184787.094732\n",
       "2  1262  133445.621678\n",
       "3  1263  134021.414263\n",
       "4  1264  163834.038156"
      ]
     },
     "execution_count": 20,
     "metadata": {},
     "output_type": "execute_result"
    }
   ],
   "source": [
    "results.head()"
   ]
  },
  {
   "cell_type": "code",
   "execution_count": 21,
   "id": "cf3c9755",
   "metadata": {
    "execution": {
     "iopub.execute_input": "2021-10-15T10:36:17.725762Z",
     "iopub.status.busy": "2021-10-15T10:36:17.725089Z",
     "iopub.status.idle": "2021-10-15T10:36:17.730307Z",
     "shell.execute_reply": "2021-10-15T10:36:17.730833Z",
     "shell.execute_reply.started": "2021-10-15T10:15:30.768511Z"
    },
    "papermill": {
     "duration": 0.027671,
     "end_time": "2021-10-15T10:36:17.730974",
     "exception": false,
     "start_time": "2021-10-15T10:36:17.703303",
     "status": "completed"
    },
    "tags": []
   },
   "outputs": [],
   "source": [
    "results.to_csv('submissions.csv', index=False)"
   ]
  },
  {
   "cell_type": "code",
   "execution_count": null,
   "id": "7a730561",
   "metadata": {
    "papermill": {
     "duration": 0.026547,
     "end_time": "2021-10-15T10:36:17.784352",
     "exception": false,
     "start_time": "2021-10-15T10:36:17.757805",
     "status": "completed"
    },
    "tags": []
   },
   "outputs": [],
   "source": []
  }
 ],
 "metadata": {
  "kernelspec": {
   "display_name": "Python 3",
   "language": "python",
   "name": "python3"
  },
  "language_info": {
   "codemirror_mode": {
    "name": "ipython",
    "version": 3
   },
   "file_extension": ".py",
   "mimetype": "text/x-python",
   "name": "python",
   "nbconvert_exporter": "python",
   "pygments_lexer": "ipython3",
   "version": "3.7.10"
  },
  "papermill": {
   "default_parameters": {},
   "duration": 17.890003,
   "end_time": "2021-10-15T10:36:19.174002",
   "environment_variables": {},
   "exception": null,
   "input_path": "__notebook__.ipynb",
   "output_path": "__notebook__.ipynb",
   "parameters": {},
   "start_time": "2021-10-15T10:36:01.283999",
   "version": "2.3.3"
  }
 },
 "nbformat": 4,
 "nbformat_minor": 5
}
