{
 "cells": [
  {
   "cell_type": "code",
   "execution_count": 1,
   "id": "b3ad0a1a",
   "metadata": {
    "_cell_guid": "b1076dfc-b9ad-4769-8c92-a6c4dae69d19",
    "_uuid": "8f2839f25d086af736a60e9eeb907d3b93b6e0e5",
    "execution": {
     "iopub.execute_input": "2021-10-15T10:15:50.550614Z",
     "iopub.status.busy": "2021-10-15T10:15:50.549914Z",
     "iopub.status.idle": "2021-10-15T10:15:51.615595Z",
     "shell.execute_reply": "2021-10-15T10:15:51.616227Z",
     "shell.execute_reply.started": "2021-10-15T10:14:52.556046Z"
    },
    "papermill": {
     "duration": 1.102404,
     "end_time": "2021-10-15T10:15:51.616503",
     "exception": false,
     "start_time": "2021-10-15T10:15:50.514099",
     "status": "completed"
    },
    "tags": []
   },
   "outputs": [
    {
     "name": "stdout",
     "output_type": "stream",
     "text": [
      "/kaggle/input/neolen-house-price-prediction/sample_submission.csv\n",
      "/kaggle/input/neolen-house-price-prediction/data_description.txt\n",
      "/kaggle/input/neolen-house-price-prediction/train.csv\n",
      "/kaggle/input/neolen-house-price-prediction/test.csv\n",
      "/kaggle/input/neolen-house-price-prediction/house-prices-advanced-regression-techniques.zip\n"
     ]
    }
   ],
   "source": [
    "# This Python 3 environment comes with many helpful analytics libraries installed\n",
    "# It is defined by the kaggle/python Docker image: https://github.com/kaggle/docker-python\n",
    "# For example, here's several helpful packages to load\n",
    "\n",
    "import numpy as np # linear algebra\n",
    "import pandas as pd # data processing, CSV file I/O (e.g. pd.read_csv)\n",
    "from sklearn.preprocessing import LabelEncoder\n",
    "from sklearn.compose import ColumnTransformer\n",
    "from sklearn.preprocessing import StandardScaler\n",
    "from xgboost import XGBRegressor\n",
    "\n",
    "# Input data files are available in the read-only \"../input/\" directory\n",
    "# For example, running this (by clicking run or pressing Shift+Enter) will list all files under the input directory\n",
    "\n",
    "import os\n",
    "for dirname, _, filenames in os.walk('/kaggle/input'):\n",
    "    for filename in filenames:\n",
    "        print(os.path.join(dirname, filename))\n",
    "\n",
    "# You can write up to 20GB to the current directory (/kaggle/working/) that gets preserved as output when you create a version using \"Save & Run All\" \n",
    "# You can also write temporary files to /kaggle/temp/, but they won't be saved outside of the current session"
   ]
  },
  {
   "cell_type": "code",
   "execution_count": 2,
   "id": "94310eb2",
   "metadata": {
    "execution": {
     "iopub.execute_input": "2021-10-15T10:15:51.665874Z",
     "iopub.status.busy": "2021-10-15T10:15:51.665089Z",
     "iopub.status.idle": "2021-10-15T10:15:51.732245Z",
     "shell.execute_reply": "2021-10-15T10:15:51.731648Z",
     "shell.execute_reply.started": "2021-10-15T10:14:53.045293Z"
    },
    "papermill": {
     "duration": 0.094037,
     "end_time": "2021-10-15T10:15:51.732401",
     "exception": false,
     "start_time": "2021-10-15T10:15:51.638364",
     "status": "completed"
    },
    "tags": []
   },
   "outputs": [],
   "source": [
    "# Read csv files. And keep a copy of the original dataframes. tran_df and test_df will be used throughout this notebook for preprocessing and scaling.we need original test dataframe in the end \n",
    "or_train_df = pd.read_csv('/kaggle/input/neolen-house-price-prediction/train.csv')\n",
    "or_test_df = pd.read_csv('/kaggle/input/neolen-house-price-prediction/test.csv')\n",
    "\n",
    "train_df = or_train_df\n",
    "test_df = or_test_df"
   ]
  },
  {
   "cell_type": "code",
   "execution_count": 3,
   "id": "2c7cd3a5",
   "metadata": {
    "execution": {
     "iopub.execute_input": "2021-10-15T10:15:51.787474Z",
     "iopub.status.busy": "2021-10-15T10:15:51.786430Z",
     "iopub.status.idle": "2021-10-15T10:15:51.791524Z",
     "shell.execute_reply": "2021-10-15T10:15:51.791037Z",
     "shell.execute_reply.started": "2021-10-15T10:14:56.740598Z"
    },
    "papermill": {
     "duration": 0.038592,
     "end_time": "2021-10-15T10:15:51.791664",
     "exception": false,
     "start_time": "2021-10-15T10:15:51.753072",
     "status": "completed"
    },
    "tags": []
   },
   "outputs": [],
   "source": [
    "# Dropping 'Id' column as it has no use in training\n",
    "train_df = train_df.drop(['Id'], axis=1)\n",
    "test_df = test_df.drop(['Id'], axis=1)"
   ]
  },
  {
   "cell_type": "code",
   "execution_count": 4,
   "id": "de60c3e1",
   "metadata": {
    "execution": {
     "iopub.execute_input": "2021-10-15T10:15:51.839528Z",
     "iopub.status.busy": "2021-10-15T10:15:51.838448Z",
     "iopub.status.idle": "2021-10-15T10:15:51.842144Z",
     "shell.execute_reply": "2021-10-15T10:15:51.842654Z",
     "shell.execute_reply.started": "2021-10-15T10:14:57.006476Z"
    },
    "papermill": {
     "duration": 0.030258,
     "end_time": "2021-10-15T10:15:51.842854",
     "exception": false,
     "start_time": "2021-10-15T10:15:51.812596",
     "status": "completed"
    },
    "tags": []
   },
   "outputs": [
    {
     "name": "stdout",
     "output_type": "stream",
     "text": [
      "Shape of train set: (1259, 80)\n",
      "Shape of test set: (201, 79)\n"
     ]
    }
   ],
   "source": [
    "print(f\"Shape of train set: {train_df.shape}\")\n",
    "print(f\"Shape of test set: {test_df.shape}\")"
   ]
  },
  {
   "cell_type": "markdown",
   "id": "3eb8f78f",
   "metadata": {
    "papermill": {
     "duration": 0.021324,
     "end_time": "2021-10-15T10:15:51.886041",
     "exception": false,
     "start_time": "2021-10-15T10:15:51.864717",
     "status": "completed"
    },
    "tags": []
   },
   "source": [
    "## Replace NaNs\n",
    "**While replacing we have to make sure to replace it with '0' (character) in case of a string column and 0 (number) if otherwise**"
   ]
  },
  {
   "cell_type": "code",
   "execution_count": 5,
   "id": "663e128a",
   "metadata": {
    "execution": {
     "iopub.execute_input": "2021-10-15T10:15:51.942193Z",
     "iopub.status.busy": "2021-10-15T10:15:51.937875Z",
     "iopub.status.idle": "2021-10-15T10:15:52.020957Z",
     "shell.execute_reply": "2021-10-15T10:15:52.020405Z",
     "shell.execute_reply.started": "2021-10-15T10:14:58.897618Z"
    },
    "papermill": {
     "duration": 0.114405,
     "end_time": "2021-10-15T10:15:52.021107",
     "exception": false,
     "start_time": "2021-10-15T10:15:51.906702",
     "status": "completed"
    },
    "tags": []
   },
   "outputs": [],
   "source": [
    "str_columns = []\n",
    "num_columns = []\n",
    "\n",
    "def convert_to_str(df):\n",
    "    for col in df.columns:\n",
    "        if (df[col].dtype == np.int64 or df[col].dtype == np.float64):\n",
    "            df[col] = df[col].fillna(0)\n",
    "            if col not in num_columns:\n",
    "                num_columns.append(col)\n",
    "        else:\n",
    "            df[col] = df[col].fillna('0')\n",
    "            if col not in str_columns:\n",
    "                str_columns.append(col)\n",
    "    return df\n",
    "\n",
    "train_df = convert_to_str(train_df)\n",
    "test_df = convert_to_str(test_df)"
   ]
  },
  {
   "cell_type": "code",
   "execution_count": 6,
   "id": "5388d39e",
   "metadata": {
    "execution": {
     "iopub.execute_input": "2021-10-15T10:15:52.075439Z",
     "iopub.status.busy": "2021-10-15T10:15:52.069448Z",
     "iopub.status.idle": "2021-10-15T10:15:52.086727Z",
     "shell.execute_reply": "2021-10-15T10:15:52.087222Z",
     "shell.execute_reply.started": "2021-10-15T10:15:00.734867Z"
    },
    "papermill": {
     "duration": 0.044901,
     "end_time": "2021-10-15T10:15:52.087406",
     "exception": false,
     "start_time": "2021-10-15T10:15:52.042505",
     "status": "completed"
    },
    "tags": []
   },
   "outputs": [],
   "source": [
    "train_df['type'] = 'train'\n",
    "test_df['type'] = 'test'\n",
    "\n",
    "# Add a dummy SalePrice column to test dataframe to make number of columns equal \n",
    "test_df['SalePrice'] = train_df['SalePrice'].iloc[:201]\n",
    "\n",
    "df = train_df.append(test_df, ignore_index=True)"
   ]
  },
  {
   "cell_type": "code",
   "execution_count": 7,
   "id": "4d32f4f8",
   "metadata": {
    "execution": {
     "iopub.execute_input": "2021-10-15T10:15:52.136664Z",
     "iopub.status.busy": "2021-10-15T10:15:52.135644Z",
     "iopub.status.idle": "2021-10-15T10:15:52.457305Z",
     "shell.execute_reply": "2021-10-15T10:15:52.456720Z",
     "shell.execute_reply.started": "2021-10-15T10:15:03.120126Z"
    },
    "papermill": {
     "duration": 0.348257,
     "end_time": "2021-10-15T10:15:52.457465",
     "exception": false,
     "start_time": "2021-10-15T10:15:52.109208",
     "status": "completed"
    },
    "tags": []
   },
   "outputs": [],
   "source": [
    "for col in str_columns:\n",
    "    one_hot = pd.get_dummies(df[col])\n",
    "\n",
    "    replace_cols = {}\n",
    "    for one_col in one_hot.columns:\n",
    "        replace_cols[one_col] = f\"{col}_{one_col}\"\n",
    "    one_hot = one_hot.rename(columns=replace_cols)\n",
    "\n",
    "    df = df.drop(col, axis = 1)\n",
    "    df = df.join(one_hot)"
   ]
  },
  {
   "cell_type": "code",
   "execution_count": 8,
   "id": "a854d846",
   "metadata": {
    "execution": {
     "iopub.execute_input": "2021-10-15T10:15:52.510299Z",
     "iopub.status.busy": "2021-10-15T10:15:52.505142Z",
     "iopub.status.idle": "2021-10-15T10:15:52.515211Z",
     "shell.execute_reply": "2021-10-15T10:15:52.514528Z",
     "shell.execute_reply.started": "2021-10-15T10:15:03.506690Z"
    },
    "papermill": {
     "duration": 0.036843,
     "end_time": "2021-10-15T10:15:52.515366",
     "exception": false,
     "start_time": "2021-10-15T10:15:52.478523",
     "status": "completed"
    },
    "tags": []
   },
   "outputs": [],
   "source": [
    "train_df = df[df['type'] == 'train']\n",
    "test_df = df[df['type'] == 'test']\n",
    "\n",
    "train_df = train_df.drop(['type'], axis=1)\n",
    "test_df = test_df.drop(['type'], axis=1)\n",
    "\n",
    "test_df = test_df.reset_index(drop=True)"
   ]
  },
  {
   "cell_type": "code",
   "execution_count": 9,
   "id": "30686fc1",
   "metadata": {
    "execution": {
     "iopub.execute_input": "2021-10-15T10:15:52.564133Z",
     "iopub.status.busy": "2021-10-15T10:15:52.563377Z",
     "iopub.status.idle": "2021-10-15T10:15:52.566452Z",
     "shell.execute_reply": "2021-10-15T10:15:52.567211Z",
     "shell.execute_reply.started": "2021-10-15T10:15:06.039899Z"
    },
    "papermill": {
     "duration": 0.030856,
     "end_time": "2021-10-15T10:15:52.567443",
     "exception": false,
     "start_time": "2021-10-15T10:15:52.536587",
     "status": "completed"
    },
    "tags": []
   },
   "outputs": [
    {
     "name": "stdout",
     "output_type": "stream",
     "text": [
      "Shape of train set: (1259, 305)\n",
      "Shape of test set: (201, 305)\n"
     ]
    }
   ],
   "source": [
    "print(f\"Shape of train set: {train_df.shape}\")\n",
    "print(f\"Shape of test set: {test_df.shape}\")"
   ]
  },
  {
   "cell_type": "markdown",
   "id": "448796b9",
   "metadata": {
    "papermill": {
     "duration": 0.021255,
     "end_time": "2021-10-15T10:15:52.611248",
     "exception": false,
     "start_time": "2021-10-15T10:15:52.589993",
     "status": "completed"
    },
    "tags": []
   },
   "source": [
    "## Standardization of values"
   ]
  },
  {
   "cell_type": "code",
   "execution_count": 10,
   "id": "bd740975",
   "metadata": {
    "execution": {
     "iopub.execute_input": "2021-10-15T10:15:52.662802Z",
     "iopub.status.busy": "2021-10-15T10:15:52.662120Z",
     "iopub.status.idle": "2021-10-15T10:15:52.671442Z",
     "shell.execute_reply": "2021-10-15T10:15:52.670952Z",
     "shell.execute_reply.started": "2021-10-15T10:15:07.743732Z"
    },
    "papermill": {
     "duration": 0.03853,
     "end_time": "2021-10-15T10:15:52.671582",
     "exception": false,
     "start_time": "2021-10-15T10:15:52.633052",
     "status": "completed"
    },
    "tags": []
   },
   "outputs": [
    {
     "data": {
      "text/plain": [
       "StandardScaler()"
      ]
     },
     "execution_count": 10,
     "metadata": {},
     "output_type": "execute_result"
    }
   ],
   "source": [
    "scaler = StandardScaler()\n",
    "scaler.fit(train_df[num_columns])"
   ]
  },
  {
   "cell_type": "code",
   "execution_count": 11,
   "id": "4ce1ba6c",
   "metadata": {
    "execution": {
     "iopub.execute_input": "2021-10-15T10:15:52.722533Z",
     "iopub.status.busy": "2021-10-15T10:15:52.721736Z",
     "iopub.status.idle": "2021-10-15T10:15:52.751917Z",
     "shell.execute_reply": "2021-10-15T10:15:52.751360Z",
     "shell.execute_reply.started": "2021-10-15T10:15:10.072746Z"
    },
    "papermill": {
     "duration": 0.059185,
     "end_time": "2021-10-15T10:15:52.752066",
     "exception": false,
     "start_time": "2021-10-15T10:15:52.692881",
     "status": "completed"
    },
    "tags": []
   },
   "outputs": [],
   "source": [
    "train_df[num_columns] = scaler.transform(train_df[num_columns])\n",
    "test_df[num_columns] = scaler.transform(test_df[num_columns])"
   ]
  },
  {
   "cell_type": "code",
   "execution_count": 12,
   "id": "7cbba159",
   "metadata": {
    "execution": {
     "iopub.execute_input": "2021-10-15T10:15:52.800348Z",
     "iopub.status.busy": "2021-10-15T10:15:52.799553Z",
     "iopub.status.idle": "2021-10-15T10:15:52.803522Z",
     "shell.execute_reply": "2021-10-15T10:15:52.802654Z",
     "shell.execute_reply.started": "2021-10-15T10:15:12.033344Z"
    },
    "papermill": {
     "duration": 0.030223,
     "end_time": "2021-10-15T10:15:52.803704",
     "exception": false,
     "start_time": "2021-10-15T10:15:52.773481",
     "status": "completed"
    },
    "tags": []
   },
   "outputs": [
    {
     "name": "stdout",
     "output_type": "stream",
     "text": [
      "Shape of train set: (1259, 305)\n",
      "Shape of test set: (201, 305)\n"
     ]
    }
   ],
   "source": [
    "print(f\"Shape of train set: {train_df.shape}\")\n",
    "print(f\"Shape of test set: {test_df.shape}\")"
   ]
  },
  {
   "cell_type": "code",
   "execution_count": 13,
   "id": "46d4cdd1",
   "metadata": {
    "execution": {
     "iopub.execute_input": "2021-10-15T10:15:52.854415Z",
     "iopub.status.busy": "2021-10-15T10:15:52.853507Z",
     "iopub.status.idle": "2021-10-15T10:15:52.857124Z",
     "shell.execute_reply": "2021-10-15T10:15:52.856473Z",
     "shell.execute_reply.started": "2021-10-15T10:15:14.070790Z"
    },
    "papermill": {
     "duration": 0.030615,
     "end_time": "2021-10-15T10:15:52.857264",
     "exception": false,
     "start_time": "2021-10-15T10:15:52.826649",
     "status": "completed"
    },
    "tags": []
   },
   "outputs": [],
   "source": [
    "test_df = test_df.drop(['SalePrice'], axis=1)"
   ]
  },
  {
   "cell_type": "code",
   "execution_count": 14,
   "id": "9a3150a4",
   "metadata": {
    "execution": {
     "iopub.execute_input": "2021-10-15T10:15:52.907259Z",
     "iopub.status.busy": "2021-10-15T10:15:52.906349Z",
     "iopub.status.idle": "2021-10-15T10:15:52.909391Z",
     "shell.execute_reply": "2021-10-15T10:15:52.909892Z",
     "shell.execute_reply.started": "2021-10-15T10:15:16.399637Z"
    },
    "papermill": {
     "duration": 0.03116,
     "end_time": "2021-10-15T10:15:52.910058",
     "exception": false,
     "start_time": "2021-10-15T10:15:52.878898",
     "status": "completed"
    },
    "tags": []
   },
   "outputs": [],
   "source": [
    "train_labels = train_df['SalePrice']\n",
    "train_data = train_df.drop(['SalePrice'], axis=1)"
   ]
  },
  {
   "cell_type": "markdown",
   "id": "2268969e",
   "metadata": {
    "papermill": {
     "duration": 0.022137,
     "end_time": "2021-10-15T10:15:52.953659",
     "exception": false,
     "start_time": "2021-10-15T10:15:52.931522",
     "status": "completed"
    },
    "tags": []
   },
   "source": [
    "## XGBoost regressor model "
   ]
  },
  {
   "cell_type": "code",
   "execution_count": 15,
   "id": "8edf347c",
   "metadata": {
    "execution": {
     "iopub.execute_input": "2021-10-15T10:15:53.014307Z",
     "iopub.status.busy": "2021-10-15T10:15:53.013537Z",
     "iopub.status.idle": "2021-10-15T10:15:53.016565Z",
     "shell.execute_reply": "2021-10-15T10:15:53.015926Z",
     "shell.execute_reply.started": "2021-10-15T10:15:16.982798Z"
    },
    "papermill": {
     "duration": 0.036625,
     "end_time": "2021-10-15T10:15:53.016735",
     "exception": false,
     "start_time": "2021-10-15T10:15:52.980110",
     "status": "completed"
    },
    "tags": []
   },
   "outputs": [],
   "source": [
    "model = XGBRegressor(n_estimators=1000, max_depth=7, eta=0.1, subsample=0.7, colsample_bytree=0.8)"
   ]
  },
  {
   "cell_type": "code",
   "execution_count": 16,
   "id": "74b80ed2",
   "metadata": {
    "execution": {
     "iopub.execute_input": "2021-10-15T10:15:53.083315Z",
     "iopub.status.busy": "2021-10-15T10:15:53.082343Z",
     "iopub.status.idle": "2021-10-15T10:16:00.835385Z",
     "shell.execute_reply": "2021-10-15T10:16:00.834886Z",
     "shell.execute_reply.started": "2021-10-15T10:15:17.304227Z"
    },
    "papermill": {
     "duration": 7.794525,
     "end_time": "2021-10-15T10:16:00.835524",
     "exception": false,
     "start_time": "2021-10-15T10:15:53.040999",
     "status": "completed"
    },
    "tags": []
   },
   "outputs": [
    {
     "data": {
      "text/plain": [
       "XGBRegressor(base_score=0.5, booster='gbtree', colsample_bylevel=1,\n",
       "             colsample_bynode=1, colsample_bytree=0.8, eta=0.1, gamma=0,\n",
       "             gpu_id=-1, importance_type='gain', interaction_constraints='',\n",
       "             learning_rate=0.100000001, max_delta_step=0, max_depth=7,\n",
       "             min_child_weight=1, missing=nan, monotone_constraints='()',\n",
       "             n_estimators=1000, n_jobs=4, num_parallel_tree=1, random_state=0,\n",
       "             reg_alpha=0, reg_lambda=1, scale_pos_weight=1, subsample=0.7,\n",
       "             tree_method='exact', validate_parameters=1, verbosity=None)"
      ]
     },
     "execution_count": 16,
     "metadata": {},
     "output_type": "execute_result"
    }
   ],
   "source": [
    "model.fit(train_data, train_labels)"
   ]
  },
  {
   "cell_type": "code",
   "execution_count": 17,
   "id": "5b909859",
   "metadata": {
    "execution": {
     "iopub.execute_input": "2021-10-15T10:16:00.884703Z",
     "iopub.status.busy": "2021-10-15T10:16:00.884115Z",
     "iopub.status.idle": "2021-10-15T10:16:00.893724Z",
     "shell.execute_reply": "2021-10-15T10:16:00.894253Z",
     "shell.execute_reply.started": "2021-10-15T10:15:25.388784Z"
    },
    "papermill": {
     "duration": 0.037023,
     "end_time": "2021-10-15T10:16:00.894450",
     "exception": false,
     "start_time": "2021-10-15T10:16:00.857427",
     "status": "completed"
    },
    "tags": []
   },
   "outputs": [],
   "source": [
    "predictions = model.predict(test_df)"
   ]
  },
  {
   "cell_type": "code",
   "execution_count": 18,
   "id": "a704796c",
   "metadata": {
    "execution": {
     "iopub.execute_input": "2021-10-15T10:16:00.957654Z",
     "iopub.status.busy": "2021-10-15T10:16:00.948754Z",
     "iopub.status.idle": "2021-10-15T10:16:00.960260Z",
     "shell.execute_reply": "2021-10-15T10:16:00.960697Z",
     "shell.execute_reply.started": "2021-10-15T10:15:25.402296Z"
    },
    "papermill": {
     "duration": 0.042506,
     "end_time": "2021-10-15T10:16:00.960889",
     "exception": false,
     "start_time": "2021-10-15T10:16:00.918383",
     "status": "completed"
    },
    "tags": []
   },
   "outputs": [],
   "source": [
    "test_df['SalePrice'] = predictions\n",
    "test_df[num_columns] = scaler.inverse_transform(test_df[num_columns])\n",
    "test_df = pd.DataFrame(test_df, columns=train_df.columns)"
   ]
  },
  {
   "cell_type": "code",
   "execution_count": 19,
   "id": "08b0f93b",
   "metadata": {
    "execution": {
     "iopub.execute_input": "2021-10-15T10:16:01.012126Z",
     "iopub.status.busy": "2021-10-15T10:16:01.011053Z",
     "iopub.status.idle": "2021-10-15T10:16:01.015164Z",
     "shell.execute_reply": "2021-10-15T10:16:01.014536Z",
     "shell.execute_reply.started": "2021-10-15T10:15:25.425840Z"
    },
    "papermill": {
     "duration": 0.03237,
     "end_time": "2021-10-15T10:16:01.015299",
     "exception": false,
     "start_time": "2021-10-15T10:16:00.982929",
     "status": "completed"
    },
    "tags": []
   },
   "outputs": [],
   "source": [
    "# Create results dataframe\n",
    "results = pd.DataFrame()\n",
    "results['Id'] = or_test_df['Id']\n",
    "results['SalePrice'] = test_df['SalePrice']"
   ]
  },
  {
   "cell_type": "code",
   "execution_count": 20,
   "id": "892c006b",
   "metadata": {
    "execution": {
     "iopub.execute_input": "2021-10-15T10:16:01.065971Z",
     "iopub.status.busy": "2021-10-15T10:16:01.065275Z",
     "iopub.status.idle": "2021-10-15T10:16:01.075750Z",
     "shell.execute_reply": "2021-10-15T10:16:01.075252Z",
     "shell.execute_reply.started": "2021-10-15T10:15:29.844838Z"
    },
    "papermill": {
     "duration": 0.038745,
     "end_time": "2021-10-15T10:16:01.075939",
     "exception": false,
     "start_time": "2021-10-15T10:16:01.037194",
     "status": "completed"
    },
    "tags": []
   },
   "outputs": [
    {
     "data": {
      "text/html": [
       "<div>\n",
       "<style scoped>\n",
       "    .dataframe tbody tr th:only-of-type {\n",
       "        vertical-align: middle;\n",
       "    }\n",
       "\n",
       "    .dataframe tbody tr th {\n",
       "        vertical-align: top;\n",
       "    }\n",
       "\n",
       "    .dataframe thead th {\n",
       "        text-align: right;\n",
       "    }\n",
       "</style>\n",
       "<table border=\"1\" class=\"dataframe\">\n",
       "  <thead>\n",
       "    <tr style=\"text-align: right;\">\n",
       "      <th></th>\n",
       "      <th>Id</th>\n",
       "      <th>SalePrice</th>\n",
       "    </tr>\n",
       "  </thead>\n",
       "  <tbody>\n",
       "    <tr>\n",
       "      <th>0</th>\n",
       "      <td>1260</td>\n",
       "      <td>147256.836450</td>\n",
       "    </tr>\n",
       "    <tr>\n",
       "      <th>1</th>\n",
       "      <td>1261</td>\n",
       "      <td>189579.473014</td>\n",
       "    </tr>\n",
       "    <tr>\n",
       "      <th>2</th>\n",
       "      <td>1262</td>\n",
       "      <td>128060.538084</td>\n",
       "    </tr>\n",
       "    <tr>\n",
       "      <th>3</th>\n",
       "      <td>1263</td>\n",
       "      <td>137001.040897</td>\n",
       "    </tr>\n",
       "    <tr>\n",
       "      <th>4</th>\n",
       "      <td>1264</td>\n",
       "      <td>171706.058579</td>\n",
       "    </tr>\n",
       "  </tbody>\n",
       "</table>\n",
       "</div>"
      ],
      "text/plain": [
       "     Id      SalePrice\n",
       "0  1260  147256.836450\n",
       "1  1261  189579.473014\n",
       "2  1262  128060.538084\n",
       "3  1263  137001.040897\n",
       "4  1264  171706.058579"
      ]
     },
     "execution_count": 20,
     "metadata": {},
     "output_type": "execute_result"
    }
   ],
   "source": [
    "results.head()"
   ]
  },
  {
   "cell_type": "code",
   "execution_count": 21,
   "id": "ea80ce41",
   "metadata": {
    "execution": {
     "iopub.execute_input": "2021-10-15T10:16:01.128025Z",
     "iopub.status.busy": "2021-10-15T10:16:01.127323Z",
     "iopub.status.idle": "2021-10-15T10:16:01.133593Z",
     "shell.execute_reply": "2021-10-15T10:16:01.132968Z",
     "shell.execute_reply.started": "2021-10-15T10:15:30.768511Z"
    },
    "papermill": {
     "duration": 0.035104,
     "end_time": "2021-10-15T10:16:01.133725",
     "exception": false,
     "start_time": "2021-10-15T10:16:01.098621",
     "status": "completed"
    },
    "tags": []
   },
   "outputs": [],
   "source": [
    "results.to_csv('submissions.csv', index=False)"
   ]
  },
  {
   "cell_type": "code",
   "execution_count": null,
   "id": "abe93e7c",
   "metadata": {
    "papermill": {
     "duration": 0.022428,
     "end_time": "2021-10-15T10:16:01.178916",
     "exception": false,
     "start_time": "2021-10-15T10:16:01.156488",
     "status": "completed"
    },
    "tags": []
   },
   "outputs": [],
   "source": []
  }
 ],
 "metadata": {
  "kernelspec": {
   "display_name": "Python 3",
   "language": "python",
   "name": "python3"
  },
  "language_info": {
   "codemirror_mode": {
    "name": "ipython",
    "version": 3
   },
   "file_extension": ".py",
   "mimetype": "text/x-python",
   "name": "python",
   "nbconvert_exporter": "python",
   "pygments_lexer": "ipython3",
   "version": "3.7.10"
  },
  "papermill": {
   "default_parameters": {},
   "duration": 19.539249,
   "end_time": "2021-10-15T10:16:01.811011",
   "environment_variables": {},
   "exception": null,
   "input_path": "__notebook__.ipynb",
   "output_path": "__notebook__.ipynb",
   "parameters": {},
   "start_time": "2021-10-15T10:15:42.271762",
   "version": "2.3.3"
  }
 },
 "nbformat": 4,
 "nbformat_minor": 5
}
