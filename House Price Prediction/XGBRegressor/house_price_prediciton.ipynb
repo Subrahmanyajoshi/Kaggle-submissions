{
 "cells": [
  {
   "cell_type": "code",
   "execution_count": 1,
   "id": "aa2bf4d0",
   "metadata": {
    "_cell_guid": "b1076dfc-b9ad-4769-8c92-a6c4dae69d19",
    "_uuid": "8f2839f25d086af736a60e9eeb907d3b93b6e0e5",
    "execution": {
     "iopub.execute_input": "2021-10-15T06:35:22.583997Z",
     "iopub.status.busy": "2021-10-15T06:35:22.582298Z",
     "iopub.status.idle": "2021-10-15T06:35:23.646276Z",
     "shell.execute_reply": "2021-10-15T06:35:23.645228Z",
     "shell.execute_reply.started": "2021-10-15T06:32:02.610639Z"
    },
    "papermill": {
     "duration": 1.091401,
     "end_time": "2021-10-15T06:35:23.646503",
     "exception": false,
     "start_time": "2021-10-15T06:35:22.555102",
     "status": "completed"
    },
    "tags": []
   },
   "outputs": [
    {
     "name": "stdout",
     "output_type": "stream",
     "text": [
      "/kaggle/input/neolen-house-price-prediction/sample_submission.csv\n",
      "/kaggle/input/neolen-house-price-prediction/data_description.txt\n",
      "/kaggle/input/neolen-house-price-prediction/train.csv\n",
      "/kaggle/input/neolen-house-price-prediction/test.csv\n",
      "/kaggle/input/neolen-house-price-prediction/house-prices-advanced-regression-techniques.zip\n"
     ]
    }
   ],
   "source": [
    "# This Python 3 environment comes with many helpful analytics libraries installed\n",
    "# It is defined by the kaggle/python Docker image: https://github.com/kaggle/docker-python\n",
    "# For example, here's several helpful packages to load\n",
    "\n",
    "import numpy as np # linear algebra\n",
    "import pandas as pd # data processing, CSV file I/O (e.g. pd.read_csv)\n",
    "from sklearn.preprocessing import LabelEncoder\n",
    "from sklearn.preprocessing import StandardScaler, MinMaxScaler\n",
    "from xgboost import XGBRegressor\n",
    "\n",
    "# Input data files are available in the read-only \"../input/\" directory\n",
    "# For example, running this (by clicking run or pressing Shift+Enter) will list all files under the input directory\n",
    "\n",
    "import os\n",
    "for dirname, _, filenames in os.walk('/kaggle/input'):\n",
    "    for filename in filenames:\n",
    "        print(os.path.join(dirname, filename))\n",
    "\n",
    "# You can write up to 20GB to the current directory (/kaggle/working/) that gets preserved as output when you create a version using \"Save & Run All\" \n",
    "# You can also write temporary files to /kaggle/temp/, but they won't be saved outside of the current session"
   ]
  },
  {
   "cell_type": "code",
   "execution_count": 2,
   "id": "358bd7c8",
   "metadata": {
    "execution": {
     "iopub.execute_input": "2021-10-15T06:35:23.691075Z",
     "iopub.status.busy": "2021-10-15T06:35:23.690417Z",
     "iopub.status.idle": "2021-10-15T06:35:23.759146Z",
     "shell.execute_reply": "2021-10-15T06:35:23.758129Z",
     "shell.execute_reply.started": "2021-10-15T06:32:49.830055Z"
    },
    "papermill": {
     "duration": 0.091662,
     "end_time": "2021-10-15T06:35:23.759290",
     "exception": false,
     "start_time": "2021-10-15T06:35:23.667628",
     "status": "completed"
    },
    "tags": []
   },
   "outputs": [],
   "source": [
    "# Read csv files. And keep a copy of the original dataframes. tran_df and test_df will be used throughout this notebook for preprocessing and scaling.we need original test dataframe in the end \n",
    "or_train_df = pd.read_csv('/kaggle/input/neolen-house-price-prediction/train.csv')\n",
    "or_test_df = pd.read_csv('/kaggle/input/neolen-house-price-prediction/test.csv')\n",
    "\n",
    "train_df = or_train_df\n",
    "test_df = or_test_df"
   ]
  },
  {
   "cell_type": "code",
   "execution_count": 3,
   "id": "8a42cb0e",
   "metadata": {
    "execution": {
     "iopub.execute_input": "2021-10-15T06:35:23.811945Z",
     "iopub.status.busy": "2021-10-15T06:35:23.811270Z",
     "iopub.status.idle": "2021-10-15T06:35:23.814989Z",
     "shell.execute_reply": "2021-10-15T06:35:23.815428Z",
     "shell.execute_reply.started": "2021-10-15T06:32:50.010405Z"
    },
    "papermill": {
     "duration": 0.036485,
     "end_time": "2021-10-15T06:35:23.815595",
     "exception": false,
     "start_time": "2021-10-15T06:35:23.779110",
     "status": "completed"
    },
    "tags": []
   },
   "outputs": [],
   "source": [
    "# Dropping 'Id' column as it has no use in training\n",
    "train_df = train_df.drop(['Id'], axis=1)\n",
    "test_df = test_df.drop(['Id'], axis=1)"
   ]
  },
  {
   "cell_type": "markdown",
   "id": "9296fcd6",
   "metadata": {
    "papermill": {
     "duration": 0.019666,
     "end_time": "2021-10-15T06:35:23.854948",
     "exception": false,
     "start_time": "2021-10-15T06:35:23.835282",
     "status": "completed"
    },
    "tags": []
   },
   "source": [
    "## Replace NaNs\n",
    "**While replacing we have to make sure to replace it with '0' (character) in case of a string column and 0 (number) if otherwise**"
   ]
  },
  {
   "cell_type": "code",
   "execution_count": 4,
   "id": "fb4f0d50",
   "metadata": {
    "execution": {
     "iopub.execute_input": "2021-10-15T06:35:23.903553Z",
     "iopub.status.busy": "2021-10-15T06:35:23.902888Z",
     "iopub.status.idle": "2021-10-15T06:35:23.983258Z",
     "shell.execute_reply": "2021-10-15T06:35:23.982453Z",
     "shell.execute_reply.started": "2021-10-15T06:32:52.308509Z"
    },
    "papermill": {
     "duration": 0.1086,
     "end_time": "2021-10-15T06:35:23.983429",
     "exception": false,
     "start_time": "2021-10-15T06:35:23.874829",
     "status": "completed"
    },
    "tags": []
   },
   "outputs": [],
   "source": [
    "str_columns = []\n",
    "num_columns = []\n",
    "\n",
    "def convert_to_str(df):\n",
    "    for col in df.columns:\n",
    "        if (df[col].dtype == np.int64 or df[col].dtype == np.float64):\n",
    "            df[col] = df[col].fillna(0)\n",
    "            if col not in num_columns:\n",
    "                num_columns.append(col)\n",
    "        else:\n",
    "            df[col] = df[col].fillna('0')\n",
    "            if col not in str_columns:\n",
    "                str_columns.append(col)\n",
    "    return df\n",
    "\n",
    "train_df = convert_to_str(train_df)\n",
    "test_df = convert_to_str(test_df)"
   ]
  },
  {
   "cell_type": "code",
   "execution_count": 5,
   "id": "89d18a26",
   "metadata": {
    "execution": {
     "iopub.execute_input": "2021-10-15T06:35:24.032556Z",
     "iopub.status.busy": "2021-10-15T06:35:24.031909Z",
     "iopub.status.idle": "2021-10-15T06:35:24.053402Z",
     "shell.execute_reply": "2021-10-15T06:35:24.053909Z",
     "shell.execute_reply.started": "2021-10-15T06:32:54.669263Z"
    },
    "papermill": {
     "duration": 0.050536,
     "end_time": "2021-10-15T06:35:24.054075",
     "exception": false,
     "start_time": "2021-10-15T06:35:24.003539",
     "status": "completed"
    },
    "tags": []
   },
   "outputs": [
    {
     "data": {
      "text/html": [
       "<div>\n",
       "<style scoped>\n",
       "    .dataframe tbody tr th:only-of-type {\n",
       "        vertical-align: middle;\n",
       "    }\n",
       "\n",
       "    .dataframe tbody tr th {\n",
       "        vertical-align: top;\n",
       "    }\n",
       "\n",
       "    .dataframe thead th {\n",
       "        text-align: right;\n",
       "    }\n",
       "</style>\n",
       "<table border=\"1\" class=\"dataframe\">\n",
       "  <thead>\n",
       "    <tr style=\"text-align: right;\">\n",
       "      <th></th>\n",
       "      <th>MSSubClass</th>\n",
       "      <th>MSZoning</th>\n",
       "      <th>LotFrontage</th>\n",
       "      <th>LotArea</th>\n",
       "      <th>Street</th>\n",
       "      <th>Alley</th>\n",
       "      <th>LotShape</th>\n",
       "      <th>LandContour</th>\n",
       "      <th>Utilities</th>\n",
       "      <th>LotConfig</th>\n",
       "      <th>...</th>\n",
       "      <th>PoolArea</th>\n",
       "      <th>PoolQC</th>\n",
       "      <th>Fence</th>\n",
       "      <th>MiscFeature</th>\n",
       "      <th>MiscVal</th>\n",
       "      <th>MoSold</th>\n",
       "      <th>YrSold</th>\n",
       "      <th>SaleType</th>\n",
       "      <th>SaleCondition</th>\n",
       "      <th>SalePrice</th>\n",
       "    </tr>\n",
       "  </thead>\n",
       "  <tbody>\n",
       "    <tr>\n",
       "      <th>0</th>\n",
       "      <td>60</td>\n",
       "      <td>RL</td>\n",
       "      <td>65.0</td>\n",
       "      <td>8450</td>\n",
       "      <td>Pave</td>\n",
       "      <td>0</td>\n",
       "      <td>Reg</td>\n",
       "      <td>Lvl</td>\n",
       "      <td>AllPub</td>\n",
       "      <td>Inside</td>\n",
       "      <td>...</td>\n",
       "      <td>0</td>\n",
       "      <td>0</td>\n",
       "      <td>0</td>\n",
       "      <td>0</td>\n",
       "      <td>0</td>\n",
       "      <td>2</td>\n",
       "      <td>2008</td>\n",
       "      <td>WD</td>\n",
       "      <td>Normal</td>\n",
       "      <td>208500</td>\n",
       "    </tr>\n",
       "    <tr>\n",
       "      <th>1</th>\n",
       "      <td>20</td>\n",
       "      <td>RL</td>\n",
       "      <td>80.0</td>\n",
       "      <td>9600</td>\n",
       "      <td>Pave</td>\n",
       "      <td>0</td>\n",
       "      <td>Reg</td>\n",
       "      <td>Lvl</td>\n",
       "      <td>AllPub</td>\n",
       "      <td>FR2</td>\n",
       "      <td>...</td>\n",
       "      <td>0</td>\n",
       "      <td>0</td>\n",
       "      <td>0</td>\n",
       "      <td>0</td>\n",
       "      <td>0</td>\n",
       "      <td>5</td>\n",
       "      <td>2007</td>\n",
       "      <td>WD</td>\n",
       "      <td>Normal</td>\n",
       "      <td>181500</td>\n",
       "    </tr>\n",
       "  </tbody>\n",
       "</table>\n",
       "<p>2 rows × 80 columns</p>\n",
       "</div>"
      ],
      "text/plain": [
       "   MSSubClass MSZoning  LotFrontage  LotArea Street Alley LotShape  \\\n",
       "0          60       RL         65.0     8450   Pave     0      Reg   \n",
       "1          20       RL         80.0     9600   Pave     0      Reg   \n",
       "\n",
       "  LandContour Utilities LotConfig  ... PoolArea PoolQC Fence MiscFeature  \\\n",
       "0         Lvl    AllPub    Inside  ...        0      0     0           0   \n",
       "1         Lvl    AllPub       FR2  ...        0      0     0           0   \n",
       "\n",
       "  MiscVal MoSold  YrSold  SaleType  SaleCondition  SalePrice  \n",
       "0       0      2    2008        WD         Normal     208500  \n",
       "1       0      5    2007        WD         Normal     181500  \n",
       "\n",
       "[2 rows x 80 columns]"
      ]
     },
     "execution_count": 5,
     "metadata": {},
     "output_type": "execute_result"
    }
   ],
   "source": [
    "train_df.head(n=2)"
   ]
  },
  {
   "cell_type": "markdown",
   "id": "187bac0c",
   "metadata": {
    "papermill": {
     "duration": 0.020154,
     "end_time": "2021-10-15T06:35:24.094348",
     "exception": false,
     "start_time": "2021-10-15T06:35:24.074194",
     "status": "completed"
    },
    "tags": []
   },
   "source": [
    "## Encoding string values in dataframe to numbers"
   ]
  },
  {
   "cell_type": "code",
   "execution_count": 6,
   "id": "bd7b604b",
   "metadata": {
    "execution": {
     "iopub.execute_input": "2021-10-15T06:35:24.139819Z",
     "iopub.status.busy": "2021-10-15T06:35:24.139179Z",
     "iopub.status.idle": "2021-10-15T06:35:24.210137Z",
     "shell.execute_reply": "2021-10-15T06:35:24.210635Z",
     "shell.execute_reply.started": "2021-10-15T06:33:00.403844Z"
    },
    "papermill": {
     "duration": 0.094859,
     "end_time": "2021-10-15T06:35:24.210826",
     "exception": false,
     "start_time": "2021-10-15T06:35:24.115967",
     "status": "completed"
    },
    "tags": []
   },
   "outputs": [],
   "source": [
    "for col in str_columns:\n",
    "    le = LabelEncoder()\n",
    "    train_df[col] = le.fit_transform(train_df[col])\n",
    "    test_df[col] = le.fit_transform(test_df[col])"
   ]
  },
  {
   "cell_type": "code",
   "execution_count": 7,
   "id": "5d4f1dd1",
   "metadata": {
    "execution": {
     "iopub.execute_input": "2021-10-15T06:35:24.253920Z",
     "iopub.status.busy": "2021-10-15T06:35:24.253306Z",
     "iopub.status.idle": "2021-10-15T06:35:24.259054Z",
     "shell.execute_reply": "2021-10-15T06:35:24.259537Z",
     "shell.execute_reply.started": "2021-10-15T06:33:05.634183Z"
    },
    "papermill": {
     "duration": 0.028675,
     "end_time": "2021-10-15T06:35:24.259713",
     "exception": false,
     "start_time": "2021-10-15T06:35:24.231038",
     "status": "completed"
    },
    "tags": []
   },
   "outputs": [],
   "source": [
    "# Add a dummy SalePrice column to test dataframe to scale it \n",
    "test_df['SalePrice'] = train_df['SalePrice'].iloc[:201]"
   ]
  },
  {
   "cell_type": "markdown",
   "id": "84450662",
   "metadata": {
    "papermill": {
     "duration": 0.020022,
     "end_time": "2021-10-15T06:35:24.299828",
     "exception": false,
     "start_time": "2021-10-15T06:35:24.279806",
     "status": "completed"
    },
    "tags": []
   },
   "source": [
    "## Standardization of values"
   ]
  },
  {
   "cell_type": "code",
   "execution_count": 8,
   "id": "f035acab",
   "metadata": {
    "execution": {
     "iopub.execute_input": "2021-10-15T06:35:24.343249Z",
     "iopub.status.busy": "2021-10-15T06:35:24.342632Z",
     "iopub.status.idle": "2021-10-15T06:35:24.356999Z",
     "shell.execute_reply": "2021-10-15T06:35:24.357448Z",
     "shell.execute_reply.started": "2021-10-15T06:33:17.541100Z"
    },
    "papermill": {
     "duration": 0.037526,
     "end_time": "2021-10-15T06:35:24.357618",
     "exception": false,
     "start_time": "2021-10-15T06:35:24.320092",
     "status": "completed"
    },
    "tags": []
   },
   "outputs": [
    {
     "data": {
      "text/plain": [
       "StandardScaler()"
      ]
     },
     "execution_count": 8,
     "metadata": {},
     "output_type": "execute_result"
    }
   ],
   "source": [
    "scaler = StandardScaler()\n",
    "scaler.fit(train_df)"
   ]
  },
  {
   "cell_type": "code",
   "execution_count": 9,
   "id": "4b6c16a5",
   "metadata": {
    "execution": {
     "iopub.execute_input": "2021-10-15T06:35:24.406339Z",
     "iopub.status.busy": "2021-10-15T06:35:24.405347Z",
     "iopub.status.idle": "2021-10-15T06:35:24.412439Z",
     "shell.execute_reply": "2021-10-15T06:35:24.412911Z",
     "shell.execute_reply.started": "2021-10-15T06:33:20.954349Z"
    },
    "papermill": {
     "duration": 0.03503,
     "end_time": "2021-10-15T06:35:24.413085",
     "exception": false,
     "start_time": "2021-10-15T06:35:24.378055",
     "status": "completed"
    },
    "tags": []
   },
   "outputs": [],
   "source": [
    "train_data = scaler.transform(train_df)\n",
    "test_data = scaler.transform(test_df)"
   ]
  },
  {
   "cell_type": "code",
   "execution_count": 10,
   "id": "10145c1c",
   "metadata": {
    "execution": {
     "iopub.execute_input": "2021-10-15T06:35:24.459547Z",
     "iopub.status.busy": "2021-10-15T06:35:24.456835Z",
     "iopub.status.idle": "2021-10-15T06:35:24.462421Z",
     "shell.execute_reply": "2021-10-15T06:35:24.461810Z",
     "shell.execute_reply.started": "2021-10-15T06:33:21.732533Z"
    },
    "papermill": {
     "duration": 0.028967,
     "end_time": "2021-10-15T06:35:24.462560",
     "exception": false,
     "start_time": "2021-10-15T06:35:24.433593",
     "status": "completed"
    },
    "tags": []
   },
   "outputs": [],
   "source": [
    "train_df = pd.DataFrame(train_data, columns=train_df.columns)\n",
    "test_df = pd.DataFrame(test_data, columns=test_df.columns)"
   ]
  },
  {
   "cell_type": "code",
   "execution_count": 11,
   "id": "77bf87c3",
   "metadata": {
    "execution": {
     "iopub.execute_input": "2021-10-15T06:35:24.509576Z",
     "iopub.status.busy": "2021-10-15T06:35:24.508614Z",
     "iopub.status.idle": "2021-10-15T06:35:24.511463Z",
     "shell.execute_reply": "2021-10-15T06:35:24.510858Z",
     "shell.execute_reply.started": "2021-10-15T06:33:22.411551Z"
    },
    "papermill": {
     "duration": 0.02828,
     "end_time": "2021-10-15T06:35:24.511599",
     "exception": false,
     "start_time": "2021-10-15T06:35:24.483319",
     "status": "completed"
    },
    "tags": []
   },
   "outputs": [],
   "source": [
    "test_df = test_df.drop(['SalePrice'], axis=1)"
   ]
  },
  {
   "cell_type": "code",
   "execution_count": 12,
   "id": "3d72563c",
   "metadata": {
    "execution": {
     "iopub.execute_input": "2021-10-15T06:35:24.566500Z",
     "iopub.status.busy": "2021-10-15T06:35:24.565521Z",
     "iopub.status.idle": "2021-10-15T06:35:24.578557Z",
     "shell.execute_reply": "2021-10-15T06:35:24.577937Z",
     "shell.execute_reply.started": "2021-10-15T06:33:24.411334Z"
    },
    "papermill": {
     "duration": 0.046544,
     "end_time": "2021-10-15T06:35:24.578714",
     "exception": false,
     "start_time": "2021-10-15T06:35:24.532170",
     "status": "completed"
    },
    "tags": []
   },
   "outputs": [
    {
     "data": {
      "text/html": [
       "<div>\n",
       "<style scoped>\n",
       "    .dataframe tbody tr th:only-of-type {\n",
       "        vertical-align: middle;\n",
       "    }\n",
       "\n",
       "    .dataframe tbody tr th {\n",
       "        vertical-align: top;\n",
       "    }\n",
       "\n",
       "    .dataframe thead th {\n",
       "        text-align: right;\n",
       "    }\n",
       "</style>\n",
       "<table border=\"1\" class=\"dataframe\">\n",
       "  <thead>\n",
       "    <tr style=\"text-align: right;\">\n",
       "      <th></th>\n",
       "      <th>MSSubClass</th>\n",
       "      <th>MSZoning</th>\n",
       "      <th>LotFrontage</th>\n",
       "      <th>LotArea</th>\n",
       "      <th>Street</th>\n",
       "      <th>Alley</th>\n",
       "      <th>LotShape</th>\n",
       "      <th>LandContour</th>\n",
       "      <th>Utilities</th>\n",
       "      <th>LotConfig</th>\n",
       "      <th>...</th>\n",
       "      <th>ScreenPorch</th>\n",
       "      <th>PoolArea</th>\n",
       "      <th>PoolQC</th>\n",
       "      <th>Fence</th>\n",
       "      <th>MiscFeature</th>\n",
       "      <th>MiscVal</th>\n",
       "      <th>MoSold</th>\n",
       "      <th>YrSold</th>\n",
       "      <th>SaleType</th>\n",
       "      <th>SaleCondition</th>\n",
       "    </tr>\n",
       "  </thead>\n",
       "  <tbody>\n",
       "    <tr>\n",
       "      <th>0</th>\n",
       "      <td>-0.871918</td>\n",
       "      <td>-0.036322</td>\n",
       "      <td>0.206318</td>\n",
       "      <td>-0.074542</td>\n",
       "      <td>-14.451067</td>\n",
       "      <td>-0.238904</td>\n",
       "      <td>0.756592</td>\n",
       "      <td>0.310085</td>\n",
       "      <td>-0.028194</td>\n",
       "      <td>-0.618896</td>\n",
       "      <td>...</td>\n",
       "      <td>1.208226</td>\n",
       "      <td>-0.056248</td>\n",
       "      <td>-0.051004</td>\n",
       "      <td>-0.451289</td>\n",
       "      <td>-0.203162</td>\n",
       "      <td>-0.087433</td>\n",
       "      <td>0.255175</td>\n",
       "      <td>0.151227</td>\n",
       "      <td>-2.859626</td>\n",
       "      <td>-0.667876</td>\n",
       "    </tr>\n",
       "    <tr>\n",
       "      <th>1</th>\n",
       "      <td>0.072887</td>\n",
       "      <td>-0.036322</td>\n",
       "      <td>-1.701485</td>\n",
       "      <td>1.362959</td>\n",
       "      <td>-14.451067</td>\n",
       "      <td>-0.238904</td>\n",
       "      <td>0.048377</td>\n",
       "      <td>0.310085</td>\n",
       "      <td>-0.028194</td>\n",
       "      <td>-1.231949</td>\n",
       "      <td>...</td>\n",
       "      <td>-0.271282</td>\n",
       "      <td>-0.056248</td>\n",
       "      <td>-0.051004</td>\n",
       "      <td>-0.451289</td>\n",
       "      <td>-0.203162</td>\n",
       "      <td>-0.087433</td>\n",
       "      <td>-0.117523</td>\n",
       "      <td>0.906760</td>\n",
       "      <td>-2.859626</td>\n",
       "      <td>-0.667876</td>\n",
       "    </tr>\n",
       "  </tbody>\n",
       "</table>\n",
       "<p>2 rows × 79 columns</p>\n",
       "</div>"
      ],
      "text/plain": [
       "   MSSubClass  MSZoning  LotFrontage   LotArea     Street     Alley  LotShape  \\\n",
       "0   -0.871918 -0.036322     0.206318 -0.074542 -14.451067 -0.238904  0.756592   \n",
       "1    0.072887 -0.036322    -1.701485  1.362959 -14.451067 -0.238904  0.048377   \n",
       "\n",
       "   LandContour  Utilities  LotConfig  ...  ScreenPorch  PoolArea    PoolQC  \\\n",
       "0     0.310085  -0.028194  -0.618896  ...     1.208226 -0.056248 -0.051004   \n",
       "1     0.310085  -0.028194  -1.231949  ...    -0.271282 -0.056248 -0.051004   \n",
       "\n",
       "      Fence  MiscFeature   MiscVal    MoSold    YrSold  SaleType  \\\n",
       "0 -0.451289    -0.203162 -0.087433  0.255175  0.151227 -2.859626   \n",
       "1 -0.451289    -0.203162 -0.087433 -0.117523  0.906760 -2.859626   \n",
       "\n",
       "   SaleCondition  \n",
       "0      -0.667876  \n",
       "1      -0.667876  \n",
       "\n",
       "[2 rows x 79 columns]"
      ]
     },
     "execution_count": 12,
     "metadata": {},
     "output_type": "execute_result"
    }
   ],
   "source": [
    "test_df.head(n=2)"
   ]
  },
  {
   "cell_type": "code",
   "execution_count": 13,
   "id": "66b172d7",
   "metadata": {
    "execution": {
     "iopub.execute_input": "2021-10-15T06:35:24.626952Z",
     "iopub.status.busy": "2021-10-15T06:35:24.624023Z",
     "iopub.status.idle": "2021-10-15T06:35:24.629843Z",
     "shell.execute_reply": "2021-10-15T06:35:24.629312Z",
     "shell.execute_reply.started": "2021-10-15T06:33:24.715511Z"
    },
    "papermill": {
     "duration": 0.030066,
     "end_time": "2021-10-15T06:35:24.629987",
     "exception": false,
     "start_time": "2021-10-15T06:35:24.599921",
     "status": "completed"
    },
    "tags": []
   },
   "outputs": [],
   "source": [
    "train_data = train_df[test_df.columns]\n",
    "train_labels = train_df['SalePrice']"
   ]
  },
  {
   "cell_type": "markdown",
   "id": "cd98e3e2",
   "metadata": {
    "papermill": {
     "duration": 0.020684,
     "end_time": "2021-10-15T06:35:24.671801",
     "exception": false,
     "start_time": "2021-10-15T06:35:24.651117",
     "status": "completed"
    },
    "tags": []
   },
   "source": [
    "## XGBoost regressor model "
   ]
  },
  {
   "cell_type": "code",
   "execution_count": 14,
   "id": "b8603a82",
   "metadata": {
    "execution": {
     "iopub.execute_input": "2021-10-15T06:35:24.718920Z",
     "iopub.status.busy": "2021-10-15T06:35:24.718161Z",
     "iopub.status.idle": "2021-10-15T06:35:24.720828Z",
     "shell.execute_reply": "2021-10-15T06:35:24.720314Z",
     "shell.execute_reply.started": "2021-10-15T06:33:26.035953Z"
    },
    "papermill": {
     "duration": 0.028149,
     "end_time": "2021-10-15T06:35:24.720973",
     "exception": false,
     "start_time": "2021-10-15T06:35:24.692824",
     "status": "completed"
    },
    "tags": []
   },
   "outputs": [],
   "source": [
    "model = XGBRegressor(n_estimators=1000, max_depth=7, eta=0.1, subsample=0.7, colsample_bytree=0.8)"
   ]
  },
  {
   "cell_type": "code",
   "execution_count": 15,
   "id": "4214ae9f",
   "metadata": {
    "execution": {
     "iopub.execute_input": "2021-10-15T06:35:24.770239Z",
     "iopub.status.busy": "2021-10-15T06:35:24.769230Z",
     "iopub.status.idle": "2021-10-15T06:35:27.499370Z",
     "shell.execute_reply": "2021-10-15T06:35:27.498735Z",
     "shell.execute_reply.started": "2021-10-15T06:33:28.107411Z"
    },
    "papermill": {
     "duration": 2.757576,
     "end_time": "2021-10-15T06:35:27.499515",
     "exception": false,
     "start_time": "2021-10-15T06:35:24.741939",
     "status": "completed"
    },
    "tags": []
   },
   "outputs": [
    {
     "data": {
      "text/plain": [
       "XGBRegressor(base_score=0.5, booster='gbtree', colsample_bylevel=1,\n",
       "             colsample_bynode=1, colsample_bytree=0.8, eta=0.1, gamma=0,\n",
       "             gpu_id=-1, importance_type='gain', interaction_constraints='',\n",
       "             learning_rate=0.100000001, max_delta_step=0, max_depth=7,\n",
       "             min_child_weight=1, missing=nan, monotone_constraints='()',\n",
       "             n_estimators=1000, n_jobs=4, num_parallel_tree=1, random_state=0,\n",
       "             reg_alpha=0, reg_lambda=1, scale_pos_weight=1, subsample=0.7,\n",
       "             tree_method='exact', validate_parameters=1, verbosity=None)"
      ]
     },
     "execution_count": 15,
     "metadata": {},
     "output_type": "execute_result"
    }
   ],
   "source": [
    "model.fit(train_data, train_labels)"
   ]
  },
  {
   "cell_type": "code",
   "execution_count": 16,
   "id": "33c4f740",
   "metadata": {
    "execution": {
     "iopub.execute_input": "2021-10-15T06:35:27.545462Z",
     "iopub.status.busy": "2021-10-15T06:35:27.544513Z",
     "iopub.status.idle": "2021-10-15T06:35:27.557623Z",
     "shell.execute_reply": "2021-10-15T06:35:27.557024Z",
     "shell.execute_reply.started": "2021-10-15T06:33:30.195143Z"
    },
    "papermill": {
     "duration": 0.037217,
     "end_time": "2021-10-15T06:35:27.557796",
     "exception": false,
     "start_time": "2021-10-15T06:35:27.520579",
     "status": "completed"
    },
    "tags": []
   },
   "outputs": [],
   "source": [
    "predictions = model.predict(test_df)"
   ]
  },
  {
   "cell_type": "code",
   "execution_count": 17,
   "id": "24d4a806",
   "metadata": {
    "execution": {
     "iopub.execute_input": "2021-10-15T06:35:27.610245Z",
     "iopub.status.busy": "2021-10-15T06:35:27.609582Z",
     "iopub.status.idle": "2021-10-15T06:35:27.612012Z",
     "shell.execute_reply": "2021-10-15T06:35:27.612524Z",
     "shell.execute_reply.started": "2021-10-15T06:33:30.208571Z"
    },
    "papermill": {
     "duration": 0.03093,
     "end_time": "2021-10-15T06:35:27.612708",
     "exception": false,
     "start_time": "2021-10-15T06:35:27.581778",
     "status": "completed"
    },
    "tags": []
   },
   "outputs": [],
   "source": [
    "test_df['SalePrice'] = predictions\n",
    "test_df = scaler.inverse_transform(test_df)\n",
    "test_df = pd.DataFrame(test_df, columns=train_df.columns)"
   ]
  },
  {
   "cell_type": "code",
   "execution_count": 18,
   "id": "2068ca28",
   "metadata": {
    "execution": {
     "iopub.execute_input": "2021-10-15T06:35:27.658409Z",
     "iopub.status.busy": "2021-10-15T06:35:27.657807Z",
     "iopub.status.idle": "2021-10-15T06:35:27.663852Z",
     "shell.execute_reply": "2021-10-15T06:35:27.664352Z",
     "shell.execute_reply.started": "2021-10-15T06:33:30.220327Z"
    },
    "papermill": {
     "duration": 0.030418,
     "end_time": "2021-10-15T06:35:27.664508",
     "exception": false,
     "start_time": "2021-10-15T06:35:27.634090",
     "status": "completed"
    },
    "tags": []
   },
   "outputs": [],
   "source": [
    "# Create results dataframe\n",
    "results = pd.DataFrame()\n",
    "results['Id'] = or_test_df['Id']\n",
    "results['SalePrice'] = test_df['SalePrice']"
   ]
  },
  {
   "cell_type": "code",
   "execution_count": 19,
   "id": "5bb81fa0",
   "metadata": {
    "execution": {
     "iopub.execute_input": "2021-10-15T06:35:27.715972Z",
     "iopub.status.busy": "2021-10-15T06:35:27.715294Z",
     "iopub.status.idle": "2021-10-15T06:35:27.717823Z",
     "shell.execute_reply": "2021-10-15T06:35:27.718292Z",
     "shell.execute_reply.started": "2021-10-15T06:33:30.491224Z"
    },
    "papermill": {
     "duration": 0.032498,
     "end_time": "2021-10-15T06:35:27.718452",
     "exception": false,
     "start_time": "2021-10-15T06:35:27.685954",
     "status": "completed"
    },
    "tags": []
   },
   "outputs": [
    {
     "data": {
      "text/html": [
       "<div>\n",
       "<style scoped>\n",
       "    .dataframe tbody tr th:only-of-type {\n",
       "        vertical-align: middle;\n",
       "    }\n",
       "\n",
       "    .dataframe tbody tr th {\n",
       "        vertical-align: top;\n",
       "    }\n",
       "\n",
       "    .dataframe thead th {\n",
       "        text-align: right;\n",
       "    }\n",
       "</style>\n",
       "<table border=\"1\" class=\"dataframe\">\n",
       "  <thead>\n",
       "    <tr style=\"text-align: right;\">\n",
       "      <th></th>\n",
       "      <th>Id</th>\n",
       "      <th>SalePrice</th>\n",
       "    </tr>\n",
       "  </thead>\n",
       "  <tbody>\n",
       "    <tr>\n",
       "      <th>0</th>\n",
       "      <td>1260</td>\n",
       "      <td>141110.494646</td>\n",
       "    </tr>\n",
       "    <tr>\n",
       "      <th>1</th>\n",
       "      <td>1261</td>\n",
       "      <td>173641.485872</td>\n",
       "    </tr>\n",
       "    <tr>\n",
       "      <th>2</th>\n",
       "      <td>1262</td>\n",
       "      <td>120053.156420</td>\n",
       "    </tr>\n",
       "    <tr>\n",
       "      <th>3</th>\n",
       "      <td>1263</td>\n",
       "      <td>139107.531678</td>\n",
       "    </tr>\n",
       "    <tr>\n",
       "      <th>4</th>\n",
       "      <td>1264</td>\n",
       "      <td>170916.728926</td>\n",
       "    </tr>\n",
       "  </tbody>\n",
       "</table>\n",
       "</div>"
      ],
      "text/plain": [
       "     Id      SalePrice\n",
       "0  1260  141110.494646\n",
       "1  1261  173641.485872\n",
       "2  1262  120053.156420\n",
       "3  1263  139107.531678\n",
       "4  1264  170916.728926"
      ]
     },
     "execution_count": 19,
     "metadata": {},
     "output_type": "execute_result"
    }
   ],
   "source": [
    "results.head()"
   ]
  },
  {
   "cell_type": "code",
   "execution_count": 20,
   "id": "d40afa8f",
   "metadata": {
    "execution": {
     "iopub.execute_input": "2021-10-15T06:35:27.766901Z",
     "iopub.status.busy": "2021-10-15T06:35:27.764979Z",
     "iopub.status.idle": "2021-10-15T06:35:27.772830Z",
     "shell.execute_reply": "2021-10-15T06:35:27.772173Z",
     "shell.execute_reply.started": "2021-10-15T06:33:30.691656Z"
    },
    "papermill": {
     "duration": 0.032785,
     "end_time": "2021-10-15T06:35:27.772974",
     "exception": false,
     "start_time": "2021-10-15T06:35:27.740189",
     "status": "completed"
    },
    "tags": []
   },
   "outputs": [],
   "source": [
    "results.to_csv('submissions.csv', index=False)"
   ]
  },
  {
   "cell_type": "code",
   "execution_count": null,
   "id": "1b4bbeb6",
   "metadata": {
    "papermill": {
     "duration": 0.02135,
     "end_time": "2021-10-15T06:35:27.816292",
     "exception": false,
     "start_time": "2021-10-15T06:35:27.794942",
     "status": "completed"
    },
    "tags": []
   },
   "outputs": [],
   "source": []
  }
 ],
 "metadata": {
  "kernelspec": {
   "display_name": "Python 3",
   "language": "python",
   "name": "python3"
  },
  "language_info": {
   "codemirror_mode": {
    "name": "ipython",
    "version": 3
   },
   "file_extension": ".py",
   "mimetype": "text/x-python",
   "name": "python",
   "nbconvert_exporter": "python",
   "pygments_lexer": "ipython3",
   "version": "3.7.10"
  },
  "papermill": {
   "default_parameters": {},
   "duration": 14.820109,
   "end_time": "2021-10-15T06:35:28.959172",
   "environment_variables": {},
   "exception": null,
   "input_path": "__notebook__.ipynb",
   "output_path": "__notebook__.ipynb",
   "parameters": {},
   "start_time": "2021-10-15T06:35:14.139063",
   "version": "2.3.3"
  }
 },
 "nbformat": 4,
 "nbformat_minor": 5
}
