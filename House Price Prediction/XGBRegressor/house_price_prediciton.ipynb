{
 "cells": [
  {
   "cell_type": "code",
   "execution_count": 1,
   "id": "9634e674",
   "metadata": {
    "_cell_guid": "b1076dfc-b9ad-4769-8c92-a6c4dae69d19",
    "_uuid": "8f2839f25d086af736a60e9eeb907d3b93b6e0e5",
    "execution": {
     "iopub.execute_input": "2021-10-10T12:52:47.606772Z",
     "iopub.status.busy": "2021-10-10T12:52:47.605363Z",
     "iopub.status.idle": "2021-10-10T12:52:48.747245Z",
     "shell.execute_reply": "2021-10-10T12:52:48.748317Z",
     "shell.execute_reply.started": "2021-10-10T12:48:32.338974Z"
    },
    "papermill": {
     "duration": 1.167853,
     "end_time": "2021-10-10T12:52:48.748820",
     "exception": false,
     "start_time": "2021-10-10T12:52:47.580967",
     "status": "completed"
    },
    "tags": []
   },
   "outputs": [
    {
     "name": "stdout",
     "output_type": "stream",
     "text": [
      "/kaggle/input/neolen-house-price-prediction/sample_submission.csv\n",
      "/kaggle/input/neolen-house-price-prediction/data_description.txt\n",
      "/kaggle/input/neolen-house-price-prediction/train.csv\n",
      "/kaggle/input/neolen-house-price-prediction/test.csv\n",
      "/kaggle/input/neolen-house-price-prediction/house-prices-advanced-regression-techniques.zip\n"
     ]
    }
   ],
   "source": [
    "# This Python 3 environment comes with many helpful analytics libraries installed\n",
    "# It is defined by the kaggle/python Docker image: https://github.com/kaggle/docker-python\n",
    "# For example, here's several helpful packages to load\n",
    "\n",
    "import numpy as np # linear algebra\n",
    "import pandas as pd # data processing, CSV file I/O (e.g. pd.read_csv)\n",
    "from sklearn.preprocessing import LabelEncoder\n",
    "from sklearn.preprocessing import StandardScaler\n",
    "from xgboost import XGBRegressor\n",
    "\n",
    "# Input data files are available in the read-only \"../input/\" directory\n",
    "# For example, running this (by clicking run or pressing Shift+Enter) will list all files under the input directory\n",
    "\n",
    "import os\n",
    "for dirname, _, filenames in os.walk('/kaggle/input'):\n",
    "    for filename in filenames:\n",
    "        print(os.path.join(dirname, filename))\n",
    "\n",
    "# You can write up to 20GB to the current directory (/kaggle/working/) that gets preserved as output when you create a version using \"Save & Run All\" \n",
    "# You can also write temporary files to /kaggle/temp/, but they won't be saved outside of the current session"
   ]
  },
  {
   "cell_type": "code",
   "execution_count": 2,
   "id": "82841466",
   "metadata": {
    "execution": {
     "iopub.execute_input": "2021-10-10T12:52:48.796347Z",
     "iopub.status.busy": "2021-10-10T12:52:48.795659Z",
     "iopub.status.idle": "2021-10-10T12:52:48.856819Z",
     "shell.execute_reply": "2021-10-10T12:52:48.856148Z",
     "shell.execute_reply.started": "2021-10-10T12:48:32.495713Z"
    },
    "papermill": {
     "duration": 0.086119,
     "end_time": "2021-10-10T12:52:48.856983",
     "exception": false,
     "start_time": "2021-10-10T12:52:48.770864",
     "status": "completed"
    },
    "tags": []
   },
   "outputs": [],
   "source": [
    "# Read csv files. And keep a copy of the original dataframes. tran_df and test_df will be used throughout this notebook for preprocessing and scaling.we need original test dataframe in the end \n",
    "or_train_df = pd.read_csv('/kaggle/input/neolen-house-price-prediction/train.csv')\n",
    "or_test_df = pd.read_csv('/kaggle/input/neolen-house-price-prediction/test.csv')\n",
    "\n",
    "train_df = or_train_df\n",
    "test_df = or_test_df"
   ]
  },
  {
   "cell_type": "markdown",
   "id": "e4b187e0",
   "metadata": {
    "papermill": {
     "duration": 0.020291,
     "end_time": "2021-10-10T12:52:48.898755",
     "exception": false,
     "start_time": "2021-10-10T12:52:48.878464",
     "status": "completed"
    },
    "tags": []
   },
   "source": [
    "## Replace NaNs\n",
    "**While replacing we have to make sure to replace it with '0' (character) in case of a string column and 0 (number) if otherwise**"
   ]
  },
  {
   "cell_type": "code",
   "execution_count": 3,
   "id": "cfa4fa51",
   "metadata": {
    "execution": {
     "iopub.execute_input": "2021-10-10T12:52:48.955845Z",
     "iopub.status.busy": "2021-10-10T12:52:48.955082Z",
     "iopub.status.idle": "2021-10-10T12:52:49.037102Z",
     "shell.execute_reply": "2021-10-10T12:52:49.037700Z",
     "shell.execute_reply.started": "2021-10-10T12:48:37.494605Z"
    },
    "papermill": {
     "duration": 0.118121,
     "end_time": "2021-10-10T12:52:49.037887",
     "exception": false,
     "start_time": "2021-10-10T12:52:48.919766",
     "status": "completed"
    },
    "tags": []
   },
   "outputs": [],
   "source": [
    "str_columns = []\n",
    "num_columns = []\n",
    "\n",
    "def convert_to_str(df):\n",
    "    for col in df.columns:\n",
    "        if (df[col].dtype == np.int64 or df[col].dtype == np.float64):\n",
    "            df[col] = df[col].fillna(0)\n",
    "            if col not in num_columns:\n",
    "                num_columns.append(col)\n",
    "        else:\n",
    "            df[col] = df[col].fillna('0')\n",
    "            if col not in num_columns:\n",
    "                str_columns.append(col)\n",
    "    return df\n",
    "\n",
    "train_df = convert_to_str(train_df)\n",
    "test_df = convert_to_str(test_df)"
   ]
  },
  {
   "cell_type": "code",
   "execution_count": 4,
   "id": "0486662c",
   "metadata": {
    "execution": {
     "iopub.execute_input": "2021-10-10T12:52:49.082137Z",
     "iopub.status.busy": "2021-10-10T12:52:49.081397Z",
     "iopub.status.idle": "2021-10-10T12:52:49.114019Z",
     "shell.execute_reply": "2021-10-10T12:52:49.113460Z",
     "shell.execute_reply.started": "2021-10-10T12:48:39.331341Z"
    },
    "papermill": {
     "duration": 0.056158,
     "end_time": "2021-10-10T12:52:49.114167",
     "exception": false,
     "start_time": "2021-10-10T12:52:49.058009",
     "status": "completed"
    },
    "tags": []
   },
   "outputs": [
    {
     "data": {
      "text/html": [
       "<div>\n",
       "<style scoped>\n",
       "    .dataframe tbody tr th:only-of-type {\n",
       "        vertical-align: middle;\n",
       "    }\n",
       "\n",
       "    .dataframe tbody tr th {\n",
       "        vertical-align: top;\n",
       "    }\n",
       "\n",
       "    .dataframe thead th {\n",
       "        text-align: right;\n",
       "    }\n",
       "</style>\n",
       "<table border=\"1\" class=\"dataframe\">\n",
       "  <thead>\n",
       "    <tr style=\"text-align: right;\">\n",
       "      <th></th>\n",
       "      <th>Id</th>\n",
       "      <th>MSSubClass</th>\n",
       "      <th>MSZoning</th>\n",
       "      <th>LotFrontage</th>\n",
       "      <th>LotArea</th>\n",
       "      <th>Street</th>\n",
       "      <th>Alley</th>\n",
       "      <th>LotShape</th>\n",
       "      <th>LandContour</th>\n",
       "      <th>Utilities</th>\n",
       "      <th>...</th>\n",
       "      <th>PoolArea</th>\n",
       "      <th>PoolQC</th>\n",
       "      <th>Fence</th>\n",
       "      <th>MiscFeature</th>\n",
       "      <th>MiscVal</th>\n",
       "      <th>MoSold</th>\n",
       "      <th>YrSold</th>\n",
       "      <th>SaleType</th>\n",
       "      <th>SaleCondition</th>\n",
       "      <th>SalePrice</th>\n",
       "    </tr>\n",
       "  </thead>\n",
       "  <tbody>\n",
       "    <tr>\n",
       "      <th>0</th>\n",
       "      <td>1</td>\n",
       "      <td>60</td>\n",
       "      <td>RL</td>\n",
       "      <td>65.0</td>\n",
       "      <td>8450</td>\n",
       "      <td>Pave</td>\n",
       "      <td>0</td>\n",
       "      <td>Reg</td>\n",
       "      <td>Lvl</td>\n",
       "      <td>AllPub</td>\n",
       "      <td>...</td>\n",
       "      <td>0</td>\n",
       "      <td>0</td>\n",
       "      <td>0</td>\n",
       "      <td>0</td>\n",
       "      <td>0</td>\n",
       "      <td>2</td>\n",
       "      <td>2008</td>\n",
       "      <td>WD</td>\n",
       "      <td>Normal</td>\n",
       "      <td>208500</td>\n",
       "    </tr>\n",
       "    <tr>\n",
       "      <th>1</th>\n",
       "      <td>2</td>\n",
       "      <td>20</td>\n",
       "      <td>RL</td>\n",
       "      <td>80.0</td>\n",
       "      <td>9600</td>\n",
       "      <td>Pave</td>\n",
       "      <td>0</td>\n",
       "      <td>Reg</td>\n",
       "      <td>Lvl</td>\n",
       "      <td>AllPub</td>\n",
       "      <td>...</td>\n",
       "      <td>0</td>\n",
       "      <td>0</td>\n",
       "      <td>0</td>\n",
       "      <td>0</td>\n",
       "      <td>0</td>\n",
       "      <td>5</td>\n",
       "      <td>2007</td>\n",
       "      <td>WD</td>\n",
       "      <td>Normal</td>\n",
       "      <td>181500</td>\n",
       "    </tr>\n",
       "  </tbody>\n",
       "</table>\n",
       "<p>2 rows × 81 columns</p>\n",
       "</div>"
      ],
      "text/plain": [
       "   Id  MSSubClass MSZoning  LotFrontage  LotArea Street Alley LotShape  \\\n",
       "0   1          60       RL         65.0     8450   Pave     0      Reg   \n",
       "1   2          20       RL         80.0     9600   Pave     0      Reg   \n",
       "\n",
       "  LandContour Utilities  ... PoolArea PoolQC Fence MiscFeature MiscVal MoSold  \\\n",
       "0         Lvl    AllPub  ...        0      0     0           0       0      2   \n",
       "1         Lvl    AllPub  ...        0      0     0           0       0      5   \n",
       "\n",
       "  YrSold  SaleType  SaleCondition  SalePrice  \n",
       "0   2008        WD         Normal     208500  \n",
       "1   2007        WD         Normal     181500  \n",
       "\n",
       "[2 rows x 81 columns]"
      ]
     },
     "execution_count": 4,
     "metadata": {},
     "output_type": "execute_result"
    }
   ],
   "source": [
    "train_df.head(n=2)"
   ]
  },
  {
   "cell_type": "code",
   "execution_count": 5,
   "id": "8cc772bf",
   "metadata": {
    "execution": {
     "iopub.execute_input": "2021-10-10T12:52:49.162551Z",
     "iopub.status.busy": "2021-10-10T12:52:49.161500Z",
     "iopub.status.idle": "2021-10-10T12:52:49.165889Z",
     "shell.execute_reply": "2021-10-10T12:52:49.166377Z",
     "shell.execute_reply.started": "2021-10-10T12:49:01.689446Z"
    },
    "papermill": {
     "duration": 0.031695,
     "end_time": "2021-10-10T12:52:49.166579",
     "exception": false,
     "start_time": "2021-10-10T12:52:49.134884",
     "status": "completed"
    },
    "tags": []
   },
   "outputs": [],
   "source": [
    "# Dropping 'Id' column as it has no use in training\n",
    "train_df = train_df.drop(['Id'], axis=1)\n",
    "test_df = test_df.drop(['Id'], axis=1)"
   ]
  },
  {
   "cell_type": "code",
   "execution_count": 6,
   "id": "226cdb12",
   "metadata": {
    "execution": {
     "iopub.execute_input": "2021-10-10T12:52:49.214348Z",
     "iopub.status.busy": "2021-10-10T12:52:49.211662Z",
     "iopub.status.idle": "2021-10-10T12:52:49.233647Z",
     "shell.execute_reply": "2021-10-10T12:52:49.234103Z",
     "shell.execute_reply.started": "2021-10-10T12:49:04.133491Z"
    },
    "papermill": {
     "duration": 0.0469,
     "end_time": "2021-10-10T12:52:49.234278",
     "exception": false,
     "start_time": "2021-10-10T12:52:49.187378",
     "status": "completed"
    },
    "tags": []
   },
   "outputs": [
    {
     "data": {
      "text/html": [
       "<div>\n",
       "<style scoped>\n",
       "    .dataframe tbody tr th:only-of-type {\n",
       "        vertical-align: middle;\n",
       "    }\n",
       "\n",
       "    .dataframe tbody tr th {\n",
       "        vertical-align: top;\n",
       "    }\n",
       "\n",
       "    .dataframe thead th {\n",
       "        text-align: right;\n",
       "    }\n",
       "</style>\n",
       "<table border=\"1\" class=\"dataframe\">\n",
       "  <thead>\n",
       "    <tr style=\"text-align: right;\">\n",
       "      <th></th>\n",
       "      <th>MSSubClass</th>\n",
       "      <th>MSZoning</th>\n",
       "      <th>LotFrontage</th>\n",
       "      <th>LotArea</th>\n",
       "      <th>Street</th>\n",
       "      <th>Alley</th>\n",
       "      <th>LotShape</th>\n",
       "      <th>LandContour</th>\n",
       "      <th>Utilities</th>\n",
       "      <th>LotConfig</th>\n",
       "      <th>...</th>\n",
       "      <th>PoolArea</th>\n",
       "      <th>PoolQC</th>\n",
       "      <th>Fence</th>\n",
       "      <th>MiscFeature</th>\n",
       "      <th>MiscVal</th>\n",
       "      <th>MoSold</th>\n",
       "      <th>YrSold</th>\n",
       "      <th>SaleType</th>\n",
       "      <th>SaleCondition</th>\n",
       "      <th>SalePrice</th>\n",
       "    </tr>\n",
       "  </thead>\n",
       "  <tbody>\n",
       "    <tr>\n",
       "      <th>0</th>\n",
       "      <td>60</td>\n",
       "      <td>RL</td>\n",
       "      <td>65.0</td>\n",
       "      <td>8450</td>\n",
       "      <td>Pave</td>\n",
       "      <td>0</td>\n",
       "      <td>Reg</td>\n",
       "      <td>Lvl</td>\n",
       "      <td>AllPub</td>\n",
       "      <td>Inside</td>\n",
       "      <td>...</td>\n",
       "      <td>0</td>\n",
       "      <td>0</td>\n",
       "      <td>0</td>\n",
       "      <td>0</td>\n",
       "      <td>0</td>\n",
       "      <td>2</td>\n",
       "      <td>2008</td>\n",
       "      <td>WD</td>\n",
       "      <td>Normal</td>\n",
       "      <td>208500</td>\n",
       "    </tr>\n",
       "    <tr>\n",
       "      <th>1</th>\n",
       "      <td>20</td>\n",
       "      <td>RL</td>\n",
       "      <td>80.0</td>\n",
       "      <td>9600</td>\n",
       "      <td>Pave</td>\n",
       "      <td>0</td>\n",
       "      <td>Reg</td>\n",
       "      <td>Lvl</td>\n",
       "      <td>AllPub</td>\n",
       "      <td>FR2</td>\n",
       "      <td>...</td>\n",
       "      <td>0</td>\n",
       "      <td>0</td>\n",
       "      <td>0</td>\n",
       "      <td>0</td>\n",
       "      <td>0</td>\n",
       "      <td>5</td>\n",
       "      <td>2007</td>\n",
       "      <td>WD</td>\n",
       "      <td>Normal</td>\n",
       "      <td>181500</td>\n",
       "    </tr>\n",
       "  </tbody>\n",
       "</table>\n",
       "<p>2 rows × 80 columns</p>\n",
       "</div>"
      ],
      "text/plain": [
       "   MSSubClass MSZoning  LotFrontage  LotArea Street Alley LotShape  \\\n",
       "0          60       RL         65.0     8450   Pave     0      Reg   \n",
       "1          20       RL         80.0     9600   Pave     0      Reg   \n",
       "\n",
       "  LandContour Utilities LotConfig  ... PoolArea PoolQC Fence MiscFeature  \\\n",
       "0         Lvl    AllPub    Inside  ...        0      0     0           0   \n",
       "1         Lvl    AllPub       FR2  ...        0      0     0           0   \n",
       "\n",
       "  MiscVal MoSold  YrSold  SaleType  SaleCondition  SalePrice  \n",
       "0       0      2    2008        WD         Normal     208500  \n",
       "1       0      5    2007        WD         Normal     181500  \n",
       "\n",
       "[2 rows x 80 columns]"
      ]
     },
     "execution_count": 6,
     "metadata": {},
     "output_type": "execute_result"
    }
   ],
   "source": [
    "train_df.head(n=2)"
   ]
  },
  {
   "cell_type": "markdown",
   "id": "4b8544f5",
   "metadata": {
    "papermill": {
     "duration": 0.020768,
     "end_time": "2021-10-10T12:52:49.277157",
     "exception": false,
     "start_time": "2021-10-10T12:52:49.256389",
     "status": "completed"
    },
    "tags": []
   },
   "source": [
    "## Encoding string values in dataframe to numbers"
   ]
  },
  {
   "cell_type": "code",
   "execution_count": 7,
   "id": "ba1007c3",
   "metadata": {
    "execution": {
     "iopub.execute_input": "2021-10-10T12:52:49.323057Z",
     "iopub.status.busy": "2021-10-10T12:52:49.322381Z",
     "iopub.status.idle": "2021-10-10T12:52:49.428472Z",
     "shell.execute_reply": "2021-10-10T12:52:49.427860Z",
     "shell.execute_reply.started": "2021-10-10T12:50:06.020804Z"
    },
    "papermill": {
     "duration": 0.130085,
     "end_time": "2021-10-10T12:52:49.428631",
     "exception": false,
     "start_time": "2021-10-10T12:52:49.298546",
     "status": "completed"
    },
    "tags": []
   },
   "outputs": [],
   "source": [
    "for col in str_columns:\n",
    "    le = LabelEncoder()\n",
    "    train_df[col] = le.fit_transform(train_df[col])\n",
    "    test_df[col] = le.fit_transform(test_df[col])"
   ]
  },
  {
   "cell_type": "code",
   "execution_count": 8,
   "id": "83982bc7",
   "metadata": {
    "execution": {
     "iopub.execute_input": "2021-10-10T12:52:49.478762Z",
     "iopub.status.busy": "2021-10-10T12:52:49.478024Z",
     "iopub.status.idle": "2021-10-10T12:52:49.481258Z",
     "shell.execute_reply": "2021-10-10T12:52:49.480629Z",
     "shell.execute_reply.started": "2021-10-10T12:50:09.648153Z"
    },
    "papermill": {
     "duration": 0.031689,
     "end_time": "2021-10-10T12:52:49.481402",
     "exception": false,
     "start_time": "2021-10-10T12:52:49.449713",
     "status": "completed"
    },
    "tags": []
   },
   "outputs": [],
   "source": [
    "# Add a dummy SalePrice column to test dataframe to scale it \n",
    "test_df['SalePrice'] = train_df['SalePrice'].iloc[:201]"
   ]
  },
  {
   "cell_type": "markdown",
   "id": "dcf18077",
   "metadata": {
    "papermill": {
     "duration": 0.021359,
     "end_time": "2021-10-10T12:52:49.523994",
     "exception": false,
     "start_time": "2021-10-10T12:52:49.502635",
     "status": "completed"
    },
    "tags": []
   },
   "source": [
    "## Standardization of values"
   ]
  },
  {
   "cell_type": "code",
   "execution_count": 9,
   "id": "ecf7e117",
   "metadata": {
    "execution": {
     "iopub.execute_input": "2021-10-10T12:52:49.573666Z",
     "iopub.status.busy": "2021-10-10T12:52:49.568877Z",
     "iopub.status.idle": "2021-10-10T12:52:49.584315Z",
     "shell.execute_reply": "2021-10-10T12:52:49.583636Z",
     "shell.execute_reply.started": "2021-10-10T12:50:35.166878Z"
    },
    "papermill": {
     "duration": 0.039551,
     "end_time": "2021-10-10T12:52:49.584471",
     "exception": false,
     "start_time": "2021-10-10T12:52:49.544920",
     "status": "completed"
    },
    "tags": []
   },
   "outputs": [
    {
     "data": {
      "text/plain": [
       "StandardScaler()"
      ]
     },
     "execution_count": 9,
     "metadata": {},
     "output_type": "execute_result"
    }
   ],
   "source": [
    "scaler = StandardScaler()\n",
    "scaler.fit(train_df)"
   ]
  },
  {
   "cell_type": "code",
   "execution_count": 10,
   "id": "3d3e3064",
   "metadata": {
    "execution": {
     "iopub.execute_input": "2021-10-10T12:52:49.637317Z",
     "iopub.status.busy": "2021-10-10T12:52:49.636243Z",
     "iopub.status.idle": "2021-10-10T12:52:49.643929Z",
     "shell.execute_reply": "2021-10-10T12:52:49.644416Z",
     "shell.execute_reply.started": "2021-10-10T12:50:37.845225Z"
    },
    "papermill": {
     "duration": 0.038395,
     "end_time": "2021-10-10T12:52:49.644620",
     "exception": false,
     "start_time": "2021-10-10T12:52:49.606225",
     "status": "completed"
    },
    "tags": []
   },
   "outputs": [],
   "source": [
    "train_data = scaler.transform(train_df)\n",
    "test_data = scaler.transform(test_df)"
   ]
  },
  {
   "cell_type": "code",
   "execution_count": 11,
   "id": "c4d9ea4e",
   "metadata": {
    "execution": {
     "iopub.execute_input": "2021-10-10T12:52:49.692052Z",
     "iopub.status.busy": "2021-10-10T12:52:49.691062Z",
     "iopub.status.idle": "2021-10-10T12:52:49.695735Z",
     "shell.execute_reply": "2021-10-10T12:52:49.696227Z",
     "shell.execute_reply.started": "2021-10-10T12:50:39.927961Z"
    },
    "papermill": {
     "duration": 0.030099,
     "end_time": "2021-10-10T12:52:49.696406",
     "exception": false,
     "start_time": "2021-10-10T12:52:49.666307",
     "status": "completed"
    },
    "tags": []
   },
   "outputs": [],
   "source": [
    "train_df = pd.DataFrame(train_data, columns=train_df.columns)\n",
    "test_df = pd.DataFrame(test_data, columns=test_df.columns)"
   ]
  },
  {
   "cell_type": "code",
   "execution_count": 12,
   "id": "95b36f1c",
   "metadata": {
    "execution": {
     "iopub.execute_input": "2021-10-10T12:52:49.745340Z",
     "iopub.status.busy": "2021-10-10T12:52:49.742070Z",
     "iopub.status.idle": "2021-10-10T12:52:49.747359Z",
     "shell.execute_reply": "2021-10-10T12:52:49.747932Z",
     "shell.execute_reply.started": "2021-10-10T12:50:42.568369Z"
    },
    "papermill": {
     "duration": 0.03045,
     "end_time": "2021-10-10T12:52:49.748119",
     "exception": false,
     "start_time": "2021-10-10T12:52:49.717669",
     "status": "completed"
    },
    "tags": []
   },
   "outputs": [],
   "source": [
    "test_df = test_df.drop(['SalePrice'], axis=1)"
   ]
  },
  {
   "cell_type": "code",
   "execution_count": 13,
   "id": "54ac190f",
   "metadata": {
    "execution": {
     "iopub.execute_input": "2021-10-10T12:52:49.795490Z",
     "iopub.status.busy": "2021-10-10T12:52:49.794837Z",
     "iopub.status.idle": "2021-10-10T12:52:49.816139Z",
     "shell.execute_reply": "2021-10-10T12:52:49.815623Z",
     "shell.execute_reply.started": "2021-10-10T12:50:42.973346Z"
    },
    "papermill": {
     "duration": 0.045638,
     "end_time": "2021-10-10T12:52:49.816279",
     "exception": false,
     "start_time": "2021-10-10T12:52:49.770641",
     "status": "completed"
    },
    "tags": []
   },
   "outputs": [
    {
     "data": {
      "text/html": [
       "<div>\n",
       "<style scoped>\n",
       "    .dataframe tbody tr th:only-of-type {\n",
       "        vertical-align: middle;\n",
       "    }\n",
       "\n",
       "    .dataframe tbody tr th {\n",
       "        vertical-align: top;\n",
       "    }\n",
       "\n",
       "    .dataframe thead th {\n",
       "        text-align: right;\n",
       "    }\n",
       "</style>\n",
       "<table border=\"1\" class=\"dataframe\">\n",
       "  <thead>\n",
       "    <tr style=\"text-align: right;\">\n",
       "      <th></th>\n",
       "      <th>MSSubClass</th>\n",
       "      <th>MSZoning</th>\n",
       "      <th>LotFrontage</th>\n",
       "      <th>LotArea</th>\n",
       "      <th>Street</th>\n",
       "      <th>Alley</th>\n",
       "      <th>LotShape</th>\n",
       "      <th>LandContour</th>\n",
       "      <th>Utilities</th>\n",
       "      <th>LotConfig</th>\n",
       "      <th>...</th>\n",
       "      <th>ScreenPorch</th>\n",
       "      <th>PoolArea</th>\n",
       "      <th>PoolQC</th>\n",
       "      <th>Fence</th>\n",
       "      <th>MiscFeature</th>\n",
       "      <th>MiscVal</th>\n",
       "      <th>MoSold</th>\n",
       "      <th>YrSold</th>\n",
       "      <th>SaleType</th>\n",
       "      <th>SaleCondition</th>\n",
       "    </tr>\n",
       "  </thead>\n",
       "  <tbody>\n",
       "    <tr>\n",
       "      <th>0</th>\n",
       "      <td>-0.871918</td>\n",
       "      <td>-0.036322</td>\n",
       "      <td>0.206318</td>\n",
       "      <td>-0.074542</td>\n",
       "      <td>-14.451067</td>\n",
       "      <td>-0.238904</td>\n",
       "      <td>0.756592</td>\n",
       "      <td>0.310085</td>\n",
       "      <td>-0.028194</td>\n",
       "      <td>-0.618896</td>\n",
       "      <td>...</td>\n",
       "      <td>1.208226</td>\n",
       "      <td>-0.056248</td>\n",
       "      <td>-0.051004</td>\n",
       "      <td>-0.451289</td>\n",
       "      <td>-0.203162</td>\n",
       "      <td>-0.087433</td>\n",
       "      <td>0.255175</td>\n",
       "      <td>0.151227</td>\n",
       "      <td>-2.859626</td>\n",
       "      <td>-0.667876</td>\n",
       "    </tr>\n",
       "    <tr>\n",
       "      <th>1</th>\n",
       "      <td>0.072887</td>\n",
       "      <td>-0.036322</td>\n",
       "      <td>-1.701485</td>\n",
       "      <td>1.362959</td>\n",
       "      <td>-14.451067</td>\n",
       "      <td>-0.238904</td>\n",
       "      <td>0.048377</td>\n",
       "      <td>0.310085</td>\n",
       "      <td>-0.028194</td>\n",
       "      <td>-1.231949</td>\n",
       "      <td>...</td>\n",
       "      <td>-0.271282</td>\n",
       "      <td>-0.056248</td>\n",
       "      <td>-0.051004</td>\n",
       "      <td>-0.451289</td>\n",
       "      <td>-0.203162</td>\n",
       "      <td>-0.087433</td>\n",
       "      <td>-0.117523</td>\n",
       "      <td>0.906760</td>\n",
       "      <td>-2.859626</td>\n",
       "      <td>-0.667876</td>\n",
       "    </tr>\n",
       "  </tbody>\n",
       "</table>\n",
       "<p>2 rows × 79 columns</p>\n",
       "</div>"
      ],
      "text/plain": [
       "   MSSubClass  MSZoning  LotFrontage   LotArea     Street     Alley  LotShape  \\\n",
       "0   -0.871918 -0.036322     0.206318 -0.074542 -14.451067 -0.238904  0.756592   \n",
       "1    0.072887 -0.036322    -1.701485  1.362959 -14.451067 -0.238904  0.048377   \n",
       "\n",
       "   LandContour  Utilities  LotConfig  ...  ScreenPorch  PoolArea    PoolQC  \\\n",
       "0     0.310085  -0.028194  -0.618896  ...     1.208226 -0.056248 -0.051004   \n",
       "1     0.310085  -0.028194  -1.231949  ...    -0.271282 -0.056248 -0.051004   \n",
       "\n",
       "      Fence  MiscFeature   MiscVal    MoSold    YrSold  SaleType  \\\n",
       "0 -0.451289    -0.203162 -0.087433  0.255175  0.151227 -2.859626   \n",
       "1 -0.451289    -0.203162 -0.087433 -0.117523  0.906760 -2.859626   \n",
       "\n",
       "   SaleCondition  \n",
       "0      -0.667876  \n",
       "1      -0.667876  \n",
       "\n",
       "[2 rows x 79 columns]"
      ]
     },
     "execution_count": 13,
     "metadata": {},
     "output_type": "execute_result"
    }
   ],
   "source": [
    "test_df.head(n=2)"
   ]
  },
  {
   "cell_type": "code",
   "execution_count": 14,
   "id": "4b0bc070",
   "metadata": {
    "execution": {
     "iopub.execute_input": "2021-10-10T12:52:49.868600Z",
     "iopub.status.busy": "2021-10-10T12:52:49.867579Z",
     "iopub.status.idle": "2021-10-10T12:52:49.870348Z",
     "shell.execute_reply": "2021-10-10T12:52:49.869728Z",
     "shell.execute_reply.started": "2021-10-10T12:51:13.418222Z"
    },
    "papermill": {
     "duration": 0.031292,
     "end_time": "2021-10-10T12:52:49.870503",
     "exception": false,
     "start_time": "2021-10-10T12:52:49.839211",
     "status": "completed"
    },
    "tags": []
   },
   "outputs": [],
   "source": [
    "train_data = train_df[test_df.columns]\n",
    "train_labels = train_df['SalePrice']"
   ]
  },
  {
   "cell_type": "markdown",
   "id": "b9809f82",
   "metadata": {
    "papermill": {
     "duration": 0.021732,
     "end_time": "2021-10-10T12:52:49.914646",
     "exception": false,
     "start_time": "2021-10-10T12:52:49.892914",
     "status": "completed"
    },
    "tags": []
   },
   "source": [
    "## XGBoost regressor model "
   ]
  },
  {
   "cell_type": "code",
   "execution_count": 15,
   "id": "99427a72",
   "metadata": {
    "execution": {
     "iopub.execute_input": "2021-10-10T12:52:49.965075Z",
     "iopub.status.busy": "2021-10-10T12:52:49.964365Z",
     "iopub.status.idle": "2021-10-10T12:52:49.966824Z",
     "shell.execute_reply": "2021-10-10T12:52:49.966305Z",
     "shell.execute_reply.started": "2021-10-10T12:51:35.934082Z"
    },
    "papermill": {
     "duration": 0.029893,
     "end_time": "2021-10-10T12:52:49.966966",
     "exception": false,
     "start_time": "2021-10-10T12:52:49.937073",
     "status": "completed"
    },
    "tags": []
   },
   "outputs": [],
   "source": [
    "model = XGBRegressor(n_estimators=1000, max_depth=7, eta=0.1, subsample=0.7, colsample_bytree=0.8)"
   ]
  },
  {
   "cell_type": "code",
   "execution_count": 16,
   "id": "32cdba09",
   "metadata": {
    "execution": {
     "iopub.execute_input": "2021-10-10T12:52:50.017867Z",
     "iopub.status.busy": "2021-10-10T12:52:50.017180Z",
     "iopub.status.idle": "2021-10-10T12:52:52.811609Z",
     "shell.execute_reply": "2021-10-10T12:52:52.810926Z",
     "shell.execute_reply.started": "2021-10-10T12:51:36.889188Z"
    },
    "papermill": {
     "duration": 2.822299,
     "end_time": "2021-10-10T12:52:52.811751",
     "exception": false,
     "start_time": "2021-10-10T12:52:49.989452",
     "status": "completed"
    },
    "tags": []
   },
   "outputs": [
    {
     "data": {
      "text/plain": [
       "XGBRegressor(base_score=0.5, booster='gbtree', colsample_bylevel=1,\n",
       "             colsample_bynode=1, colsample_bytree=0.8, eta=0.1, gamma=0,\n",
       "             gpu_id=-1, importance_type='gain', interaction_constraints='',\n",
       "             learning_rate=0.100000001, max_delta_step=0, max_depth=7,\n",
       "             min_child_weight=1, missing=nan, monotone_constraints='()',\n",
       "             n_estimators=1000, n_jobs=4, num_parallel_tree=1, random_state=0,\n",
       "             reg_alpha=0, reg_lambda=1, scale_pos_weight=1, subsample=0.7,\n",
       "             tree_method='exact', validate_parameters=1, verbosity=None)"
      ]
     },
     "execution_count": 16,
     "metadata": {},
     "output_type": "execute_result"
    }
   ],
   "source": [
    "model.fit(train_data, train_labels)"
   ]
  },
  {
   "cell_type": "code",
   "execution_count": 17,
   "id": "dcb94e42",
   "metadata": {
    "execution": {
     "iopub.execute_input": "2021-10-10T12:52:52.860983Z",
     "iopub.status.busy": "2021-10-10T12:52:52.860276Z",
     "iopub.status.idle": "2021-10-10T12:52:52.876744Z",
     "shell.execute_reply": "2021-10-10T12:52:52.877305Z",
     "shell.execute_reply.started": "2021-10-10T12:51:43.380232Z"
    },
    "papermill": {
     "duration": 0.042921,
     "end_time": "2021-10-10T12:52:52.877548",
     "exception": false,
     "start_time": "2021-10-10T12:52:52.834627",
     "status": "completed"
    },
    "tags": []
   },
   "outputs": [],
   "source": [
    "predictions = model.predict(test_df)"
   ]
  },
  {
   "cell_type": "code",
   "execution_count": 18,
   "id": "0ecc734a",
   "metadata": {
    "execution": {
     "iopub.execute_input": "2021-10-10T12:52:52.926845Z",
     "iopub.status.busy": "2021-10-10T12:52:52.926120Z",
     "iopub.status.idle": "2021-10-10T12:52:52.931861Z",
     "shell.execute_reply": "2021-10-10T12:52:52.932393Z",
     "shell.execute_reply.started": "2021-10-10T12:52:00.488967Z"
    },
    "papermill": {
     "duration": 0.031732,
     "end_time": "2021-10-10T12:52:52.932591",
     "exception": false,
     "start_time": "2021-10-10T12:52:52.900859",
     "status": "completed"
    },
    "tags": []
   },
   "outputs": [],
   "source": [
    "test_df['SalePrice'] = predictions\n",
    "test_df = scaler.inverse_transform(test_df)\n",
    "test_df = pd.DataFrame(test_df, columns=train_df.columns)"
   ]
  },
  {
   "cell_type": "code",
   "execution_count": 19,
   "id": "60ed25ad",
   "metadata": {
    "execution": {
     "iopub.execute_input": "2021-10-10T12:52:52.982407Z",
     "iopub.status.busy": "2021-10-10T12:52:52.981744Z",
     "iopub.status.idle": "2021-10-10T12:52:52.987927Z",
     "shell.execute_reply": "2021-10-10T12:52:52.988426Z",
     "shell.execute_reply.started": "2021-10-10T12:52:05.417002Z"
    },
    "papermill": {
     "duration": 0.03323,
     "end_time": "2021-10-10T12:52:52.988641",
     "exception": false,
     "start_time": "2021-10-10T12:52:52.955411",
     "status": "completed"
    },
    "tags": []
   },
   "outputs": [],
   "source": [
    "# Create results dataframe\n",
    "results = pd.DataFrame()\n",
    "results['Id'] = or_test_df['Id']\n",
    "results['SalePrice'] = test_df['SalePrice']"
   ]
  },
  {
   "cell_type": "code",
   "execution_count": 20,
   "id": "9e43c3f3",
   "metadata": {
    "execution": {
     "iopub.execute_input": "2021-10-10T12:52:53.043172Z",
     "iopub.status.busy": "2021-10-10T12:52:53.037128Z",
     "iopub.status.idle": "2021-10-10T12:52:53.047440Z",
     "shell.execute_reply": "2021-10-10T12:52:53.046860Z",
     "shell.execute_reply.started": "2021-10-10T12:52:11.139524Z"
    },
    "papermill": {
     "duration": 0.036475,
     "end_time": "2021-10-10T12:52:53.047609",
     "exception": false,
     "start_time": "2021-10-10T12:52:53.011134",
     "status": "completed"
    },
    "tags": []
   },
   "outputs": [
    {
     "data": {
      "text/html": [
       "<div>\n",
       "<style scoped>\n",
       "    .dataframe tbody tr th:only-of-type {\n",
       "        vertical-align: middle;\n",
       "    }\n",
       "\n",
       "    .dataframe tbody tr th {\n",
       "        vertical-align: top;\n",
       "    }\n",
       "\n",
       "    .dataframe thead th {\n",
       "        text-align: right;\n",
       "    }\n",
       "</style>\n",
       "<table border=\"1\" class=\"dataframe\">\n",
       "  <thead>\n",
       "    <tr style=\"text-align: right;\">\n",
       "      <th></th>\n",
       "      <th>Id</th>\n",
       "      <th>SalePrice</th>\n",
       "    </tr>\n",
       "  </thead>\n",
       "  <tbody>\n",
       "    <tr>\n",
       "      <th>0</th>\n",
       "      <td>1260</td>\n",
       "      <td>141110.494646</td>\n",
       "    </tr>\n",
       "    <tr>\n",
       "      <th>1</th>\n",
       "      <td>1261</td>\n",
       "      <td>173641.485872</td>\n",
       "    </tr>\n",
       "    <tr>\n",
       "      <th>2</th>\n",
       "      <td>1262</td>\n",
       "      <td>120053.156420</td>\n",
       "    </tr>\n",
       "    <tr>\n",
       "      <th>3</th>\n",
       "      <td>1263</td>\n",
       "      <td>139107.531678</td>\n",
       "    </tr>\n",
       "    <tr>\n",
       "      <th>4</th>\n",
       "      <td>1264</td>\n",
       "      <td>170916.728926</td>\n",
       "    </tr>\n",
       "  </tbody>\n",
       "</table>\n",
       "</div>"
      ],
      "text/plain": [
       "     Id      SalePrice\n",
       "0  1260  141110.494646\n",
       "1  1261  173641.485872\n",
       "2  1262  120053.156420\n",
       "3  1263  139107.531678\n",
       "4  1264  170916.728926"
      ]
     },
     "execution_count": 20,
     "metadata": {},
     "output_type": "execute_result"
    }
   ],
   "source": [
    "results.head()"
   ]
  },
  {
   "cell_type": "code",
   "execution_count": 21,
   "id": "a29fd2c8",
   "metadata": {
    "execution": {
     "iopub.execute_input": "2021-10-10T12:52:53.098604Z",
     "iopub.status.busy": "2021-10-10T12:52:53.097889Z",
     "iopub.status.idle": "2021-10-10T12:52:53.104052Z",
     "shell.execute_reply": "2021-10-10T12:52:53.103527Z",
     "shell.execute_reply.started": "2021-10-10T12:52:14.531854Z"
    },
    "papermill": {
     "duration": 0.03365,
     "end_time": "2021-10-10T12:52:53.104207",
     "exception": false,
     "start_time": "2021-10-10T12:52:53.070557",
     "status": "completed"
    },
    "tags": []
   },
   "outputs": [],
   "source": [
    "results.to_csv('submissions.txt', index=False)"
   ]
  }
 ],
 "metadata": {
  "kernelspec": {
   "display_name": "Python 3",
   "language": "python",
   "name": "python3"
  },
  "language_info": {
   "codemirror_mode": {
    "name": "ipython",
    "version": 3
   },
   "file_extension": ".py",
   "mimetype": "text/x-python",
   "name": "python",
   "nbconvert_exporter": "python",
   "pygments_lexer": "ipython3",
   "version": "3.7.10"
  },
  "papermill": {
   "default_parameters": {},
   "duration": 15.90742,
   "end_time": "2021-10-10T12:52:54.668351",
   "environment_variables": {},
   "exception": null,
   "input_path": "__notebook__.ipynb",
   "output_path": "__notebook__.ipynb",
   "parameters": {},
   "start_time": "2021-10-10T12:52:38.760931",
   "version": "2.3.3"
  }
 },
 "nbformat": 4,
 "nbformat_minor": 5
}
