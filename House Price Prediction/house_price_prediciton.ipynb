{
 "cells": [
  {
   "cell_type": "code",
   "execution_count": 1,
   "id": "742ce1ba",
   "metadata": {
    "_cell_guid": "b1076dfc-b9ad-4769-8c92-a6c4dae69d19",
    "_uuid": "8f2839f25d086af736a60e9eeb907d3b93b6e0e5",
    "execution": {
     "iopub.execute_input": "2021-10-10T12:37:51.656898Z",
     "iopub.status.busy": "2021-10-10T12:37:51.656188Z",
     "iopub.status.idle": "2021-10-10T12:37:52.709366Z",
     "shell.execute_reply": "2021-10-10T12:37:52.709907Z",
     "shell.execute_reply.started": "2021-10-10T12:30:55.168353Z"
    },
    "papermill": {
     "duration": 1.087764,
     "end_time": "2021-10-10T12:37:52.710230",
     "exception": false,
     "start_time": "2021-10-10T12:37:51.622466",
     "status": "completed"
    },
    "tags": []
   },
   "outputs": [
    {
     "name": "stdout",
     "output_type": "stream",
     "text": [
      "/kaggle/input/neolen-house-price-prediction/sample_submission.csv\n",
      "/kaggle/input/neolen-house-price-prediction/data_description.txt\n",
      "/kaggle/input/neolen-house-price-prediction/train.csv\n",
      "/kaggle/input/neolen-house-price-prediction/test.csv\n",
      "/kaggle/input/neolen-house-price-prediction/house-prices-advanced-regression-techniques.zip\n"
     ]
    }
   ],
   "source": [
    "# This Python 3 environment comes with many helpful analytics libraries installed\n",
    "# It is defined by the kaggle/python Docker image: https://github.com/kaggle/docker-python\n",
    "# For example, here's several helpful packages to load\n",
    "\n",
    "import numpy as np # linear algebra\n",
    "import pandas as pd # data processing, CSV file I/O (e.g. pd.read_csv)\n",
    "from sklearn.preprocessing import LabelEncoder\n",
    "from sklearn.preprocessing import StandardScaler\n",
    "from xgboost import XGBRegressor\n",
    "\n",
    "# Input data files are available in the read-only \"../input/\" directory\n",
    "# For example, running this (by clicking run or pressing Shift+Enter) will list all files under the input directory\n",
    "\n",
    "import os\n",
    "for dirname, _, filenames in os.walk('/kaggle/input'):\n",
    "    for filename in filenames:\n",
    "        print(os.path.join(dirname, filename))\n",
    "\n",
    "# You can write up to 20GB to the current directory (/kaggle/working/) that gets preserved as output when you create a version using \"Save & Run All\" \n",
    "# You can also write temporary files to /kaggle/temp/, but they won't be saved outside of the current session"
   ]
  },
  {
   "cell_type": "code",
   "execution_count": 2,
   "id": "d181dcdc",
   "metadata": {
    "execution": {
     "iopub.execute_input": "2021-10-10T12:37:52.758014Z",
     "iopub.status.busy": "2021-10-10T12:37:52.757273Z",
     "iopub.status.idle": "2021-10-10T12:37:52.818131Z",
     "shell.execute_reply": "2021-10-10T12:37:52.818612Z",
     "shell.execute_reply.started": "2021-10-10T12:30:55.319087Z"
    },
    "papermill": {
     "duration": 0.086929,
     "end_time": "2021-10-10T12:37:52.818809",
     "exception": false,
     "start_time": "2021-10-10T12:37:52.731880",
     "status": "completed"
    },
    "tags": []
   },
   "outputs": [],
   "source": [
    "or_train_df = pd.read_csv('/kaggle/input/neolen-house-price-prediction/train.csv')\n",
    "or_test_df = pd.read_csv('/kaggle/input/neolen-house-price-prediction/test.csv')"
   ]
  },
  {
   "cell_type": "code",
   "execution_count": 3,
   "id": "d096222f",
   "metadata": {
    "execution": {
     "iopub.execute_input": "2021-10-10T12:37:52.865646Z",
     "iopub.status.busy": "2021-10-10T12:37:52.864953Z",
     "iopub.status.idle": "2021-10-10T12:37:52.867342Z",
     "shell.execute_reply": "2021-10-10T12:37:52.866700Z",
     "shell.execute_reply.started": "2021-10-10T12:30:55.534648Z"
    },
    "papermill": {
     "duration": 0.027572,
     "end_time": "2021-10-10T12:37:52.867479",
     "exception": false,
     "start_time": "2021-10-10T12:37:52.839907",
     "status": "completed"
    },
    "tags": []
   },
   "outputs": [],
   "source": [
    "train_df = or_train_df\n",
    "test_df = or_test_df"
   ]
  },
  {
   "cell_type": "code",
   "execution_count": 4,
   "id": "1799f437",
   "metadata": {
    "execution": {
     "iopub.execute_input": "2021-10-10T12:37:52.912703Z",
     "iopub.status.busy": "2021-10-10T12:37:52.912047Z",
     "iopub.status.idle": "2021-10-10T12:37:52.915416Z",
     "shell.execute_reply": "2021-10-10T12:37:52.915987Z",
     "shell.execute_reply.started": "2021-10-10T12:30:55.727368Z"
    },
    "papermill": {
     "duration": 0.027518,
     "end_time": "2021-10-10T12:37:52.916181",
     "exception": false,
     "start_time": "2021-10-10T12:37:52.888663",
     "status": "completed"
    },
    "tags": []
   },
   "outputs": [],
   "source": [
    "columns = train_df.columns"
   ]
  },
  {
   "cell_type": "code",
   "execution_count": 5,
   "id": "bd51e087",
   "metadata": {
    "execution": {
     "iopub.execute_input": "2021-10-10T12:37:52.962913Z",
     "iopub.status.busy": "2021-10-10T12:37:52.962232Z",
     "iopub.status.idle": "2021-10-10T12:37:53.051271Z",
     "shell.execute_reply": "2021-10-10T12:37:53.050738Z",
     "shell.execute_reply.started": "2021-10-10T12:30:55.806501Z"
    },
    "papermill": {
     "duration": 0.113005,
     "end_time": "2021-10-10T12:37:53.051414",
     "exception": false,
     "start_time": "2021-10-10T12:37:52.938409",
     "status": "completed"
    },
    "tags": []
   },
   "outputs": [],
   "source": [
    "str_columns = []\n",
    "num_columns = []\n",
    "\n",
    "def convert_to_str(df):\n",
    "    for col in df.columns:\n",
    "        if (df[col].dtype == np.int64 or df[col].dtype == np.float64):\n",
    "            df[col] = df[col].fillna(0)\n",
    "            if col not in num_columns:\n",
    "                num_columns.append(col)\n",
    "        else:\n",
    "            df[col] = df[col].fillna('0')\n",
    "            if col not in num_columns:\n",
    "                str_columns.append(col)\n",
    "    return df\n",
    "\n",
    "train_df = convert_to_str(train_df)\n",
    "test_df = convert_to_str(test_df)"
   ]
  },
  {
   "cell_type": "code",
   "execution_count": 6,
   "id": "86aec570",
   "metadata": {
    "execution": {
     "iopub.execute_input": "2021-10-10T12:37:53.108637Z",
     "iopub.status.busy": "2021-10-10T12:37:53.099511Z",
     "iopub.status.idle": "2021-10-10T12:37:53.137852Z",
     "shell.execute_reply": "2021-10-10T12:37:53.138404Z",
     "shell.execute_reply.started": "2021-10-10T12:30:55.958612Z"
    },
    "papermill": {
     "duration": 0.065412,
     "end_time": "2021-10-10T12:37:53.138591",
     "exception": false,
     "start_time": "2021-10-10T12:37:53.073179",
     "status": "completed"
    },
    "tags": []
   },
   "outputs": [
    {
     "data": {
      "text/html": [
       "<div>\n",
       "<style scoped>\n",
       "    .dataframe tbody tr th:only-of-type {\n",
       "        vertical-align: middle;\n",
       "    }\n",
       "\n",
       "    .dataframe tbody tr th {\n",
       "        vertical-align: top;\n",
       "    }\n",
       "\n",
       "    .dataframe thead th {\n",
       "        text-align: right;\n",
       "    }\n",
       "</style>\n",
       "<table border=\"1\" class=\"dataframe\">\n",
       "  <thead>\n",
       "    <tr style=\"text-align: right;\">\n",
       "      <th></th>\n",
       "      <th>Id</th>\n",
       "      <th>MSSubClass</th>\n",
       "      <th>MSZoning</th>\n",
       "      <th>LotFrontage</th>\n",
       "      <th>LotArea</th>\n",
       "      <th>Street</th>\n",
       "      <th>Alley</th>\n",
       "      <th>LotShape</th>\n",
       "      <th>LandContour</th>\n",
       "      <th>Utilities</th>\n",
       "      <th>...</th>\n",
       "      <th>PoolArea</th>\n",
       "      <th>PoolQC</th>\n",
       "      <th>Fence</th>\n",
       "      <th>MiscFeature</th>\n",
       "      <th>MiscVal</th>\n",
       "      <th>MoSold</th>\n",
       "      <th>YrSold</th>\n",
       "      <th>SaleType</th>\n",
       "      <th>SaleCondition</th>\n",
       "      <th>SalePrice</th>\n",
       "    </tr>\n",
       "  </thead>\n",
       "  <tbody>\n",
       "    <tr>\n",
       "      <th>0</th>\n",
       "      <td>1</td>\n",
       "      <td>60</td>\n",
       "      <td>RL</td>\n",
       "      <td>65.0</td>\n",
       "      <td>8450</td>\n",
       "      <td>Pave</td>\n",
       "      <td>0</td>\n",
       "      <td>Reg</td>\n",
       "      <td>Lvl</td>\n",
       "      <td>AllPub</td>\n",
       "      <td>...</td>\n",
       "      <td>0</td>\n",
       "      <td>0</td>\n",
       "      <td>0</td>\n",
       "      <td>0</td>\n",
       "      <td>0</td>\n",
       "      <td>2</td>\n",
       "      <td>2008</td>\n",
       "      <td>WD</td>\n",
       "      <td>Normal</td>\n",
       "      <td>208500</td>\n",
       "    </tr>\n",
       "    <tr>\n",
       "      <th>1</th>\n",
       "      <td>2</td>\n",
       "      <td>20</td>\n",
       "      <td>RL</td>\n",
       "      <td>80.0</td>\n",
       "      <td>9600</td>\n",
       "      <td>Pave</td>\n",
       "      <td>0</td>\n",
       "      <td>Reg</td>\n",
       "      <td>Lvl</td>\n",
       "      <td>AllPub</td>\n",
       "      <td>...</td>\n",
       "      <td>0</td>\n",
       "      <td>0</td>\n",
       "      <td>0</td>\n",
       "      <td>0</td>\n",
       "      <td>0</td>\n",
       "      <td>5</td>\n",
       "      <td>2007</td>\n",
       "      <td>WD</td>\n",
       "      <td>Normal</td>\n",
       "      <td>181500</td>\n",
       "    </tr>\n",
       "  </tbody>\n",
       "</table>\n",
       "<p>2 rows × 81 columns</p>\n",
       "</div>"
      ],
      "text/plain": [
       "   Id  MSSubClass MSZoning  LotFrontage  LotArea Street Alley LotShape  \\\n",
       "0   1          60       RL         65.0     8450   Pave     0      Reg   \n",
       "1   2          20       RL         80.0     9600   Pave     0      Reg   \n",
       "\n",
       "  LandContour Utilities  ... PoolArea PoolQC Fence MiscFeature MiscVal MoSold  \\\n",
       "0         Lvl    AllPub  ...        0      0     0           0       0      2   \n",
       "1         Lvl    AllPub  ...        0      0     0           0       0      5   \n",
       "\n",
       "  YrSold  SaleType  SaleCondition  SalePrice  \n",
       "0   2008        WD         Normal     208500  \n",
       "1   2007        WD         Normal     181500  \n",
       "\n",
       "[2 rows x 81 columns]"
      ]
     },
     "execution_count": 6,
     "metadata": {},
     "output_type": "execute_result"
    }
   ],
   "source": [
    "train_df.head(n=2)"
   ]
  },
  {
   "cell_type": "code",
   "execution_count": 7,
   "id": "c4395d84",
   "metadata": {
    "execution": {
     "iopub.execute_input": "2021-10-10T12:37:53.199910Z",
     "iopub.status.busy": "2021-10-10T12:37:53.198887Z",
     "iopub.status.idle": "2021-10-10T12:37:53.205881Z",
     "shell.execute_reply": "2021-10-10T12:37:53.204848Z",
     "shell.execute_reply.started": "2021-10-10T12:30:56.050937Z"
    },
    "papermill": {
     "duration": 0.037878,
     "end_time": "2021-10-10T12:37:53.206090",
     "exception": false,
     "start_time": "2021-10-10T12:37:53.168212",
     "status": "completed"
    },
    "tags": []
   },
   "outputs": [],
   "source": [
    "train_df = train_df.drop(['Id'], axis=1)\n",
    "test_df = test_df.drop(['Id'], axis=1)"
   ]
  },
  {
   "cell_type": "code",
   "execution_count": 8,
   "id": "0f3b51ed",
   "metadata": {
    "execution": {
     "iopub.execute_input": "2021-10-10T12:37:53.255851Z",
     "iopub.status.busy": "2021-10-10T12:37:53.255213Z",
     "iopub.status.idle": "2021-10-10T12:37:53.276260Z",
     "shell.execute_reply": "2021-10-10T12:37:53.276846Z",
     "shell.execute_reply.started": "2021-10-10T12:30:56.171862Z"
    },
    "papermill": {
     "duration": 0.045805,
     "end_time": "2021-10-10T12:37:53.277014",
     "exception": false,
     "start_time": "2021-10-10T12:37:53.231209",
     "status": "completed"
    },
    "tags": []
   },
   "outputs": [
    {
     "data": {
      "text/html": [
       "<div>\n",
       "<style scoped>\n",
       "    .dataframe tbody tr th:only-of-type {\n",
       "        vertical-align: middle;\n",
       "    }\n",
       "\n",
       "    .dataframe tbody tr th {\n",
       "        vertical-align: top;\n",
       "    }\n",
       "\n",
       "    .dataframe thead th {\n",
       "        text-align: right;\n",
       "    }\n",
       "</style>\n",
       "<table border=\"1\" class=\"dataframe\">\n",
       "  <thead>\n",
       "    <tr style=\"text-align: right;\">\n",
       "      <th></th>\n",
       "      <th>MSSubClass</th>\n",
       "      <th>MSZoning</th>\n",
       "      <th>LotFrontage</th>\n",
       "      <th>LotArea</th>\n",
       "      <th>Street</th>\n",
       "      <th>Alley</th>\n",
       "      <th>LotShape</th>\n",
       "      <th>LandContour</th>\n",
       "      <th>Utilities</th>\n",
       "      <th>LotConfig</th>\n",
       "      <th>...</th>\n",
       "      <th>PoolArea</th>\n",
       "      <th>PoolQC</th>\n",
       "      <th>Fence</th>\n",
       "      <th>MiscFeature</th>\n",
       "      <th>MiscVal</th>\n",
       "      <th>MoSold</th>\n",
       "      <th>YrSold</th>\n",
       "      <th>SaleType</th>\n",
       "      <th>SaleCondition</th>\n",
       "      <th>SalePrice</th>\n",
       "    </tr>\n",
       "  </thead>\n",
       "  <tbody>\n",
       "    <tr>\n",
       "      <th>0</th>\n",
       "      <td>60</td>\n",
       "      <td>RL</td>\n",
       "      <td>65.0</td>\n",
       "      <td>8450</td>\n",
       "      <td>Pave</td>\n",
       "      <td>0</td>\n",
       "      <td>Reg</td>\n",
       "      <td>Lvl</td>\n",
       "      <td>AllPub</td>\n",
       "      <td>Inside</td>\n",
       "      <td>...</td>\n",
       "      <td>0</td>\n",
       "      <td>0</td>\n",
       "      <td>0</td>\n",
       "      <td>0</td>\n",
       "      <td>0</td>\n",
       "      <td>2</td>\n",
       "      <td>2008</td>\n",
       "      <td>WD</td>\n",
       "      <td>Normal</td>\n",
       "      <td>208500</td>\n",
       "    </tr>\n",
       "    <tr>\n",
       "      <th>1</th>\n",
       "      <td>20</td>\n",
       "      <td>RL</td>\n",
       "      <td>80.0</td>\n",
       "      <td>9600</td>\n",
       "      <td>Pave</td>\n",
       "      <td>0</td>\n",
       "      <td>Reg</td>\n",
       "      <td>Lvl</td>\n",
       "      <td>AllPub</td>\n",
       "      <td>FR2</td>\n",
       "      <td>...</td>\n",
       "      <td>0</td>\n",
       "      <td>0</td>\n",
       "      <td>0</td>\n",
       "      <td>0</td>\n",
       "      <td>0</td>\n",
       "      <td>5</td>\n",
       "      <td>2007</td>\n",
       "      <td>WD</td>\n",
       "      <td>Normal</td>\n",
       "      <td>181500</td>\n",
       "    </tr>\n",
       "  </tbody>\n",
       "</table>\n",
       "<p>2 rows × 80 columns</p>\n",
       "</div>"
      ],
      "text/plain": [
       "   MSSubClass MSZoning  LotFrontage  LotArea Street Alley LotShape  \\\n",
       "0          60       RL         65.0     8450   Pave     0      Reg   \n",
       "1          20       RL         80.0     9600   Pave     0      Reg   \n",
       "\n",
       "  LandContour Utilities LotConfig  ... PoolArea PoolQC Fence MiscFeature  \\\n",
       "0         Lvl    AllPub    Inside  ...        0      0     0           0   \n",
       "1         Lvl    AllPub       FR2  ...        0      0     0           0   \n",
       "\n",
       "  MiscVal MoSold  YrSold  SaleType  SaleCondition  SalePrice  \n",
       "0       0      2    2008        WD         Normal     208500  \n",
       "1       0      5    2007        WD         Normal     181500  \n",
       "\n",
       "[2 rows x 80 columns]"
      ]
     },
     "execution_count": 8,
     "metadata": {},
     "output_type": "execute_result"
    }
   ],
   "source": [
    "train_df.head(n=2)"
   ]
  },
  {
   "cell_type": "code",
   "execution_count": 9,
   "id": "76941521",
   "metadata": {
    "execution": {
     "iopub.execute_input": "2021-10-10T12:37:53.324862Z",
     "iopub.status.busy": "2021-10-10T12:37:53.324183Z",
     "iopub.status.idle": "2021-10-10T12:37:53.426792Z",
     "shell.execute_reply": "2021-10-10T12:37:53.427334Z",
     "shell.execute_reply.started": "2021-10-10T12:30:56.247175Z"
    },
    "papermill": {
     "duration": 0.128713,
     "end_time": "2021-10-10T12:37:53.427506",
     "exception": false,
     "start_time": "2021-10-10T12:37:53.298793",
     "status": "completed"
    },
    "tags": []
   },
   "outputs": [],
   "source": [
    "for col in str_columns:\n",
    "    le = LabelEncoder()\n",
    "    train_df[col] = le.fit_transform(train_df[col])\n",
    "    test_df[col] = le.fit_transform(test_df[col])"
   ]
  },
  {
   "cell_type": "code",
   "execution_count": 10,
   "id": "b90b35f2",
   "metadata": {
    "execution": {
     "iopub.execute_input": "2021-10-10T12:37:53.476689Z",
     "iopub.status.busy": "2021-10-10T12:37:53.476026Z",
     "iopub.status.idle": "2021-10-10T12:37:53.483236Z",
     "shell.execute_reply": "2021-10-10T12:37:53.482638Z",
     "shell.execute_reply.started": "2021-10-10T12:30:56.406350Z"
    },
    "papermill": {
     "duration": 0.032844,
     "end_time": "2021-10-10T12:37:53.483382",
     "exception": false,
     "start_time": "2021-10-10T12:37:53.450538",
     "status": "completed"
    },
    "tags": []
   },
   "outputs": [],
   "source": [
    "test_df['SalePrice'] = train_df['SalePrice'].iloc[:201]"
   ]
  },
  {
   "cell_type": "code",
   "execution_count": 11,
   "id": "f05443d0",
   "metadata": {
    "execution": {
     "iopub.execute_input": "2021-10-10T12:37:53.531072Z",
     "iopub.status.busy": "2021-10-10T12:37:53.530410Z",
     "iopub.status.idle": "2021-10-10T12:37:53.546903Z",
     "shell.execute_reply": "2021-10-10T12:37:53.547368Z",
     "shell.execute_reply.started": "2021-10-10T12:30:56.526747Z"
    },
    "papermill": {
     "duration": 0.042078,
     "end_time": "2021-10-10T12:37:53.547549",
     "exception": false,
     "start_time": "2021-10-10T12:37:53.505471",
     "status": "completed"
    },
    "tags": []
   },
   "outputs": [
    {
     "data": {
      "text/plain": [
       "StandardScaler()"
      ]
     },
     "execution_count": 11,
     "metadata": {},
     "output_type": "execute_result"
    }
   ],
   "source": [
    "scaler = StandardScaler()\n",
    "scaler.fit(train_df)"
   ]
  },
  {
   "cell_type": "code",
   "execution_count": 12,
   "id": "3f8ae39a",
   "metadata": {
    "execution": {
     "iopub.execute_input": "2021-10-10T12:37:53.599719Z",
     "iopub.status.busy": "2021-10-10T12:37:53.599022Z",
     "iopub.status.idle": "2021-10-10T12:37:53.606904Z",
     "shell.execute_reply": "2021-10-10T12:37:53.607443Z",
     "shell.execute_reply.started": "2021-10-10T12:30:56.571433Z"
    },
    "papermill": {
     "duration": 0.037515,
     "end_time": "2021-10-10T12:37:53.607626",
     "exception": false,
     "start_time": "2021-10-10T12:37:53.570111",
     "status": "completed"
    },
    "tags": []
   },
   "outputs": [],
   "source": [
    "train_data = scaler.transform(train_df)\n",
    "test_data = scaler.transform(test_df)"
   ]
  },
  {
   "cell_type": "code",
   "execution_count": 13,
   "id": "df4d0a10",
   "metadata": {
    "execution": {
     "iopub.execute_input": "2021-10-10T12:37:53.656261Z",
     "iopub.status.busy": "2021-10-10T12:37:53.655602Z",
     "iopub.status.idle": "2021-10-10T12:37:53.659501Z",
     "shell.execute_reply": "2021-10-10T12:37:53.660036Z",
     "shell.execute_reply.started": "2021-10-10T12:30:57.048472Z"
    },
    "papermill": {
     "duration": 0.029921,
     "end_time": "2021-10-10T12:37:53.660210",
     "exception": false,
     "start_time": "2021-10-10T12:37:53.630289",
     "status": "completed"
    },
    "tags": []
   },
   "outputs": [],
   "source": [
    "train_df = pd.DataFrame(train_data, columns=train_df.columns)\n",
    "test_df = pd.DataFrame(test_data, columns=test_df.columns)"
   ]
  },
  {
   "cell_type": "code",
   "execution_count": 14,
   "id": "fc61a5e9",
   "metadata": {
    "execution": {
     "iopub.execute_input": "2021-10-10T12:37:53.708222Z",
     "iopub.status.busy": "2021-10-10T12:37:53.707513Z",
     "iopub.status.idle": "2021-10-10T12:37:53.712101Z",
     "shell.execute_reply": "2021-10-10T12:37:53.712656Z",
     "shell.execute_reply.started": "2021-10-10T12:30:57.379021Z"
    },
    "papermill": {
     "duration": 0.030316,
     "end_time": "2021-10-10T12:37:53.712901",
     "exception": false,
     "start_time": "2021-10-10T12:37:53.682585",
     "status": "completed"
    },
    "tags": []
   },
   "outputs": [],
   "source": [
    "test_df = test_df.drop(['SalePrice'], axis=1)"
   ]
  },
  {
   "cell_type": "code",
   "execution_count": 15,
   "id": "a7dff7d3",
   "metadata": {
    "execution": {
     "iopub.execute_input": "2021-10-10T12:37:53.762176Z",
     "iopub.status.busy": "2021-10-10T12:37:53.761494Z",
     "iopub.status.idle": "2021-10-10T12:37:53.782682Z",
     "shell.execute_reply": "2021-10-10T12:37:53.783210Z",
     "shell.execute_reply.started": "2021-10-10T12:30:57.646927Z"
    },
    "papermill": {
     "duration": 0.04774,
     "end_time": "2021-10-10T12:37:53.783397",
     "exception": false,
     "start_time": "2021-10-10T12:37:53.735657",
     "status": "completed"
    },
    "tags": []
   },
   "outputs": [
    {
     "data": {
      "text/html": [
       "<div>\n",
       "<style scoped>\n",
       "    .dataframe tbody tr th:only-of-type {\n",
       "        vertical-align: middle;\n",
       "    }\n",
       "\n",
       "    .dataframe tbody tr th {\n",
       "        vertical-align: top;\n",
       "    }\n",
       "\n",
       "    .dataframe thead th {\n",
       "        text-align: right;\n",
       "    }\n",
       "</style>\n",
       "<table border=\"1\" class=\"dataframe\">\n",
       "  <thead>\n",
       "    <tr style=\"text-align: right;\">\n",
       "      <th></th>\n",
       "      <th>MSSubClass</th>\n",
       "      <th>MSZoning</th>\n",
       "      <th>LotFrontage</th>\n",
       "      <th>LotArea</th>\n",
       "      <th>Street</th>\n",
       "      <th>Alley</th>\n",
       "      <th>LotShape</th>\n",
       "      <th>LandContour</th>\n",
       "      <th>Utilities</th>\n",
       "      <th>LotConfig</th>\n",
       "      <th>...</th>\n",
       "      <th>ScreenPorch</th>\n",
       "      <th>PoolArea</th>\n",
       "      <th>PoolQC</th>\n",
       "      <th>Fence</th>\n",
       "      <th>MiscFeature</th>\n",
       "      <th>MiscVal</th>\n",
       "      <th>MoSold</th>\n",
       "      <th>YrSold</th>\n",
       "      <th>SaleType</th>\n",
       "      <th>SaleCondition</th>\n",
       "    </tr>\n",
       "  </thead>\n",
       "  <tbody>\n",
       "    <tr>\n",
       "      <th>0</th>\n",
       "      <td>-0.871918</td>\n",
       "      <td>-0.036322</td>\n",
       "      <td>0.206318</td>\n",
       "      <td>-0.074542</td>\n",
       "      <td>-14.451067</td>\n",
       "      <td>-0.238904</td>\n",
       "      <td>0.756592</td>\n",
       "      <td>0.310085</td>\n",
       "      <td>-0.028194</td>\n",
       "      <td>-0.618896</td>\n",
       "      <td>...</td>\n",
       "      <td>1.208226</td>\n",
       "      <td>-0.056248</td>\n",
       "      <td>-0.051004</td>\n",
       "      <td>-0.451289</td>\n",
       "      <td>-0.203162</td>\n",
       "      <td>-0.087433</td>\n",
       "      <td>0.255175</td>\n",
       "      <td>0.151227</td>\n",
       "      <td>-2.859626</td>\n",
       "      <td>-0.667876</td>\n",
       "    </tr>\n",
       "    <tr>\n",
       "      <th>1</th>\n",
       "      <td>0.072887</td>\n",
       "      <td>-0.036322</td>\n",
       "      <td>-1.701485</td>\n",
       "      <td>1.362959</td>\n",
       "      <td>-14.451067</td>\n",
       "      <td>-0.238904</td>\n",
       "      <td>0.048377</td>\n",
       "      <td>0.310085</td>\n",
       "      <td>-0.028194</td>\n",
       "      <td>-1.231949</td>\n",
       "      <td>...</td>\n",
       "      <td>-0.271282</td>\n",
       "      <td>-0.056248</td>\n",
       "      <td>-0.051004</td>\n",
       "      <td>-0.451289</td>\n",
       "      <td>-0.203162</td>\n",
       "      <td>-0.087433</td>\n",
       "      <td>-0.117523</td>\n",
       "      <td>0.906760</td>\n",
       "      <td>-2.859626</td>\n",
       "      <td>-0.667876</td>\n",
       "    </tr>\n",
       "  </tbody>\n",
       "</table>\n",
       "<p>2 rows × 79 columns</p>\n",
       "</div>"
      ],
      "text/plain": [
       "   MSSubClass  MSZoning  LotFrontage   LotArea     Street     Alley  LotShape  \\\n",
       "0   -0.871918 -0.036322     0.206318 -0.074542 -14.451067 -0.238904  0.756592   \n",
       "1    0.072887 -0.036322    -1.701485  1.362959 -14.451067 -0.238904  0.048377   \n",
       "\n",
       "   LandContour  Utilities  LotConfig  ...  ScreenPorch  PoolArea    PoolQC  \\\n",
       "0     0.310085  -0.028194  -0.618896  ...     1.208226 -0.056248 -0.051004   \n",
       "1     0.310085  -0.028194  -1.231949  ...    -0.271282 -0.056248 -0.051004   \n",
       "\n",
       "      Fence  MiscFeature   MiscVal    MoSold    YrSold  SaleType  \\\n",
       "0 -0.451289    -0.203162 -0.087433  0.255175  0.151227 -2.859626   \n",
       "1 -0.451289    -0.203162 -0.087433 -0.117523  0.906760 -2.859626   \n",
       "\n",
       "   SaleCondition  \n",
       "0      -0.667876  \n",
       "1      -0.667876  \n",
       "\n",
       "[2 rows x 79 columns]"
      ]
     },
     "execution_count": 15,
     "metadata": {},
     "output_type": "execute_result"
    }
   ],
   "source": [
    "test_df.head(n=2)"
   ]
  },
  {
   "cell_type": "code",
   "execution_count": 16,
   "id": "dd0f31f6",
   "metadata": {
    "execution": {
     "iopub.execute_input": "2021-10-10T12:37:53.838634Z",
     "iopub.status.busy": "2021-10-10T12:37:53.837975Z",
     "iopub.status.idle": "2021-10-10T12:37:53.841012Z",
     "shell.execute_reply": "2021-10-10T12:37:53.840470Z",
     "shell.execute_reply.started": "2021-10-10T12:30:59.659059Z"
    },
    "papermill": {
     "duration": 0.033124,
     "end_time": "2021-10-10T12:37:53.841149",
     "exception": false,
     "start_time": "2021-10-10T12:37:53.808025",
     "status": "completed"
    },
    "tags": []
   },
   "outputs": [],
   "source": [
    "train_data = train_df[test_df.columns]\n",
    "train_labels = train_df['SalePrice']"
   ]
  },
  {
   "cell_type": "code",
   "execution_count": 17,
   "id": "0e42c24f",
   "metadata": {
    "execution": {
     "iopub.execute_input": "2021-10-10T12:37:53.894836Z",
     "iopub.status.busy": "2021-10-10T12:37:53.894175Z",
     "iopub.status.idle": "2021-10-10T12:37:53.897196Z",
     "shell.execute_reply": "2021-10-10T12:37:53.896672Z",
     "shell.execute_reply.started": "2021-10-10T12:30:59.851771Z"
    },
    "papermill": {
     "duration": 0.031996,
     "end_time": "2021-10-10T12:37:53.897349",
     "exception": false,
     "start_time": "2021-10-10T12:37:53.865353",
     "status": "completed"
    },
    "tags": []
   },
   "outputs": [],
   "source": [
    "model = XGBRegressor(n_estimators=1000, max_depth=7, eta=0.1, subsample=0.7, colsample_bytree=0.8)"
   ]
  },
  {
   "cell_type": "code",
   "execution_count": 18,
   "id": "be2c48fd",
   "metadata": {
    "execution": {
     "iopub.execute_input": "2021-10-10T12:37:53.949836Z",
     "iopub.status.busy": "2021-10-10T12:37:53.949171Z",
     "iopub.status.idle": "2021-10-10T12:37:56.663286Z",
     "shell.execute_reply": "2021-10-10T12:37:56.662765Z",
     "shell.execute_reply.started": "2021-10-10T12:31:00.007119Z"
    },
    "papermill": {
     "duration": 2.743174,
     "end_time": "2021-10-10T12:37:56.663429",
     "exception": false,
     "start_time": "2021-10-10T12:37:53.920255",
     "status": "completed"
    },
    "tags": []
   },
   "outputs": [
    {
     "data": {
      "text/plain": [
       "XGBRegressor(base_score=0.5, booster='gbtree', colsample_bylevel=1,\n",
       "             colsample_bynode=1, colsample_bytree=0.8, eta=0.1, gamma=0,\n",
       "             gpu_id=-1, importance_type='gain', interaction_constraints='',\n",
       "             learning_rate=0.100000001, max_delta_step=0, max_depth=7,\n",
       "             min_child_weight=1, missing=nan, monotone_constraints='()',\n",
       "             n_estimators=1000, n_jobs=4, num_parallel_tree=1, random_state=0,\n",
       "             reg_alpha=0, reg_lambda=1, scale_pos_weight=1, subsample=0.7,\n",
       "             tree_method='exact', validate_parameters=1, verbosity=None)"
      ]
     },
     "execution_count": 18,
     "metadata": {},
     "output_type": "execute_result"
    }
   ],
   "source": [
    "model.fit(train_data, train_labels)"
   ]
  },
  {
   "cell_type": "code",
   "execution_count": 19,
   "id": "fe356166",
   "metadata": {
    "execution": {
     "iopub.execute_input": "2021-10-10T12:37:56.718355Z",
     "iopub.status.busy": "2021-10-10T12:37:56.717392Z",
     "iopub.status.idle": "2021-10-10T12:37:56.721796Z",
     "shell.execute_reply": "2021-10-10T12:37:56.722300Z",
     "shell.execute_reply.started": "2021-10-10T12:31:02.738199Z"
    },
    "papermill": {
     "duration": 0.035698,
     "end_time": "2021-10-10T12:37:56.722502",
     "exception": false,
     "start_time": "2021-10-10T12:37:56.686804",
     "status": "completed"
    },
    "tags": []
   },
   "outputs": [],
   "source": [
    "predictions = model.predict(test_df)"
   ]
  },
  {
   "cell_type": "code",
   "execution_count": 20,
   "id": "0a37c373",
   "metadata": {
    "execution": {
     "iopub.execute_input": "2021-10-10T12:37:56.776975Z",
     "iopub.status.busy": "2021-10-10T12:37:56.776160Z",
     "iopub.status.idle": "2021-10-10T12:37:56.779558Z",
     "shell.execute_reply": "2021-10-10T12:37:56.779065Z",
     "shell.execute_reply.started": "2021-10-10T12:31:03.683014Z"
    },
    "papermill": {
     "duration": 0.031551,
     "end_time": "2021-10-10T12:37:56.779699",
     "exception": false,
     "start_time": "2021-10-10T12:37:56.748148",
     "status": "completed"
    },
    "tags": []
   },
   "outputs": [],
   "source": [
    "test_df['SalePrice'] = predictions"
   ]
  },
  {
   "cell_type": "code",
   "execution_count": 21,
   "id": "a583bfed",
   "metadata": {
    "execution": {
     "iopub.execute_input": "2021-10-10T12:37:56.831230Z",
     "iopub.status.busy": "2021-10-10T12:37:56.830365Z",
     "iopub.status.idle": "2021-10-10T12:37:56.833878Z",
     "shell.execute_reply": "2021-10-10T12:37:56.833234Z",
     "shell.execute_reply.started": "2021-10-10T12:31:05.046763Z"
    },
    "papermill": {
     "duration": 0.031042,
     "end_time": "2021-10-10T12:37:56.834019",
     "exception": false,
     "start_time": "2021-10-10T12:37:56.802977",
     "status": "completed"
    },
    "tags": []
   },
   "outputs": [],
   "source": [
    "test_df = scaler.inverse_transform(test_df)"
   ]
  },
  {
   "cell_type": "code",
   "execution_count": 22,
   "id": "a2d98d1b",
   "metadata": {
    "execution": {
     "iopub.execute_input": "2021-10-10T12:37:56.886346Z",
     "iopub.status.busy": "2021-10-10T12:37:56.885612Z",
     "iopub.status.idle": "2021-10-10T12:37:56.888317Z",
     "shell.execute_reply": "2021-10-10T12:37:56.887736Z",
     "shell.execute_reply.started": "2021-10-10T12:31:09.968029Z"
    },
    "papermill": {
     "duration": 0.030441,
     "end_time": "2021-10-10T12:37:56.888465",
     "exception": false,
     "start_time": "2021-10-10T12:37:56.858024",
     "status": "completed"
    },
    "tags": []
   },
   "outputs": [],
   "source": [
    "test_df = pd.DataFrame(test_df, columns=train_df.columns)"
   ]
  },
  {
   "cell_type": "code",
   "execution_count": 23,
   "id": "2dadb536",
   "metadata": {
    "execution": {
     "iopub.execute_input": "2021-10-10T12:37:56.940392Z",
     "iopub.status.busy": "2021-10-10T12:37:56.939662Z",
     "iopub.status.idle": "2021-10-10T12:37:56.944320Z",
     "shell.execute_reply": "2021-10-10T12:37:56.944862Z",
     "shell.execute_reply.started": "2021-10-10T12:31:49.460383Z"
    },
    "papermill": {
     "duration": 0.033053,
     "end_time": "2021-10-10T12:37:56.945036",
     "exception": false,
     "start_time": "2021-10-10T12:37:56.911983",
     "status": "completed"
    },
    "tags": []
   },
   "outputs": [],
   "source": [
    "results = pd.DataFrame()\n",
    "results['Id'] = or_test_df['Id']\n",
    "results['SalePrice'] = test_df['SalePrice']"
   ]
  },
  {
   "cell_type": "code",
   "execution_count": 24,
   "id": "a2022912",
   "metadata": {
    "execution": {
     "iopub.execute_input": "2021-10-10T12:37:56.995680Z",
     "iopub.status.busy": "2021-10-10T12:37:56.995046Z",
     "iopub.status.idle": "2021-10-10T12:37:57.004558Z",
     "shell.execute_reply": "2021-10-10T12:37:57.004019Z",
     "shell.execute_reply.started": "2021-10-10T12:37:02.500640Z"
    },
    "papermill": {
     "duration": 0.035853,
     "end_time": "2021-10-10T12:37:57.004748",
     "exception": false,
     "start_time": "2021-10-10T12:37:56.968895",
     "status": "completed"
    },
    "tags": []
   },
   "outputs": [
    {
     "data": {
      "text/html": [
       "<div>\n",
       "<style scoped>\n",
       "    .dataframe tbody tr th:only-of-type {\n",
       "        vertical-align: middle;\n",
       "    }\n",
       "\n",
       "    .dataframe tbody tr th {\n",
       "        vertical-align: top;\n",
       "    }\n",
       "\n",
       "    .dataframe thead th {\n",
       "        text-align: right;\n",
       "    }\n",
       "</style>\n",
       "<table border=\"1\" class=\"dataframe\">\n",
       "  <thead>\n",
       "    <tr style=\"text-align: right;\">\n",
       "      <th></th>\n",
       "      <th>Id</th>\n",
       "      <th>SalePrice</th>\n",
       "    </tr>\n",
       "  </thead>\n",
       "  <tbody>\n",
       "    <tr>\n",
       "      <th>0</th>\n",
       "      <td>1260</td>\n",
       "      <td>141110.494646</td>\n",
       "    </tr>\n",
       "    <tr>\n",
       "      <th>1</th>\n",
       "      <td>1261</td>\n",
       "      <td>173641.485872</td>\n",
       "    </tr>\n",
       "    <tr>\n",
       "      <th>2</th>\n",
       "      <td>1262</td>\n",
       "      <td>120053.156420</td>\n",
       "    </tr>\n",
       "    <tr>\n",
       "      <th>3</th>\n",
       "      <td>1263</td>\n",
       "      <td>139107.531678</td>\n",
       "    </tr>\n",
       "    <tr>\n",
       "      <th>4</th>\n",
       "      <td>1264</td>\n",
       "      <td>170916.728926</td>\n",
       "    </tr>\n",
       "  </tbody>\n",
       "</table>\n",
       "</div>"
      ],
      "text/plain": [
       "     Id      SalePrice\n",
       "0  1260  141110.494646\n",
       "1  1261  173641.485872\n",
       "2  1262  120053.156420\n",
       "3  1263  139107.531678\n",
       "4  1264  170916.728926"
      ]
     },
     "execution_count": 24,
     "metadata": {},
     "output_type": "execute_result"
    }
   ],
   "source": [
    "results.head()"
   ]
  },
  {
   "cell_type": "code",
   "execution_count": 25,
   "id": "da0c7da6",
   "metadata": {
    "execution": {
     "iopub.execute_input": "2021-10-10T12:37:57.056496Z",
     "iopub.status.busy": "2021-10-10T12:37:57.055817Z",
     "iopub.status.idle": "2021-10-10T12:37:57.064106Z",
     "shell.execute_reply": "2021-10-10T12:37:57.063437Z"
    },
    "papermill": {
     "duration": 0.035107,
     "end_time": "2021-10-10T12:37:57.064263",
     "exception": false,
     "start_time": "2021-10-10T12:37:57.029156",
     "status": "completed"
    },
    "tags": []
   },
   "outputs": [],
   "source": [
    "results.to_csv('submissions.txt', index=False)"
   ]
  }
 ],
 "metadata": {
  "kernelspec": {
   "display_name": "Python 3",
   "language": "python",
   "name": "python3"
  },
  "language_info": {
   "codemirror_mode": {
    "name": "ipython",
    "version": 3
   },
   "file_extension": ".py",
   "mimetype": "text/x-python",
   "name": "python",
   "nbconvert_exporter": "python",
   "pygments_lexer": "ipython3",
   "version": "3.7.10"
  },
  "papermill": {
   "default_parameters": {},
   "duration": 14.804431,
   "end_time": "2021-10-10T12:37:58.220124",
   "environment_variables": {},
   "exception": null,
   "input_path": "__notebook__.ipynb",
   "output_path": "__notebook__.ipynb",
   "parameters": {},
   "start_time": "2021-10-10T12:37:43.415693",
   "version": "2.3.3"
  }
 },
 "nbformat": 4,
 "nbformat_minor": 5
}
