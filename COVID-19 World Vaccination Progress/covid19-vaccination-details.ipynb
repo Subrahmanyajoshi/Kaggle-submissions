{
 "cells": [
  {
   "cell_type": "code",
   "execution_count": 1,
   "id": "2df7c80b",
   "metadata": {
    "_cell_guid": "b1076dfc-b9ad-4769-8c92-a6c4dae69d19",
    "_uuid": "8f2839f25d086af736a60e9eeb907d3b93b6e0e5",
    "execution": {
     "iopub.execute_input": "2021-09-25T11:57:25.236976Z",
     "iopub.status.busy": "2021-09-25T11:57:25.236261Z",
     "iopub.status.idle": "2021-09-25T11:57:25.249151Z",
     "shell.execute_reply": "2021-09-25T11:57:25.249747Z",
     "shell.execute_reply.started": "2021-09-25T11:19:06.346800Z"
    },
    "papermill": {
     "duration": 0.044731,
     "end_time": "2021-09-25T11:57:25.250074",
     "exception": false,
     "start_time": "2021-09-25T11:57:25.205343",
     "status": "completed"
    },
    "tags": []
   },
   "outputs": [
    {
     "name": "stdout",
     "output_type": "stream",
     "text": [
      "/kaggle/input/covid-world-vaccination-progress/country_vaccinations_by_manufacturer.csv\n",
      "/kaggle/input/covid-world-vaccination-progress/country_vaccinations.csv\n"
     ]
    }
   ],
   "source": [
    "# This Python 3 environment comes with many helpful analytics libraries installed\n",
    "# It is defined by the kaggle/python Docker image: https://github.com/kaggle/docker-python\n",
    "# For example, here's several helpful packages to load\n",
    "\n",
    "import numpy as np # linear algebra\n",
    "import pandas as pd # data processing, CSV file I/O (e.g. pd.read_csv)\n",
    "from matplotlib import pyplot as plt\n",
    "\n",
    "# Input data files are available in the read-only \"../input/\" directory\n",
    "# For example, running this (by clicking run or pressing Shift+Enter) will list all files under the input directory\n",
    "\n",
    "import os\n",
    "for dirname, _, filenames in os.walk('/kaggle/input'):\n",
    "    for filename in filenames:\n",
    "        print(os.path.join(dirname, filename))\n",
    "        \n",
    "# You can write up to 20GB to the current directory (/kaggle/working/) that gets preserved as output when you create a version using \"Save & Run All\" \n",
    "# You can also write temporary files to /kaggle/temp/, but they won't be saved outside of the current session"
   ]
  },
  {
   "cell_type": "code",
   "execution_count": 2,
   "id": "b564a1fb",
   "metadata": {
    "execution": {
     "iopub.execute_input": "2021-09-25T11:57:25.290286Z",
     "iopub.status.busy": "2021-09-25T11:57:25.287326Z",
     "iopub.status.idle": "2021-09-25T11:57:25.561235Z",
     "shell.execute_reply": "2021-09-25T11:57:25.560058Z",
     "shell.execute_reply.started": "2021-09-25T11:52:10.442911Z"
    },
    "papermill": {
     "duration": 0.293523,
     "end_time": "2021-09-25T11:57:25.561437",
     "exception": false,
     "start_time": "2021-09-25T11:57:25.267914",
     "status": "completed"
    },
    "tags": []
   },
   "outputs": [],
   "source": [
    "# Read data\n",
    "df = pd.read_csv(\"/kaggle/input/covid-world-vaccination-progress/country_vaccinations.csv\")"
   ]
  },
  {
   "cell_type": "code",
   "execution_count": 3,
   "id": "61fae97b",
   "metadata": {
    "execution": {
     "iopub.execute_input": "2021-09-25T11:57:25.613209Z",
     "iopub.status.busy": "2021-09-25T11:57:25.604842Z",
     "iopub.status.idle": "2021-09-25T11:57:25.672387Z",
     "shell.execute_reply": "2021-09-25T11:57:25.673152Z",
     "shell.execute_reply.started": "2021-09-25T11:52:49.820697Z"
    },
    "papermill": {
     "duration": 0.094965,
     "end_time": "2021-09-25T11:57:25.673396",
     "exception": false,
     "start_time": "2021-09-25T11:57:25.578431",
     "status": "completed"
    },
    "tags": []
   },
   "outputs": [
    {
     "data": {
      "text/html": [
       "<div>\n",
       "<style scoped>\n",
       "    .dataframe tbody tr th:only-of-type {\n",
       "        vertical-align: middle;\n",
       "    }\n",
       "\n",
       "    .dataframe tbody tr th {\n",
       "        vertical-align: top;\n",
       "    }\n",
       "\n",
       "    .dataframe thead th {\n",
       "        text-align: right;\n",
       "    }\n",
       "</style>\n",
       "<table border=\"1\" class=\"dataframe\">\n",
       "  <thead>\n",
       "    <tr style=\"text-align: right;\">\n",
       "      <th></th>\n",
       "      <th>country</th>\n",
       "      <th>iso_code</th>\n",
       "      <th>date</th>\n",
       "      <th>total_vaccinations</th>\n",
       "      <th>people_vaccinated</th>\n",
       "      <th>people_fully_vaccinated</th>\n",
       "      <th>daily_vaccinations_raw</th>\n",
       "      <th>daily_vaccinations</th>\n",
       "      <th>total_vaccinations_per_hundred</th>\n",
       "      <th>people_vaccinated_per_hundred</th>\n",
       "      <th>people_fully_vaccinated_per_hundred</th>\n",
       "      <th>daily_vaccinations_per_million</th>\n",
       "      <th>vaccines</th>\n",
       "      <th>source_name</th>\n",
       "      <th>source_website</th>\n",
       "    </tr>\n",
       "  </thead>\n",
       "  <tbody>\n",
       "    <tr>\n",
       "      <th>0</th>\n",
       "      <td>Afghanistan</td>\n",
       "      <td>AFG</td>\n",
       "      <td>2021-02-22</td>\n",
       "      <td>0.0</td>\n",
       "      <td>0.0</td>\n",
       "      <td>NaN</td>\n",
       "      <td>NaN</td>\n",
       "      <td>NaN</td>\n",
       "      <td>0.0</td>\n",
       "      <td>0.0</td>\n",
       "      <td>NaN</td>\n",
       "      <td>NaN</td>\n",
       "      <td>Johnson&amp;Johnson, Oxford/AstraZeneca, Pfizer/Bi...</td>\n",
       "      <td>World Health Organization</td>\n",
       "      <td>https://app.powerbi.com/view?r=eyJrIjoiYTkyM2V...</td>\n",
       "    </tr>\n",
       "    <tr>\n",
       "      <th>1</th>\n",
       "      <td>Afghanistan</td>\n",
       "      <td>AFG</td>\n",
       "      <td>2021-02-23</td>\n",
       "      <td>NaN</td>\n",
       "      <td>NaN</td>\n",
       "      <td>NaN</td>\n",
       "      <td>NaN</td>\n",
       "      <td>1367.0</td>\n",
       "      <td>NaN</td>\n",
       "      <td>NaN</td>\n",
       "      <td>NaN</td>\n",
       "      <td>34.0</td>\n",
       "      <td>Johnson&amp;Johnson, Oxford/AstraZeneca, Pfizer/Bi...</td>\n",
       "      <td>World Health Organization</td>\n",
       "      <td>https://app.powerbi.com/view?r=eyJrIjoiYTkyM2V...</td>\n",
       "    </tr>\n",
       "    <tr>\n",
       "      <th>2</th>\n",
       "      <td>Afghanistan</td>\n",
       "      <td>AFG</td>\n",
       "      <td>2021-02-24</td>\n",
       "      <td>NaN</td>\n",
       "      <td>NaN</td>\n",
       "      <td>NaN</td>\n",
       "      <td>NaN</td>\n",
       "      <td>1367.0</td>\n",
       "      <td>NaN</td>\n",
       "      <td>NaN</td>\n",
       "      <td>NaN</td>\n",
       "      <td>34.0</td>\n",
       "      <td>Johnson&amp;Johnson, Oxford/AstraZeneca, Pfizer/Bi...</td>\n",
       "      <td>World Health Organization</td>\n",
       "      <td>https://app.powerbi.com/view?r=eyJrIjoiYTkyM2V...</td>\n",
       "    </tr>\n",
       "  </tbody>\n",
       "</table>\n",
       "</div>"
      ],
      "text/plain": [
       "       country iso_code       date  total_vaccinations  people_vaccinated  \\\n",
       "0  Afghanistan      AFG 2021-02-22                 0.0                0.0   \n",
       "1  Afghanistan      AFG 2021-02-23                 NaN                NaN   \n",
       "2  Afghanistan      AFG 2021-02-24                 NaN                NaN   \n",
       "\n",
       "   people_fully_vaccinated  daily_vaccinations_raw  daily_vaccinations  \\\n",
       "0                      NaN                     NaN                 NaN   \n",
       "1                      NaN                     NaN              1367.0   \n",
       "2                      NaN                     NaN              1367.0   \n",
       "\n",
       "   total_vaccinations_per_hundred  people_vaccinated_per_hundred  \\\n",
       "0                             0.0                            0.0   \n",
       "1                             NaN                            NaN   \n",
       "2                             NaN                            NaN   \n",
       "\n",
       "   people_fully_vaccinated_per_hundred  daily_vaccinations_per_million  \\\n",
       "0                                  NaN                             NaN   \n",
       "1                                  NaN                            34.0   \n",
       "2                                  NaN                            34.0   \n",
       "\n",
       "                                            vaccines  \\\n",
       "0  Johnson&Johnson, Oxford/AstraZeneca, Pfizer/Bi...   \n",
       "1  Johnson&Johnson, Oxford/AstraZeneca, Pfizer/Bi...   \n",
       "2  Johnson&Johnson, Oxford/AstraZeneca, Pfizer/Bi...   \n",
       "\n",
       "                 source_name  \\\n",
       "0  World Health Organization   \n",
       "1  World Health Organization   \n",
       "2  World Health Organization   \n",
       "\n",
       "                                      source_website  \n",
       "0  https://app.powerbi.com/view?r=eyJrIjoiYTkyM2V...  \n",
       "1  https://app.powerbi.com/view?r=eyJrIjoiYTkyM2V...  \n",
       "2  https://app.powerbi.com/view?r=eyJrIjoiYTkyM2V...  "
      ]
     },
     "execution_count": 3,
     "metadata": {},
     "output_type": "execute_result"
    }
   ],
   "source": [
    "# Converted 'date' column to datetime to plot with matplotlib later\n",
    "df['date'] = pd.to_datetime(df['date'])\n",
    "\n",
    "# An overview of the data\n",
    "df.head(n=3)"
   ]
  },
  {
   "cell_type": "markdown",
   "id": "81d0985c",
   "metadata": {
    "papermill": {
     "duration": 0.019225,
     "end_time": "2021-09-25T11:57:25.716718",
     "exception": false,
     "start_time": "2021-09-25T11:57:25.697493",
     "status": "completed"
    },
    "tags": []
   },
   "source": [
    "# Task 1"
   ]
  },
  {
   "cell_type": "markdown",
   "id": "6126980d",
   "metadata": {
    "papermill": {
     "duration": 0.017998,
     "end_time": "2021-09-25T11:57:25.754936",
     "exception": false,
     "start_time": "2021-09-25T11:57:25.736938",
     "status": "completed"
    },
    "tags": []
   },
   "source": [
    "## What vaccines are used ?"
   ]
  },
  {
   "cell_type": "code",
   "execution_count": 4,
   "id": "e3191082",
   "metadata": {
    "execution": {
     "iopub.execute_input": "2021-09-25T11:57:25.798635Z",
     "iopub.status.busy": "2021-09-25T11:57:25.797520Z",
     "iopub.status.idle": "2021-09-25T11:57:25.799469Z",
     "shell.execute_reply": "2021-09-25T11:57:25.800002Z",
     "shell.execute_reply.started": "2021-09-25T11:53:51.104066Z"
    },
    "papermill": {
     "duration": 0.026706,
     "end_time": "2021-09-25T11:57:25.800194",
     "exception": false,
     "start_time": "2021-09-25T11:57:25.773488",
     "status": "completed"
    },
    "tags": []
   },
   "outputs": [],
   "source": [
    "def get_vaccines(cdf: pd.DataFrame):\n",
    "    vaccines = cdf['vaccines'].unique()\n",
    "    distinct_vaccines = []\n",
    "    \n",
    "    for vaccine in vaccines:\n",
    "        for v in vaccine.split(','):\n",
    "            v = v.strip()\n",
    "            if v not in distinct_vaccines:\n",
    "                distinct_vaccines.append(v)\n",
    "    return distinct_vaccines\n"
   ]
  },
  {
   "cell_type": "code",
   "execution_count": 5,
   "id": "5bd89d8b",
   "metadata": {
    "execution": {
     "iopub.execute_input": "2021-09-25T11:57:25.843503Z",
     "iopub.status.busy": "2021-09-25T11:57:25.838054Z",
     "iopub.status.idle": "2021-09-25T11:57:25.850368Z",
     "shell.execute_reply": "2021-09-25T11:57:25.850983Z",
     "shell.execute_reply.started": "2021-09-25T11:54:42.981115Z"
    },
    "papermill": {
     "duration": 0.033908,
     "end_time": "2021-09-25T11:57:25.851189",
     "exception": false,
     "start_time": "2021-09-25T11:57:25.817281",
     "status": "completed"
    },
    "tags": []
   },
   "outputs": [
    {
     "name": "stdout",
     "output_type": "stream",
     "text": [
      "Vaccines used:\n",
      "Johnson&Johnson, Oxford/AstraZeneca, Pfizer/BioNTech, Sinopharm/Beijing, Sinovac, Sputnik V, CanSino, Moderna, Covaxin, Sinopharm/Wuhan, ZF2001, Abdala, Soberana02, COVIran Barekat, QazVac, Sinopharm/HayatVax, EpiVacCorona, Medigen\n"
     ]
    }
   ],
   "source": [
    "vaccines = get_vaccines(df)\n",
    "print(\"Vaccines used:\")\n",
    "print(', '.join(vaccines))"
   ]
  },
  {
   "cell_type": "markdown",
   "id": "826ef4b4",
   "metadata": {
    "papermill": {
     "duration": 0.018564,
     "end_time": "2021-09-25T11:57:25.887047",
     "exception": false,
     "start_time": "2021-09-25T11:57:25.868483",
     "status": "completed"
    },
    "tags": []
   },
   "source": [
    "## Which vaccines are used in which countries?"
   ]
  },
  {
   "cell_type": "code",
   "execution_count": 6,
   "id": "9ce13e4c",
   "metadata": {
    "execution": {
     "iopub.execute_input": "2021-09-25T11:57:25.927108Z",
     "iopub.status.busy": "2021-09-25T11:57:25.926103Z",
     "iopub.status.idle": "2021-09-25T11:57:25.935780Z",
     "shell.execute_reply": "2021-09-25T11:57:25.936274Z",
     "shell.execute_reply.started": "2021-09-25T11:55:07.545198Z"
    },
    "papermill": {
     "duration": 0.032022,
     "end_time": "2021-09-25T11:57:25.936490",
     "exception": false,
     "start_time": "2021-09-25T11:57:25.904468",
     "status": "completed"
    },
    "tags": []
   },
   "outputs": [],
   "source": [
    "vaccines_country = {}\n",
    "people_vaccinated = {}\n",
    "vaccinations_percentage = {}\n",
    "\n",
    "countries = df['country'].unique()\n",
    "\n",
    "for vaccine in vaccines:\n",
    "    vaccines_country[vaccine] = []"
   ]
  },
  {
   "cell_type": "code",
   "execution_count": 7,
   "id": "1e693e02",
   "metadata": {
    "execution": {
     "iopub.execute_input": "2021-09-25T11:57:25.997319Z",
     "iopub.status.busy": "2021-09-25T11:57:25.974678Z",
     "iopub.status.idle": "2021-09-25T11:57:28.121505Z",
     "shell.execute_reply": "2021-09-25T11:57:28.120883Z",
     "shell.execute_reply.started": "2021-09-25T11:55:11.235367Z"
    },
    "papermill": {
     "duration": 2.167676,
     "end_time": "2021-09-25T11:57:28.121682",
     "exception": false,
     "start_time": "2021-09-25T11:57:25.954006",
     "status": "completed"
    },
    "tags": []
   },
   "outputs": [],
   "source": [
    "for country in countries:\n",
    "    country_df = df.loc[df['country'] == country]\n",
    "    country_vaccinations = country_df['people_vaccinated'].sum()\n",
    "    people_vaccinated[country] = country_vaccinations\n",
    "    c_vaccines = country_df['vaccines'].unique()\n",
    "    \n",
    "    country_df = country_df.dropna(subset=['people_vaccinated_per_hundred'])\n",
    "    if not country_df.empty:\n",
    "        vaccinations_percentage[country] = list(country_df['people_vaccinated_per_hundred'])[-1]\n",
    "    else:\n",
    "        vaccinations_percentage[country] = 0\n",
    "    \n",
    "    for vaccine in c_vaccines:\n",
    "        for v in vaccine.split(','):\n",
    "            v = v.strip()\n",
    "            vaccines_country[v].append(country)"
   ]
  },
  {
   "cell_type": "code",
   "execution_count": 8,
   "id": "8040953c",
   "metadata": {
    "execution": {
     "iopub.execute_input": "2021-09-25T11:57:28.161719Z",
     "iopub.status.busy": "2021-09-25T11:57:28.161021Z",
     "iopub.status.idle": "2021-09-25T11:57:28.180132Z",
     "shell.execute_reply": "2021-09-25T11:57:28.178884Z",
     "shell.execute_reply.started": "2021-09-25T11:55:16.002568Z"
    },
    "papermill": {
     "duration": 0.040198,
     "end_time": "2021-09-25T11:57:28.180318",
     "exception": false,
     "start_time": "2021-09-25T11:57:28.140120",
     "status": "completed"
    },
    "tags": []
   },
   "outputs": [
    {
     "name": "stdout",
     "output_type": "stream",
     "text": [
      "Vaccine: Johnson&Johnson:\n",
      "Number of countries using it: 51\n",
      "List of countries using it: \n",
      "['Afghanistan', 'Austria', 'Belgium', 'Bolivia', 'Brazil', 'British Virgin Islands', 'Bulgaria', 'Cambodia', 'Colombia', 'Cyprus', 'Czechia', 'Denmark', 'Djibouti', 'Egypt', 'Estonia', 'France', 'French Polynesia', 'Germany', 'Greece', 'Haiti', 'Honduras', 'Hungary', 'Iceland', 'Ireland', 'Italy', 'Jamaica', 'Laos', 'Latvia', 'Libya', 'Lithuania', 'Luxembourg', 'Malawi', 'Malta', 'Mexico', 'Moldova', 'Morocco', 'Netherlands', 'Philippines', 'Poland', 'Portugal', 'Romania', 'Somalia', 'South Africa', 'South Korea', 'Spain', 'Sudan', 'Syria', 'Tanzania', 'Tunisia', 'United States', 'Yemen']\n",
      "-------------------------------------------------------------------------------------------------------------------------------------------------------------------------------------------------------- \n",
      "\n",
      "Vaccine: Oxford/AstraZeneca:\n",
      "Number of countries using it: 182\n",
      "List of countries using it: \n",
      "['Afghanistan', 'Albania', 'Algeria', 'Andorra', 'Angola', 'Anguilla', 'Antigua and Barbuda', 'Argentina', 'Armenia', 'Australia', 'Austria', 'Azerbaijan', 'Bahamas', 'Bahrain', 'Bangladesh', 'Barbados', 'Belgium', 'Belize', 'Benin', 'Bermuda', 'Bhutan', 'Bolivia', 'Bosnia and Herzegovina', 'Botswana', 'Brazil', 'British Virgin Islands', 'Brunei', 'Bulgaria', 'Burkina Faso', 'Cambodia', 'Cameroon', 'Canada', 'Cape Verde', 'Cayman Islands', 'Central African Republic', 'Chile', 'Colombia', 'Comoros', 'Congo', 'Costa Rica', \"Cote d'Ivoire\", 'Croatia', 'Cyprus', 'Czechia', 'Democratic Republic of Congo', 'Djibouti', 'Dominica', 'Dominican Republic', 'Ecuador', 'Egypt', 'El Salvador', 'England', 'Estonia', 'Eswatini', 'Ethiopia', 'Falkland Islands', 'Fiji', 'Finland', 'France', 'Gambia', 'Georgia', 'Germany', 'Ghana', 'Greece', 'Grenada', 'Guatemala', 'Guernsey', 'Guinea-Bissau', 'Guyana', 'Haiti', 'Honduras', 'Hungary', 'Iceland', 'India', 'Indonesia', 'Iran', 'Iraq', 'Ireland', 'Isle of Man', 'Italy', 'Jamaica', 'Japan', 'Jersey', 'Jordan', 'Kenya', 'Kiribati', 'Kosovo', 'Laos', 'Latvia', 'Lebanon', 'Lesotho', 'Liberia', 'Libya', 'Lithuania', 'Luxembourg', 'Madagascar', 'Malawi', 'Malaysia', 'Maldives', 'Mali', 'Malta', 'Mauritania', 'Mauritius', 'Mexico', 'Moldova', 'Mongolia', 'Montenegro', 'Montserrat', 'Morocco', 'Mozambique', 'Myanmar', 'Namibia', 'Nauru', 'Nepal', 'Netherlands', 'Nicaragua', 'Niger', 'Nigeria', 'Niue', 'North Macedonia', 'Northern Cyprus', 'Northern Ireland', 'Oman', 'Pakistan', 'Palestine', 'Panama', 'Papua New Guinea', 'Paraguay', 'Peru', 'Philippines', 'Pitcairn', 'Poland', 'Portugal', 'Romania', 'Rwanda', 'Saint Helena', 'Saint Kitts and Nevis', 'Saint Lucia', 'Saint Vincent and the Grenadines', 'Samoa', 'Sao Tome and Principe', 'Saudi Arabia', 'Scotland', 'Senegal', 'Serbia', 'Seychelles', 'Sierra Leone', 'Sint Maarten (Dutch part)', 'Slovakia', 'Slovenia', 'Solomon Islands', 'Somalia', 'South Korea', 'South Sudan', 'Spain', 'Sri Lanka', 'Sudan', 'Suriname', 'Sweden', 'Syria', 'Taiwan', 'Tajikistan', 'Thailand', 'Timor', 'Togo', 'Tonga', 'Trinidad and Tobago', 'Tunisia', 'Turkmenistan', 'Tuvalu', 'Uganda', 'Ukraine', 'United Arab Emirates', 'United Kingdom', 'Uruguay', 'Uzbekistan', 'Vanuatu', 'Vietnam', 'Wales', 'Yemen', 'Zambia', 'Zimbabwe']\n",
      "-------------------------------------------------------------------------------------------------------------------------------------------------------------------------------------------------------- \n",
      "\n",
      "Vaccine: Pfizer/BioNTech:\n",
      "Number of countries using it: 129\n",
      "List of countries using it: \n",
      "['Afghanistan', 'Albania', 'Andorra', 'Argentina', 'Aruba', 'Australia', 'Austria', 'Bahrain', 'Bangladesh', 'Barbados', 'Belgium', 'Bermuda', 'Bhutan', 'Bolivia', 'Bonaire Sint Eustatius and Saba', 'Bosnia and Herzegovina', 'Botswana', 'Brazil', 'Bulgaria', 'Canada', 'Cape Verde', 'Cayman Islands', 'Chile', 'Colombia', 'Cook Islands', 'Costa Rica', 'Croatia', 'Curacao', 'Cyprus', 'Czechia', 'Denmark', 'Djibouti', 'Dominica', 'Dominican Republic', 'Ecuador', 'Egypt', 'El Salvador', 'England', 'Estonia', 'Faeroe Islands', 'Finland', 'France', 'French Polynesia', 'Georgia', 'Germany', 'Gibraltar', 'Greece', 'Grenada', 'Guernsey', 'Honduras', 'Hong Kong', 'Hungary', 'Iceland', 'Indonesia', 'Iraq', 'Ireland', 'Isle of Man', 'Israel', 'Italy', 'Jamaica', 'Japan', 'Jersey', 'Jordan', 'Kosovo', 'Kuwait', 'Laos', 'Latvia', 'Lebanon', 'Libya', 'Liechtenstein', 'Lithuania', 'Luxembourg', 'Macao', 'Malaysia', 'Maldives', 'Malta', 'Mexico', 'Moldova', 'Monaco', 'Mongolia', 'Montenegro', 'Morocco', 'Netherlands', 'New Caledonia', 'New Zealand', 'North Macedonia', 'Northern Cyprus', 'Northern Ireland', 'Norway', 'Oman', 'Pakistan', 'Palestine', 'Panama', 'Paraguay', 'Peru', 'Philippines', 'Poland', 'Portugal', 'Qatar', 'Romania', 'Rwanda', 'Saint Kitts and Nevis', 'San Marino', 'Saudi Arabia', 'Scotland', 'Serbia', 'Singapore', 'Sint Maarten (Dutch part)', 'Slovakia', 'Slovenia', 'South Africa', 'South Korea', 'Spain', 'Sri Lanka', 'Sudan', 'Sweden', 'Switzerland', 'Thailand', 'Tokelau', 'Tunisia', 'Turkey', 'Turks and Caicos Islands', 'Ukraine', 'United Arab Emirates', 'United Kingdom', 'United States', 'Uruguay', 'Vietnam', 'Wales']\n",
      "-------------------------------------------------------------------------------------------------------------------------------------------------------------------------------------------------------- \n",
      "\n",
      "Vaccine: Sinopharm/Beijing:\n",
      "Number of countries using it: 69\n",
      "List of countries using it: \n",
      "['Afghanistan', 'Algeria', 'Argentina', 'Bahrain', 'Bangladesh', 'Barbados', 'Belarus', 'Belize', 'Bhutan', 'Bolivia', 'Brunei', 'Cambodia', 'Cameroon', 'Chad', 'China', 'Comoros', 'Congo', 'Djibouti', 'Dominica', 'Dominican Republic', 'Egypt', 'Equatorial Guinea', 'Gabon', 'Gambia', 'Georgia', 'Guinea-Bissau', 'Hungary', 'Indonesia', 'Iran', 'Iraq', 'Jordan', 'Kyrgyzstan', 'Laos', 'Lebanon', 'Libya', 'Macao', 'Maldives', 'Mauritania', 'Mauritius', 'Moldova', 'Mongolia', 'Montenegro', 'Morocco', 'Mozambique', 'Myanmar', 'Namibia', 'Nepal', 'Niger', 'North Macedonia', 'Pakistan', 'Paraguay', 'Peru', 'Senegal', 'Serbia', 'Seychelles', 'Sierra Leone', 'Somalia', 'Sri Lanka', 'Sudan', 'Syria', 'Thailand', 'Trinidad and Tobago', 'Tunisia', 'Turkmenistan', 'United Arab Emirates', 'Venezuela', 'Vietnam', 'Zambia', 'Zimbabwe']\n",
      "-------------------------------------------------------------------------------------------------------------------------------------------------------------------------------------------------------- \n",
      "\n",
      "Vaccine: Sinovac:\n",
      "Number of countries using it: 41\n",
      "List of countries using it: \n",
      "['Albania', 'Armenia', 'Azerbaijan', 'Benin', 'Bosnia and Herzegovina', 'Botswana', 'Brazil', 'Cambodia', 'Chile', 'China', 'Colombia', 'Djibouti', 'Dominican Republic', 'Ecuador', 'Egypt', 'El Salvador', 'Georgia', 'Hong Kong', 'Indonesia', 'Laos', 'Libya', 'Malaysia', 'Mexico', 'North Macedonia', 'Northern Cyprus', 'Oman', 'Pakistan', 'Paraguay', 'Philippines', 'Singapore', 'Somalia', 'Sudan', 'Syria', 'Tajikistan', 'Thailand', 'Timor', 'Tunisia', 'Turkey', 'Ukraine', 'Uruguay', 'Zimbabwe']\n",
      "-------------------------------------------------------------------------------------------------------------------------------------------------------------------------------------------------------- \n",
      "\n",
      "Vaccine: Sputnik V:\n",
      "Number of countries using it: 51\n",
      "List of countries using it: \n",
      "['Albania', 'Algeria', 'Argentina', 'Armenia', 'Azerbaijan', 'Bahrain', 'Belarus', 'Bolivia', 'Bosnia and Herzegovina', 'Congo', 'Djibouti', 'Egypt', 'Ghana', 'Guinea', 'Guyana', 'Honduras', 'Hungary', 'India', 'Iran', 'Iraq', 'Jordan', 'Kazakhstan', 'Kenya', 'Kyrgyzstan', 'Laos', 'Lebanon', 'Libya', 'Mexico', 'Moldova', 'Mongolia', 'Montenegro', 'Morocco', 'Nicaragua', 'North Macedonia', 'Oman', 'Pakistan', 'Palestine', 'Paraguay', 'Philippines', 'Russia', 'San Marino', 'Serbia', 'Sri Lanka', 'Syria', 'Tunisia', 'Turkmenistan', 'United Arab Emirates', 'Uzbekistan', 'Venezuela', 'Vietnam', 'Zimbabwe']\n",
      "-------------------------------------------------------------------------------------------------------------------------------------------------------------------------------------------------------- \n",
      "\n",
      "Vaccine: CanSino:\n",
      "Number of countries using it: 7\n",
      "List of countries using it: \n",
      "['Argentina', 'Chile', 'China', 'Ecuador', 'Malaysia', 'Mexico', 'Pakistan']\n",
      "-------------------------------------------------------------------------------------------------------------------------------------------------------------------------------------------------------- \n",
      "\n",
      "Vaccine: Moderna:\n",
      "Number of countries using it: 73\n",
      "List of countries using it: \n",
      "['Argentina', 'Austria', 'Bangladesh', 'Belgium', 'Bhutan', 'Bonaire Sint Eustatius and Saba', 'Botswana', 'Bulgaria', 'Canada', 'Colombia', 'Congo', 'Croatia', 'Curacao', 'Cyprus', 'Czechia', 'Denmark', 'England', 'Estonia', 'Faeroe Islands', 'Finland', 'France', 'Germany', 'Greece', 'Greenland', 'Guatemala', 'Guernsey', 'Honduras', 'Hungary', 'Iceland', 'Indonesia', 'Ireland', 'Israel', 'Italy', 'Jamaica', 'Japan', 'Jersey', 'Latvia', 'Libya', 'Liechtenstein', 'Lithuania', 'Luxembourg', 'Malta', 'Mexico', 'Netherlands', 'Northern Ireland', 'Norway', 'Pakistan', 'Palestine', 'Paraguay', 'Philippines', 'Poland', 'Portugal', 'Qatar', 'Romania', 'Rwanda', 'Scotland', 'Singapore', 'Sint Maarten (Dutch part)', 'Slovakia', 'South Korea', 'Spain', 'Sri Lanka', 'Sweden', 'Switzerland', 'Taiwan', 'Tajikistan', 'Tunisia', 'Ukraine', 'United Kingdom', 'United States', 'Vietnam', 'Wales', 'Wallis and Futuna']\n",
      "-------------------------------------------------------------------------------------------------------------------------------------------------------------------------------------------------------- \n",
      "\n",
      "Vaccine: Covaxin:\n",
      "Number of countries using it: 7\n",
      "List of countries using it: \n",
      "['Central African Republic', 'Comoros', 'India', 'Iran', 'Mauritius', 'Pakistan', 'Paraguay']\n",
      "-------------------------------------------------------------------------------------------------------------------------------------------------------------------------------------------------------- \n",
      "\n",
      "Vaccine: Sinopharm/Wuhan:\n",
      "Number of countries using it: 3\n",
      "List of countries using it: \n",
      "['China', 'United Arab Emirates', 'Venezuela']\n",
      "-------------------------------------------------------------------------------------------------------------------------------------------------------------------------------------------------------- \n",
      "\n",
      "Vaccine: ZF2001:\n",
      "Number of countries using it: 2\n",
      "List of countries using it: \n",
      "['China', 'Uzbekistan']\n",
      "-------------------------------------------------------------------------------------------------------------------------------------------------------------------------------------------------------- \n",
      "\n",
      "Vaccine: Abdala:\n",
      "Number of countries using it: 1\n",
      "List of countries using it: \n",
      "['Cuba']\n",
      "-------------------------------------------------------------------------------------------------------------------------------------------------------------------------------------------------------- \n",
      "\n",
      "Vaccine: Soberana02:\n",
      "Number of countries using it: 1\n",
      "List of countries using it: \n",
      "['Cuba']\n",
      "-------------------------------------------------------------------------------------------------------------------------------------------------------------------------------------------------------- \n",
      "\n",
      "Vaccine: COVIran Barekat:\n",
      "Number of countries using it: 1\n",
      "List of countries using it: \n",
      "['Iran']\n",
      "-------------------------------------------------------------------------------------------------------------------------------------------------------------------------------------------------------- \n",
      "\n",
      "Vaccine: QazVac:\n",
      "Number of countries using it: 1\n",
      "List of countries using it: \n",
      "['Kazakhstan']\n",
      "-------------------------------------------------------------------------------------------------------------------------------------------------------------------------------------------------------- \n",
      "\n",
      "Vaccine: Sinopharm/HayatVax:\n",
      "Number of countries using it: 1\n",
      "List of countries using it: \n",
      "['Kazakhstan']\n",
      "-------------------------------------------------------------------------------------------------------------------------------------------------------------------------------------------------------- \n",
      "\n",
      "Vaccine: EpiVacCorona:\n",
      "Number of countries using it: 2\n",
      "List of countries using it: \n",
      "['Russia', 'Turkmenistan']\n",
      "-------------------------------------------------------------------------------------------------------------------------------------------------------------------------------------------------------- \n",
      "\n",
      "Vaccine: Medigen:\n",
      "Number of countries using it: 1\n",
      "List of countries using it: \n",
      "['Taiwan']\n",
      "-------------------------------------------------------------------------------------------------------------------------------------------------------------------------------------------------------- \n",
      "\n"
     ]
    }
   ],
   "source": [
    "for vaccine in vaccines_country:\n",
    "    print(f\"Vaccine: {vaccine}:\")\n",
    "    print(f\"Number of countries using it: {len(vaccines_country[vaccine])}\")\n",
    "    print(f\"List of countries using it: \\n{vaccines_country[vaccine]}\")\n",
    "    print(f\"-\"*200, \"\\n\")"
   ]
  },
  {
   "cell_type": "markdown",
   "id": "4d755f7d",
   "metadata": {
    "papermill": {
     "duration": 0.018352,
     "end_time": "2021-09-25T11:57:28.217013",
     "exception": false,
     "start_time": "2021-09-25T11:57:28.198661",
     "status": "completed"
    },
    "tags": []
   },
   "source": [
    "## Histogram of vaccines by number of countries using it"
   ]
  },
  {
   "cell_type": "code",
   "execution_count": 9,
   "id": "c5fe948b",
   "metadata": {
    "execution": {
     "iopub.execute_input": "2021-09-25T11:57:28.277840Z",
     "iopub.status.busy": "2021-09-25T11:57:28.277047Z",
     "iopub.status.idle": "2021-09-25T11:57:28.608631Z",
     "shell.execute_reply": "2021-09-25T11:57:28.607442Z",
     "shell.execute_reply.started": "2021-09-25T11:55:40.220556Z"
    },
    "papermill": {
     "duration": 0.373337,
     "end_time": "2021-09-25T11:57:28.608789",
     "exception": false,
     "start_time": "2021-09-25T11:57:28.235452",
     "status": "completed"
    },
    "tags": []
   },
   "outputs": [
    {
     "data": {
      "image/png": "[encoded data removed]",
      "text/plain": [
       "<Figure size 1440x504 with 1 Axes>"
      ]
     },
     "metadata": {
      "needs_background": "light"
     },
     "output_type": "display_data"
    }
   ],
   "source": [
    "vaccine_counts = {}\n",
    "for v in vaccines_country:\n",
    "    vaccine_counts[v] = len(vaccines_country[v])\n",
    "\n",
    "plt.rcParams[\"figure.figsize\"] = (20,7)\n",
    "plt.bar(vaccine_counts.keys(), vaccine_counts.values())\n",
    "plt.xticks(rotation=60)\n",
    "plt.show()"
   ]
  },
  {
   "cell_type": "markdown",
   "id": "03959cda",
   "metadata": {
    "papermill": {
     "duration": 0.019137,
     "end_time": "2021-09-25T11:57:28.647810",
     "exception": false,
     "start_time": "2021-09-25T11:57:28.628673",
     "status": "completed"
    },
    "tags": []
   },
   "source": [
    "## Country with highest vaccinations"
   ]
  },
  {
   "cell_type": "code",
   "execution_count": 10,
   "id": "d2e370dc",
   "metadata": {
    "execution": {
     "iopub.execute_input": "2021-09-25T11:57:28.691027Z",
     "iopub.status.busy": "2021-09-25T11:57:28.690251Z",
     "iopub.status.idle": "2021-09-25T11:57:28.695585Z",
     "shell.execute_reply": "2021-09-25T11:57:28.696164Z",
     "shell.execute_reply.started": "2021-09-25T11:56:00.518777Z"
    },
    "papermill": {
     "duration": 0.029057,
     "end_time": "2021-09-25T11:57:28.696353",
     "exception": false,
     "start_time": "2021-09-25T11:57:28.667296",
     "status": "completed"
    },
    "tags": []
   },
   "outputs": [
    {
     "name": "stdout",
     "output_type": "stream",
     "text": [
      "Country with highest vaccinations:  India\n"
     ]
    }
   ],
   "source": [
    "max_v_country = max(people_vaccinated, key=people_vaccinated.get)\n",
    "print(\"Country with highest vaccinations: \",max_v_country)"
   ]
  },
  {
   "cell_type": "markdown",
   "id": "648b49a2",
   "metadata": {
    "papermill": {
     "duration": 0.019564,
     "end_time": "2021-09-25T11:57:28.736467",
     "exception": false,
     "start_time": "2021-09-25T11:57:28.716903",
     "status": "completed"
    },
    "tags": []
   },
   "source": [
    "## Number of people vaccinated over time in country with highest vaccinations"
   ]
  },
  {
   "cell_type": "code",
   "execution_count": 11,
   "id": "93351f5d",
   "metadata": {
    "execution": {
     "iopub.execute_input": "2021-09-25T11:57:28.779996Z",
     "iopub.status.busy": "2021-09-25T11:57:28.779273Z",
     "iopub.status.idle": "2021-09-25T11:57:29.077539Z",
     "shell.execute_reply": "2021-09-25T11:57:29.078110Z",
     "shell.execute_reply.started": "2021-09-25T11:56:06.447776Z"
    },
    "papermill": {
     "duration": 0.322047,
     "end_time": "2021-09-25T11:57:29.078286",
     "exception": false,
     "start_time": "2021-09-25T11:57:28.756239",
     "status": "completed"
    },
    "tags": []
   },
   "outputs": [
    {
     "data": {
      "image/png": "[encoded data removed]",
      "text/plain": [
       "<Figure size 1440x504 with 1 Axes>"
      ]
     },
     "metadata": {
      "needs_background": "light"
     },
     "output_type": "display_data"
    }
   ],
   "source": [
    "max_v_cntry_df = df.loc[df['country'] == max_v_country]\n",
    "max_v_cntry_df = max_v_cntry_df.sort_values(by='date')\n",
    "\n",
    "plt.plot(max_v_cntry_df['date'], max_v_cntry_df['people_vaccinated'])\n",
    "\n",
    "plt.title(f\"Vaccinations over time in {max_v_country}\")\n",
    "plt.xlabel(\"Time\")\n",
    "plt.ylabel(\"People Vaccinated (in 100 millions)\")\n",
    "\n",
    "plt.show()"
   ]
  },
  {
   "cell_type": "markdown",
   "id": "a9123b68",
   "metadata": {
    "papermill": {
     "duration": 0.02075,
     "end_time": "2021-09-25T11:57:29.119843",
     "exception": false,
     "start_time": "2021-09-25T11:57:29.099093",
     "status": "completed"
    },
    "tags": []
   },
   "source": [
    "## What country has vaccinated a larger percent from its population?"
   ]
  },
  {
   "cell_type": "code",
   "execution_count": 12,
   "id": "22811067",
   "metadata": {
    "execution": {
     "iopub.execute_input": "2021-09-25T11:57:29.169834Z",
     "iopub.status.busy": "2021-09-25T11:57:29.169084Z",
     "iopub.status.idle": "2021-09-25T11:57:29.173834Z",
     "shell.execute_reply": "2021-09-25T11:57:29.174275Z",
     "shell.execute_reply.started": "2021-09-25T11:56:15.698027Z"
    },
    "papermill": {
     "duration": 0.033578,
     "end_time": "2021-09-25T11:57:29.174458",
     "exception": false,
     "start_time": "2021-09-25T11:57:29.140880",
     "status": "completed"
    },
    "tags": []
   },
   "outputs": [
    {
     "name": "stdout",
     "output_type": "stream",
     "text": [
      "Country which has vaccinated larger percent of population:  Gibraltar\n",
      "Percent of population vaccinated:  118.27\n"
     ]
    }
   ],
   "source": [
    "max_per_country = max(vaccinations_percentage, key=vaccinations_percentage.get)\n",
    "print(\"Country which has vaccinated larger percent of population: \", max_per_country)\n",
    "print(\"Percent of population vaccinated: \", vaccinations_percentage[max_per_country])"
   ]
  },
  {
   "cell_type": "markdown",
   "id": "ae51a631",
   "metadata": {
    "papermill": {
     "duration": 0.02108,
     "end_time": "2021-09-25T11:57:29.217055",
     "exception": false,
     "start_time": "2021-09-25T11:57:29.195975",
     "status": "completed"
    },
    "tags": []
   },
   "source": [
    "## Vaccination percentage over time in country with highest percentage of vaccinations"
   ]
  },
  {
   "cell_type": "code",
   "execution_count": 13,
   "id": "6e76f6e7",
   "metadata": {
    "execution": {
     "iopub.execute_input": "2021-09-25T11:57:29.263199Z",
     "iopub.status.busy": "2021-09-25T11:57:29.262548Z",
     "iopub.status.idle": "2021-09-25T11:57:29.557957Z",
     "shell.execute_reply": "2021-09-25T11:57:29.557433Z",
     "shell.execute_reply.started": "2021-09-25T11:56:31.970047Z"
    },
    "papermill": {
     "duration": 0.319726,
     "end_time": "2021-09-25T11:57:29.558099",
     "exception": false,
     "start_time": "2021-09-25T11:57:29.238373",
     "status": "completed"
    },
    "tags": []
   },
   "outputs": [
    {
     "data": {
      "image/png": "[encoded data removed]",
      "text/plain": [
       "<Figure size 1440x504 with 1 Axes>"
      ]
     },
     "metadata": {
      "needs_background": "light"
     },
     "output_type": "display_data"
    }
   ],
   "source": [
    "max_per_cntry_df = df.loc[df['country'] == max_per_country]\n",
    "max_per_cntry_df = max_per_cntry_df.sort_values(by='date')\n",
    "\n",
    "plt.plot(max_per_cntry_df['date'], max_per_cntry_df['people_vaccinated_per_hundred'])\n",
    "\n",
    "plt.title(f\"Percentage of vaccinations over time in {max_per_country}\")\n",
    "plt.xlabel(\"Time\")\n",
    "plt.ylabel(\"Percentage of people Vaccinated\")\n",
    "\n",
    "plt.show()"
   ]
  },
  {
   "cell_type": "code",
   "execution_count": null,
   "id": "17eff1b9",
   "metadata": {
    "papermill": {
     "duration": 0.022007,
     "end_time": "2021-09-25T11:57:29.602281",
     "exception": false,
     "start_time": "2021-09-25T11:57:29.580274",
     "status": "completed"
    },
    "tags": []
   },
   "outputs": [],
   "source": []
  }
 ],
 "metadata": {
  "kernelspec": {
   "display_name": "Python 3",
   "language": "python",
   "name": "python3"
  },
  "language_info": {
   "codemirror_mode": {
    "name": "ipython",
    "version": 3
   },
   "file_extension": ".py",
   "mimetype": "text/x-python",
   "name": "python",
   "nbconvert_exporter": "python",
   "pygments_lexer": "ipython3",
   "version": "3.7.10"
  },
  "papermill": {
   "default_parameters": {},
   "duration": 13.936539,
   "end_time": "2021-09-25T11:57:30.235026",
   "environment_variables": {},
   "exception": null,
   "input_path": "__notebook__.ipynb",
   "output_path": "__notebook__.ipynb",
   "parameters": {},
   "start_time": "2021-09-25T11:57:16.298487",
   "version": "2.3.3"
  }
 },
 "nbformat": 4,
 "nbformat_minor": 5
}
