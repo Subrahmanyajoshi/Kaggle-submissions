{
 "cells": [
  {
   "cell_type": "code",
   "execution_count": 1,
   "id": "8d810813",
   "metadata": {
    "execution": {
     "iopub.execute_input": "2021-10-15T14:38:19.972727Z",
     "iopub.status.busy": "2021-10-15T14:38:19.970894Z",
     "iopub.status.idle": "2021-10-15T14:38:27.016875Z",
     "shell.execute_reply": "2021-10-15T14:38:27.015884Z",
     "shell.execute_reply.started": "2021-10-15T14:37:22.780222Z"
    },
    "papermill": {
     "duration": 7.072206,
     "end_time": "2021-10-15T14:38:27.017082",
     "exception": false,
     "start_time": "2021-10-15T14:38:19.944876",
     "status": "completed"
    },
    "tags": []
   },
   "outputs": [
    {
     "name": "stderr",
     "output_type": "stream",
     "text": [
      "2021-10-15 14:38:20.627414: W tensorflow/stream_executor/platform/default/dso_loader.cc:60] Could not load dynamic library 'libcudart.so.11.0'; dlerror: libcudart.so.11.0: cannot open shared object file: No such file or directory; LD_LIBRARY_PATH: /opt/conda/lib\n",
      "2021-10-15 14:38:20.627539: I tensorflow/stream_executor/cuda/cudart_stub.cc:29] Ignore above cudart dlerror if you do not have a GPU set up on your machine.\n"
     ]
    }
   ],
   "source": [
    "import pandas as pd\n",
    "import numpy as np\n",
    "\n",
    "import tensorflow as tf\n",
    "from tensorflow.keras import layers\n",
    "from tensorflow.keras.models import Sequential\n",
    "from sklearn.utils import shuffle\n",
    "from sklearn.model_selection import train_test_split\n",
    "from sklearn.ensemble import RandomForestClassifier, ExtraTreesClassifier\n",
    "from sklearn.svm import SVC\n",
    "\n",
    "from sklearn.preprocessing import StandardScaler,MinMaxScaler\n",
    "from xgboost import XGBClassifier\n",
    "from sklearn.metrics import accuracy_score\n",
    "\n",
    "import matplotlib.pyplot as plt"
   ]
  },
  {
   "cell_type": "code",
   "execution_count": 2,
   "id": "073fe74c",
   "metadata": {
    "execution": {
     "iopub.execute_input": "2021-10-15T14:38:27.064844Z",
     "iopub.status.busy": "2021-10-15T14:38:27.063903Z",
     "iopub.status.idle": "2021-10-15T14:38:27.093958Z",
     "shell.execute_reply": "2021-10-15T14:38:27.094520Z",
     "shell.execute_reply.started": "2021-10-15T14:35:57.988540Z"
    },
    "papermill": {
     "duration": 0.056894,
     "end_time": "2021-10-15T14:38:27.094755",
     "exception": false,
     "start_time": "2021-10-15T14:38:27.037861",
     "status": "completed"
    },
    "tags": []
   },
   "outputs": [],
   "source": [
    "# Read train and test csv files\n",
    "train_df = pd.read_csv(\"/kaggle/input/titanic/train.csv\")\n",
    "test_df = pd.read_csv(\"/kaggle/input/titanic/test.csv\")\n",
    "\n",
    "or_test_df = test_df"
   ]
  },
  {
   "cell_type": "code",
   "execution_count": 3,
   "id": "983d6dc5",
   "metadata": {
    "execution": {
     "iopub.execute_input": "2021-10-15T14:38:27.138572Z",
     "iopub.status.busy": "2021-10-15T14:38:27.137854Z",
     "iopub.status.idle": "2021-10-15T14:38:27.164662Z",
     "shell.execute_reply": "2021-10-15T14:38:27.165384Z",
     "shell.execute_reply.started": "2021-10-15T14:35:59.833534Z"
    },
    "papermill": {
     "duration": 0.050805,
     "end_time": "2021-10-15T14:38:27.165593",
     "exception": false,
     "start_time": "2021-10-15T14:38:27.114788",
     "status": "completed"
    },
    "tags": []
   },
   "outputs": [
    {
     "data": {
      "text/html": [
       "<div>\n",
       "<style scoped>\n",
       "    .dataframe tbody tr th:only-of-type {\n",
       "        vertical-align: middle;\n",
       "    }\n",
       "\n",
       "    .dataframe tbody tr th {\n",
       "        vertical-align: top;\n",
       "    }\n",
       "\n",
       "    .dataframe thead th {\n",
       "        text-align: right;\n",
       "    }\n",
       "</style>\n",
       "<table border=\"1\" class=\"dataframe\">\n",
       "  <thead>\n",
       "    <tr style=\"text-align: right;\">\n",
       "      <th></th>\n",
       "      <th>PassengerId</th>\n",
       "      <th>Survived</th>\n",
       "      <th>Pclass</th>\n",
       "      <th>Name</th>\n",
       "      <th>Sex</th>\n",
       "      <th>Age</th>\n",
       "      <th>SibSp</th>\n",
       "      <th>Parch</th>\n",
       "      <th>Ticket</th>\n",
       "      <th>Fare</th>\n",
       "      <th>Cabin</th>\n",
       "      <th>Embarked</th>\n",
       "    </tr>\n",
       "  </thead>\n",
       "  <tbody>\n",
       "    <tr>\n",
       "      <th>0</th>\n",
       "      <td>1</td>\n",
       "      <td>0</td>\n",
       "      <td>3</td>\n",
       "      <td>Braund, Mr. Owen Harris</td>\n",
       "      <td>male</td>\n",
       "      <td>22.0</td>\n",
       "      <td>1</td>\n",
       "      <td>0</td>\n",
       "      <td>A/5 21171</td>\n",
       "      <td>7.2500</td>\n",
       "      <td>NaN</td>\n",
       "      <td>S</td>\n",
       "    </tr>\n",
       "    <tr>\n",
       "      <th>1</th>\n",
       "      <td>2</td>\n",
       "      <td>1</td>\n",
       "      <td>1</td>\n",
       "      <td>Cumings, Mrs. John Bradley (Florence Briggs Th...</td>\n",
       "      <td>female</td>\n",
       "      <td>38.0</td>\n",
       "      <td>1</td>\n",
       "      <td>0</td>\n",
       "      <td>PC 17599</td>\n",
       "      <td>71.2833</td>\n",
       "      <td>C85</td>\n",
       "      <td>C</td>\n",
       "    </tr>\n",
       "  </tbody>\n",
       "</table>\n",
       "</div>"
      ],
      "text/plain": [
       "   PassengerId  Survived  Pclass  \\\n",
       "0            1         0       3   \n",
       "1            2         1       1   \n",
       "\n",
       "                                                Name     Sex   Age  SibSp  \\\n",
       "0                            Braund, Mr. Owen Harris    male  22.0      1   \n",
       "1  Cumings, Mrs. John Bradley (Florence Briggs Th...  female  38.0      1   \n",
       "\n",
       "   Parch     Ticket     Fare Cabin Embarked  \n",
       "0      0  A/5 21171   7.2500   NaN        S  \n",
       "1      0   PC 17599  71.2833   C85        C  "
      ]
     },
     "execution_count": 3,
     "metadata": {},
     "output_type": "execute_result"
    }
   ],
   "source": [
    "# to have an overlook of data\n",
    "train_df.head(n=2)"
   ]
  },
  {
   "cell_type": "code",
   "execution_count": 4,
   "id": "a02aaac1",
   "metadata": {
    "execution": {
     "iopub.execute_input": "2021-10-15T14:38:27.210606Z",
     "iopub.status.busy": "2021-10-15T14:38:27.209856Z",
     "iopub.status.idle": "2021-10-15T14:38:27.225350Z",
     "shell.execute_reply": "2021-10-15T14:38:27.225959Z",
     "shell.execute_reply.started": "2021-10-15T14:36:00.227347Z"
    },
    "papermill": {
     "duration": 0.040028,
     "end_time": "2021-10-15T14:38:27.226196",
     "exception": false,
     "start_time": "2021-10-15T14:38:27.186168",
     "status": "completed"
    },
    "tags": []
   },
   "outputs": [],
   "source": [
    "train_df = train_df.drop(['Name', 'Ticket', 'PassengerId', 'Fare'], axis=1)\n",
    "test_df = test_df.drop(['Name', 'Ticket', 'PassengerId', 'Fare'], axis=1)"
   ]
  },
  {
   "cell_type": "code",
   "execution_count": 5,
   "id": "cf6e646f",
   "metadata": {
    "execution": {
     "iopub.execute_input": "2021-10-15T14:38:27.271456Z",
     "iopub.status.busy": "2021-10-15T14:38:27.270664Z",
     "iopub.status.idle": "2021-10-15T14:38:27.285568Z",
     "shell.execute_reply": "2021-10-15T14:38:27.286172Z",
     "shell.execute_reply.started": "2021-10-15T14:36:00.485727Z"
    },
    "papermill": {
     "duration": 0.039478,
     "end_time": "2021-10-15T14:38:27.286398",
     "exception": false,
     "start_time": "2021-10-15T14:38:27.246920",
     "status": "completed"
    },
    "tags": []
   },
   "outputs": [],
   "source": [
    "train_df['relatives'] = train_df['SibSp'] + train_df['Parch']\n",
    "test_df['relatives'] = test_df['SibSp'] + test_df['Parch']\n",
    "\n",
    "train_df = train_df.drop(['SibSp', 'Parch'], axis=1)\n",
    "test_df = test_df.drop(['SibSp', 'Parch'], axis=1)"
   ]
  },
  {
   "cell_type": "code",
   "execution_count": 6,
   "id": "5e43b230",
   "metadata": {
    "execution": {
     "iopub.execute_input": "2021-10-15T14:38:27.331726Z",
     "iopub.status.busy": "2021-10-15T14:38:27.330968Z",
     "iopub.status.idle": "2021-10-15T14:38:27.336517Z",
     "shell.execute_reply": "2021-10-15T14:38:27.335953Z",
     "shell.execute_reply.started": "2021-10-15T14:36:00.713341Z"
    },
    "papermill": {
     "duration": 0.029573,
     "end_time": "2021-10-15T14:38:27.336684",
     "exception": false,
     "start_time": "2021-10-15T14:38:27.307111",
     "status": "completed"
    },
    "tags": []
   },
   "outputs": [],
   "source": [
    "str_columns = ['Sex', 'Cabin', 'Embarked']\n",
    "num_columns = ['Pclass', 'Age', 'relatives']"
   ]
  },
  {
   "cell_type": "markdown",
   "id": "5c442a93",
   "metadata": {
    "papermill": {
     "duration": 0.021275,
     "end_time": "2021-10-15T14:38:27.378258",
     "exception": false,
     "start_time": "2021-10-15T14:38:27.356983",
     "status": "completed"
    },
    "tags": []
   },
   "source": [
    "### Converting columns with string values to integers"
   ]
  },
  {
   "cell_type": "code",
   "execution_count": 7,
   "id": "99b82fc2",
   "metadata": {
    "execution": {
     "iopub.execute_input": "2021-10-15T14:38:27.437739Z",
     "iopub.status.busy": "2021-10-15T14:38:27.433001Z",
     "iopub.status.idle": "2021-10-15T14:38:27.446175Z",
     "shell.execute_reply": "2021-10-15T14:38:27.445479Z",
     "shell.execute_reply.started": "2021-10-15T14:36:02.634051Z"
    },
    "papermill": {
     "duration": 0.047822,
     "end_time": "2021-10-15T14:38:27.446361",
     "exception": false,
     "start_time": "2021-10-15T14:38:27.398539",
     "status": "completed"
    },
    "tags": []
   },
   "outputs": [],
   "source": [
    "def convert_to_str(df):\n",
    "    for col in df.columns:\n",
    "        if (df[col].dtype == np.int64 or df[col].dtype == np.float64):\n",
    "            df[col] = df[col].fillna(df[col].mean())\n",
    "        else:\n",
    "            df[col] = df[col].fillna(method='ffill')\n",
    "    return df\n",
    "\n",
    "train_df = convert_to_str(train_df)\n",
    "test_df = convert_to_str(test_df)"
   ]
  },
  {
   "cell_type": "code",
   "execution_count": 8,
   "id": "1972c335",
   "metadata": {
    "execution": {
     "iopub.execute_input": "2021-10-15T14:38:27.499665Z",
     "iopub.status.busy": "2021-10-15T14:38:27.498525Z",
     "iopub.status.idle": "2021-10-15T14:38:27.504198Z",
     "shell.execute_reply": "2021-10-15T14:38:27.503552Z",
     "shell.execute_reply.started": "2021-10-15T14:36:02.770534Z"
    },
    "papermill": {
     "duration": 0.037596,
     "end_time": "2021-10-15T14:38:27.504391",
     "exception": false,
     "start_time": "2021-10-15T14:38:27.466795",
     "status": "completed"
    },
    "tags": []
   },
   "outputs": [],
   "source": [
    "train_df['type'] = 'train'\n",
    "test_df['type'] = 'test'\n",
    "\n",
    "# Add a dummy SalePrice column to test dataframe to make number of columns equal \n",
    "test_df['Survived'] = train_df['Survived'].iloc[:418]\n",
    "\n",
    "df = train_df.append(test_df, ignore_index=True)"
   ]
  },
  {
   "cell_type": "code",
   "execution_count": 9,
   "id": "2208e52f",
   "metadata": {
    "execution": {
     "iopub.execute_input": "2021-10-15T14:38:27.553018Z",
     "iopub.status.busy": "2021-10-15T14:38:27.548331Z",
     "iopub.status.idle": "2021-10-15T14:38:27.576297Z",
     "shell.execute_reply": "2021-10-15T14:38:27.575550Z",
     "shell.execute_reply.started": "2021-10-15T14:36:04.274716Z"
    },
    "papermill": {
     "duration": 0.051827,
     "end_time": "2021-10-15T14:38:27.576457",
     "exception": false,
     "start_time": "2021-10-15T14:38:27.524630",
     "status": "completed"
    },
    "tags": []
   },
   "outputs": [],
   "source": [
    "for col in str_columns:\n",
    "    one_hot = pd.get_dummies(df[col])\n",
    "\n",
    "    replace_cols = {}\n",
    "    for one_col in one_hot.columns:\n",
    "        replace_cols[one_col] = f\"{col}_{one_col}\"\n",
    "    one_hot = one_hot.rename(columns=replace_cols)\n",
    "\n",
    "    df = df.drop(col, axis = 1)\n",
    "    df = df.join(one_hot)"
   ]
  },
  {
   "cell_type": "code",
   "execution_count": 10,
   "id": "07893410",
   "metadata": {
    "execution": {
     "iopub.execute_input": "2021-10-15T14:38:27.626547Z",
     "iopub.status.busy": "2021-10-15T14:38:27.625288Z",
     "iopub.status.idle": "2021-10-15T14:38:27.635967Z",
     "shell.execute_reply": "2021-10-15T14:38:27.635259Z",
     "shell.execute_reply.started": "2021-10-15T14:36:04.473466Z"
    },
    "papermill": {
     "duration": 0.039247,
     "end_time": "2021-10-15T14:38:27.636122",
     "exception": false,
     "start_time": "2021-10-15T14:38:27.596875",
     "status": "completed"
    },
    "tags": []
   },
   "outputs": [],
   "source": [
    "train_df = df[df['type'] == 'train']\n",
    "test_df = df[df['type'] == 'test']\n",
    "\n",
    "train_df = train_df.drop(['type'], axis=1)\n",
    "test_df = test_df.drop(['type'], axis=1)\n",
    "\n",
    "test_df = test_df.reset_index(drop=True)"
   ]
  },
  {
   "cell_type": "markdown",
   "id": "cb60f5d2",
   "metadata": {
    "papermill": {
     "duration": 0.020198,
     "end_time": "2021-10-15T14:38:27.676925",
     "exception": false,
     "start_time": "2021-10-15T14:38:27.656727",
     "status": "completed"
    },
    "tags": []
   },
   "source": [
    "### Scaling"
   ]
  },
  {
   "cell_type": "code",
   "execution_count": 11,
   "id": "d96bf2c6",
   "metadata": {
    "execution": {
     "iopub.execute_input": "2021-10-15T14:38:27.728908Z",
     "iopub.status.busy": "2021-10-15T14:38:27.727733Z",
     "iopub.status.idle": "2021-10-15T14:38:27.734597Z",
     "shell.execute_reply": "2021-10-15T14:38:27.733989Z",
     "shell.execute_reply.started": "2021-10-15T14:37:15.933894Z"
    },
    "papermill": {
     "duration": 0.03734,
     "end_time": "2021-10-15T14:38:27.734765",
     "exception": false,
     "start_time": "2021-10-15T14:38:27.697425",
     "status": "completed"
    },
    "tags": []
   },
   "outputs": [
    {
     "data": {
      "text/plain": [
       "MinMaxScaler()"
      ]
     },
     "execution_count": 11,
     "metadata": {},
     "output_type": "execute_result"
    }
   ],
   "source": [
    "scaler = MinMaxScaler()\n",
    "scaler.fit(train_df[num_columns])"
   ]
  },
  {
   "cell_type": "code",
   "execution_count": 12,
   "id": "dda2fd6e",
   "metadata": {
    "execution": {
     "iopub.execute_input": "2021-10-15T14:38:27.792341Z",
     "iopub.status.busy": "2021-10-15T14:38:27.791534Z",
     "iopub.status.idle": "2021-10-15T14:38:27.796928Z",
     "shell.execute_reply": "2021-10-15T14:38:27.796319Z",
     "shell.execute_reply.started": "2021-10-15T14:36:07.986032Z"
    },
    "papermill": {
     "duration": 0.041649,
     "end_time": "2021-10-15T14:38:27.797086",
     "exception": false,
     "start_time": "2021-10-15T14:38:27.755437",
     "status": "completed"
    },
    "tags": []
   },
   "outputs": [],
   "source": [
    "train_df[num_columns] = scaler.transform(train_df[num_columns])\n",
    "test_df[num_columns] = scaler.transform(test_df[num_columns])"
   ]
  },
  {
   "cell_type": "code",
   "execution_count": 13,
   "id": "51295ebc",
   "metadata": {
    "execution": {
     "iopub.execute_input": "2021-10-15T14:38:27.848840Z",
     "iopub.status.busy": "2021-10-15T14:38:27.847936Z",
     "iopub.status.idle": "2021-10-15T14:38:27.851575Z",
     "shell.execute_reply": "2021-10-15T14:38:27.850948Z",
     "shell.execute_reply.started": "2021-10-15T14:36:08.219837Z"
    },
    "papermill": {
     "duration": 0.033649,
     "end_time": "2021-10-15T14:38:27.851741",
     "exception": false,
     "start_time": "2021-10-15T14:38:27.818092",
     "status": "completed"
    },
    "tags": []
   },
   "outputs": [],
   "source": [
    "test_df = test_df.drop(['Survived'], axis=1)"
   ]
  },
  {
   "cell_type": "code",
   "execution_count": 14,
   "id": "5cfb91ab",
   "metadata": {
    "execution": {
     "iopub.execute_input": "2021-10-15T14:38:27.901219Z",
     "iopub.status.busy": "2021-10-15T14:38:27.900397Z",
     "iopub.status.idle": "2021-10-15T14:38:27.904089Z",
     "shell.execute_reply": "2021-10-15T14:38:27.903556Z",
     "shell.execute_reply.started": "2021-10-15T14:36:08.515042Z"
    },
    "papermill": {
     "duration": 0.031795,
     "end_time": "2021-10-15T14:38:27.904312",
     "exception": false,
     "start_time": "2021-10-15T14:38:27.872517",
     "status": "completed"
    },
    "tags": []
   },
   "outputs": [],
   "source": [
    "train_labels = train_df['Survived']\n",
    "train_data = train_df.drop(['Survived'], axis=1)"
   ]
  },
  {
   "cell_type": "code",
   "execution_count": 15,
   "id": "6b7e6158",
   "metadata": {
    "execution": {
     "iopub.execute_input": "2021-10-15T14:38:27.952602Z",
     "iopub.status.busy": "2021-10-15T14:38:27.951848Z",
     "iopub.status.idle": "2021-10-15T14:38:27.955527Z",
     "shell.execute_reply": "2021-10-15T14:38:27.954787Z",
     "shell.execute_reply.started": "2021-10-15T14:36:27.986137Z"
    },
    "papermill": {
     "duration": 0.030019,
     "end_time": "2021-10-15T14:38:27.955698",
     "exception": false,
     "start_time": "2021-10-15T14:38:27.925679",
     "status": "completed"
    },
    "tags": []
   },
   "outputs": [],
   "source": [
    "model = RandomForestClassifier()"
   ]
  },
  {
   "cell_type": "code",
   "execution_count": 16,
   "id": "ae8a39f0",
   "metadata": {
    "execution": {
     "iopub.execute_input": "2021-10-15T14:38:28.002861Z",
     "iopub.status.busy": "2021-10-15T14:38:28.001982Z",
     "iopub.status.idle": "2021-10-15T14:38:28.365453Z",
     "shell.execute_reply": "2021-10-15T14:38:28.364877Z",
     "shell.execute_reply.started": "2021-10-15T14:36:44.751194Z"
    },
    "papermill": {
     "duration": 0.388947,
     "end_time": "2021-10-15T14:38:28.365625",
     "exception": false,
     "start_time": "2021-10-15T14:38:27.976678",
     "status": "completed"
    },
    "tags": []
   },
   "outputs": [
    {
     "data": {
      "text/plain": [
       "RandomForestClassifier()"
      ]
     },
     "execution_count": 16,
     "metadata": {},
     "output_type": "execute_result"
    }
   ],
   "source": [
    "model.fit(train_data, train_labels)"
   ]
  },
  {
   "cell_type": "code",
   "execution_count": 17,
   "id": "30fb94ad",
   "metadata": {
    "execution": {
     "iopub.execute_input": "2021-10-15T14:38:28.417808Z",
     "iopub.status.busy": "2021-10-15T14:38:28.416705Z",
     "iopub.status.idle": "2021-10-15T14:38:28.442439Z",
     "shell.execute_reply": "2021-10-15T14:38:28.441833Z",
     "shell.execute_reply.started": "2021-10-15T14:36:45.068494Z"
    },
    "papermill": {
     "duration": 0.056015,
     "end_time": "2021-10-15T14:38:28.442618",
     "exception": false,
     "start_time": "2021-10-15T14:38:28.386603",
     "status": "completed"
    },
    "tags": []
   },
   "outputs": [],
   "source": [
    "predictions = model.predict(test_df)"
   ]
  },
  {
   "cell_type": "code",
   "execution_count": 18,
   "id": "886c8276",
   "metadata": {
    "execution": {
     "iopub.execute_input": "2021-10-15T14:38:28.491898Z",
     "iopub.status.busy": "2021-10-15T14:38:28.491137Z",
     "iopub.status.idle": "2021-10-15T14:38:28.493217Z",
     "shell.execute_reply": "2021-10-15T14:38:28.493755Z",
     "shell.execute_reply.started": "2021-10-15T14:36:48.831121Z"
    },
    "papermill": {
     "duration": 0.030267,
     "end_time": "2021-10-15T14:38:28.493947",
     "exception": false,
     "start_time": "2021-10-15T14:38:28.463680",
     "status": "completed"
    },
    "tags": []
   },
   "outputs": [],
   "source": [
    "test_df['Survived'] = predictions"
   ]
  },
  {
   "cell_type": "code",
   "execution_count": 19,
   "id": "701ac787",
   "metadata": {
    "execution": {
     "iopub.execute_input": "2021-10-15T14:38:28.546053Z",
     "iopub.status.busy": "2021-10-15T14:38:28.545355Z",
     "iopub.status.idle": "2021-10-15T14:38:28.548604Z",
     "shell.execute_reply": "2021-10-15T14:38:28.547922Z",
     "shell.execute_reply.started": "2021-10-15T14:36:51.996257Z"
    },
    "papermill": {
     "duration": 0.033153,
     "end_time": "2021-10-15T14:38:28.548761",
     "exception": false,
     "start_time": "2021-10-15T14:38:28.515608",
     "status": "completed"
    },
    "tags": []
   },
   "outputs": [],
   "source": [
    "# Create results dataframe\n",
    "results = pd.DataFrame()\n",
    "results['PassengerId'] = or_test_df['PassengerId']\n",
    "results['Survived'] = test_df['Survived']"
   ]
  },
  {
   "cell_type": "code",
   "execution_count": 20,
   "id": "9aae2df6",
   "metadata": {
    "execution": {
     "iopub.execute_input": "2021-10-15T14:38:28.598655Z",
     "iopub.status.busy": "2021-10-15T14:38:28.597688Z",
     "iopub.status.idle": "2021-10-15T14:38:28.601936Z",
     "shell.execute_reply": "2021-10-15T14:38:28.601397Z",
     "shell.execute_reply.started": "2021-10-15T14:37:02.038337Z"
    },
    "papermill": {
     "duration": 0.032021,
     "end_time": "2021-10-15T14:38:28.602098",
     "exception": false,
     "start_time": "2021-10-15T14:38:28.570077",
     "status": "completed"
    },
    "tags": []
   },
   "outputs": [
    {
     "data": {
      "text/plain": [
       "(418, 2)"
      ]
     },
     "execution_count": 20,
     "metadata": {},
     "output_type": "execute_result"
    }
   ],
   "source": [
    "results.shape"
   ]
  },
  {
   "cell_type": "code",
   "execution_count": 21,
   "id": "049d18e0",
   "metadata": {
    "execution": {
     "iopub.execute_input": "2021-10-15T14:38:28.653220Z",
     "iopub.status.busy": "2021-10-15T14:38:28.652487Z",
     "iopub.status.idle": "2021-10-15T14:38:28.658602Z",
     "shell.execute_reply": "2021-10-15T14:38:28.659100Z",
     "shell.execute_reply.started": "2021-10-15T14:37:02.932078Z"
    },
    "papermill": {
     "duration": 0.034385,
     "end_time": "2021-10-15T14:38:28.659349",
     "exception": false,
     "start_time": "2021-10-15T14:38:28.624964",
     "status": "completed"
    },
    "tags": []
   },
   "outputs": [],
   "source": [
    "results.to_csv('submissions.csv', index=False)"
   ]
  },
  {
   "cell_type": "code",
   "execution_count": null,
   "id": "7d5a1833",
   "metadata": {
    "papermill": {
     "duration": 0.021034,
     "end_time": "2021-10-15T14:38:28.702756",
     "exception": false,
     "start_time": "2021-10-15T14:38:28.681722",
     "status": "completed"
    },
    "tags": []
   },
   "outputs": [],
   "source": []
  }
 ],
 "metadata": {
  "kernelspec": {
   "display_name": "Python 3",
   "language": "python",
   "name": "python3"
  },
  "language_info": {
   "codemirror_mode": {
    "name": "ipython",
    "version": 3
   },
   "file_extension": ".py",
   "mimetype": "text/x-python",
   "name": "python",
   "nbconvert_exporter": "python",
   "pygments_lexer": "ipython3",
   "version": "3.7.10"
  },
  "papermill": {
   "default_parameters": {},
   "duration": 21.888107,
   "end_time": "2021-10-15T14:38:31.622933",
   "environment_variables": {},
   "exception": null,
   "input_path": "__notebook__.ipynb",
   "output_path": "__notebook__.ipynb",
   "parameters": {},
   "start_time": "2021-10-15T14:38:09.734826",
   "version": "2.3.3"
  }
 },
 "nbformat": 4,
 "nbformat_minor": 5
}
