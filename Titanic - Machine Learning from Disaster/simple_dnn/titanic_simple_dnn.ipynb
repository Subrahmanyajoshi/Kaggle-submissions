{
 "cells": [
  {
   "cell_type": "code",
   "execution_count": 47,
   "id": "b0279b14-5486-4692-9b9d-688f476f93b5",
   "metadata": {},
   "outputs": [],
   "source": [
    "import pandas as pd\n",
    "import numpy as np\n",
    "\n",
    "import tensorflow as tf\n",
    "from tensorflow.keras import layers\n",
    "from tensorflow.keras.models import Sequential\n",
    "from sklearn.utils import shuffle\n",
    "from sklearn.model_selection import train_test_split\n",
    "\n",
    "import matplotlib.pyplot as plt"
   ]
  },
  {
   "cell_type": "code",
   "execution_count": 48,
   "id": "38e841e4-aad6-4ae5-ba51-6b4a30c221aa",
   "metadata": {},
   "outputs": [],
   "source": [
    "# Read train and test csv files\n",
    "train_df = pd.read_csv(\"train.csv\")\n",
    "test_df = pd.read_csv(\"test.csv\")"
   ]
  },
  {
   "cell_type": "code",
   "execution_count": 49,
   "id": "8be97ff2-f759-454f-9cc0-ac9b63a04445",
   "metadata": {},
   "outputs": [
    {
     "data": {
      "text/html": [
       "<div>\n",
       "<style scoped>\n",
       "    .dataframe tbody tr th:only-of-type {\n",
       "        vertical-align: middle;\n",
       "    }\n",
       "\n",
       "    .dataframe tbody tr th {\n",
       "        vertical-align: top;\n",
       "    }\n",
       "\n",
       "    .dataframe thead th {\n",
       "        text-align: right;\n",
       "    }\n",
       "</style>\n",
       "<table border=\"1\" class=\"dataframe\">\n",
       "  <thead>\n",
       "    <tr style=\"text-align: right;\">\n",
       "      <th></th>\n",
       "      <th>PassengerId</th>\n",
       "      <th>Survived</th>\n",
       "      <th>Pclass</th>\n",
       "      <th>Name</th>\n",
       "      <th>Sex</th>\n",
       "      <th>Age</th>\n",
       "      <th>SibSp</th>\n",
       "      <th>Parch</th>\n",
       "      <th>Ticket</th>\n",
       "      <th>Fare</th>\n",
       "      <th>Cabin</th>\n",
       "      <th>Embarked</th>\n",
       "    </tr>\n",
       "  </thead>\n",
       "  <tbody>\n",
       "    <tr>\n",
       "      <th>0</th>\n",
       "      <td>1</td>\n",
       "      <td>0</td>\n",
       "      <td>3</td>\n",
       "      <td>Braund, Mr. Owen Harris</td>\n",
       "      <td>male</td>\n",
       "      <td>22.0</td>\n",
       "      <td>1</td>\n",
       "      <td>0</td>\n",
       "      <td>A/5 21171</td>\n",
       "      <td>7.2500</td>\n",
       "      <td>NaN</td>\n",
       "      <td>S</td>\n",
       "    </tr>\n",
       "    <tr>\n",
       "      <th>1</th>\n",
       "      <td>2</td>\n",
       "      <td>1</td>\n",
       "      <td>1</td>\n",
       "      <td>Cumings, Mrs. John Bradley (Florence Briggs Th...</td>\n",
       "      <td>female</td>\n",
       "      <td>38.0</td>\n",
       "      <td>1</td>\n",
       "      <td>0</td>\n",
       "      <td>PC 17599</td>\n",
       "      <td>71.2833</td>\n",
       "      <td>C85</td>\n",
       "      <td>C</td>\n",
       "    </tr>\n",
       "    <tr>\n",
       "      <th>2</th>\n",
       "      <td>3</td>\n",
       "      <td>1</td>\n",
       "      <td>3</td>\n",
       "      <td>Heikkinen, Miss. Laina</td>\n",
       "      <td>female</td>\n",
       "      <td>26.0</td>\n",
       "      <td>0</td>\n",
       "      <td>0</td>\n",
       "      <td>STON/O2. 3101282</td>\n",
       "      <td>7.9250</td>\n",
       "      <td>NaN</td>\n",
       "      <td>S</td>\n",
       "    </tr>\n",
       "    <tr>\n",
       "      <th>3</th>\n",
       "      <td>4</td>\n",
       "      <td>1</td>\n",
       "      <td>1</td>\n",
       "      <td>Futrelle, Mrs. Jacques Heath (Lily May Peel)</td>\n",
       "      <td>female</td>\n",
       "      <td>35.0</td>\n",
       "      <td>1</td>\n",
       "      <td>0</td>\n",
       "      <td>113803</td>\n",
       "      <td>53.1000</td>\n",
       "      <td>C123</td>\n",
       "      <td>S</td>\n",
       "    </tr>\n",
       "    <tr>\n",
       "      <th>4</th>\n",
       "      <td>5</td>\n",
       "      <td>0</td>\n",
       "      <td>3</td>\n",
       "      <td>Allen, Mr. William Henry</td>\n",
       "      <td>male</td>\n",
       "      <td>35.0</td>\n",
       "      <td>0</td>\n",
       "      <td>0</td>\n",
       "      <td>373450</td>\n",
       "      <td>8.0500</td>\n",
       "      <td>NaN</td>\n",
       "      <td>S</td>\n",
       "    </tr>\n",
       "  </tbody>\n",
       "</table>\n",
       "</div>"
      ],
      "text/plain": [
       "   PassengerId  Survived  Pclass  \\\n",
       "0            1         0       3   \n",
       "1            2         1       1   \n",
       "2            3         1       3   \n",
       "3            4         1       1   \n",
       "4            5         0       3   \n",
       "\n",
       "                                                Name     Sex   Age  SibSp  \\\n",
       "0                            Braund, Mr. Owen Harris    male  22.0      1   \n",
       "1  Cumings, Mrs. John Bradley (Florence Briggs Th...  female  38.0      1   \n",
       "2                             Heikkinen, Miss. Laina  female  26.0      0   \n",
       "3       Futrelle, Mrs. Jacques Heath (Lily May Peel)  female  35.0      1   \n",
       "4                           Allen, Mr. William Henry    male  35.0      0   \n",
       "\n",
       "   Parch            Ticket     Fare Cabin Embarked  \n",
       "0      0         A/5 21171   7.2500   NaN        S  \n",
       "1      0          PC 17599  71.2833   C85        C  \n",
       "2      0  STON/O2. 3101282   7.9250   NaN        S  \n",
       "3      0            113803  53.1000  C123        S  \n",
       "4      0            373450   8.0500   NaN        S  "
      ]
     },
     "execution_count": 49,
     "metadata": {},
     "output_type": "execute_result"
    }
   ],
   "source": [
    "# to have an overlook of data\n",
    "train_df.head(n=5)"
   ]
  },
  {
   "cell_type": "code",
   "execution_count": 50,
   "id": "efb28bb4-a767-43c4-8e2f-6f7376d29d54",
   "metadata": {},
   "outputs": [],
   "source": [
    "# replacing nan values with 0\n",
    "train_df = train_df.fillna(0)\n",
    "test_df = test_df.fillna(0)"
   ]
  },
  {
   "cell_type": "markdown",
   "id": "8857910e-3cb3-4c13-a1ea-abfe62a457e5",
   "metadata": {},
   "source": [
    "### Converting columns with string values to integers"
   ]
  },
  {
   "cell_type": "code",
   "execution_count": 51,
   "id": "b4598906-1da0-49da-bf20-af0af7852e8c",
   "metadata": {},
   "outputs": [],
   "source": [
    "def convert_str_to_num(df, column, saved_dict):\n",
    "    if saved_dict is not None:\n",
    "        print('using passed entry dict')\n",
    "        entry_dict = saved_dict\n",
    "    else:\n",
    "        print('creating a new entry dict')\n",
    "        entry_dict = {}\n",
    "        unique_entries = list(df[column].unique())\n",
    "        for idx, value in enumerate(unique_entries):\n",
    "            entry_dict[value if isinstance(value, str) else str(value)] = idx+1\n",
    "        \n",
    "    for i in range(len(df)):\n",
    "        if df[column][i] in entry_dict:\n",
    "            df[column][i] = entry_dict[df[column][i]]\n",
    "        else:\n",
    "            df[column][i] = 0\n",
    "        \n",
    "    # for value in entry_dict:\n",
    "    #  df[column] = df[column].replace(value, entry_dict[value])\n",
    "    return df, entry_dict"
   ]
  },
  {
   "cell_type": "code",
   "execution_count": 52,
   "id": "5a02bcf3-40b6-4c8a-a350-56d7c009e693",
   "metadata": {},
   "outputs": [
    {
     "name": "stdout",
     "output_type": "stream",
     "text": [
      "creating a new entry dict\n",
      "creating a new entry dict\n"
     ]
    },
    {
     "name": "stderr",
     "output_type": "stream",
     "text": [
      "/opt/conda/lib/python3.7/site-packages/ipykernel_launcher.py:14: SettingWithCopyWarning: \n",
      "A value is trying to be set on a copy of a slice from a DataFrame\n",
      "\n",
      "See the caveats in the documentation: https://pandas.pydata.org/pandas-docs/stable/user_guide/indexing.html#returning-a-view-versus-a-copy\n",
      "  \n",
      "/opt/conda/lib/python3.7/site-packages/ipykernel_launcher.py:16: SettingWithCopyWarning: \n",
      "A value is trying to be set on a copy of a slice from a DataFrame\n",
      "\n",
      "See the caveats in the documentation: https://pandas.pydata.org/pandas-docs/stable/user_guide/indexing.html#returning-a-view-versus-a-copy\n",
      "  app.launch_new_instance()\n"
     ]
    },
    {
     "name": "stdout",
     "output_type": "stream",
     "text": [
      "creating a new entry dict\n",
      "using passed entry dict\n",
      "using passed entry dict\n",
      "using passed entry dict\n"
     ]
    }
   ],
   "source": [
    "train_df, sex_dict = convert_str_to_num(train_df.copy(), 'Sex', saved_dict=None)\n",
    "train_df, cabin_dict = convert_str_to_num(train_df.copy(), 'Cabin', saved_dict=None)\n",
    "train_df, emb_dict = convert_str_to_num(train_df.copy(), 'Embarked', saved_dict=None)\n",
    "\n",
    "test_df, _ = convert_str_to_num(test_df.copy(), 'Sex', saved_dict=sex_dict)\n",
    "test_df, _ = convert_str_to_num(test_df.copy(), 'Cabin', saved_dict=cabin_dict)\n",
    "test_df, _ = convert_str_to_num(test_df.copy(), 'Embarked', saved_dict=emb_dict)"
   ]
  },
  {
   "cell_type": "markdown",
   "id": "00102188-5671-49b2-aea6-a703f4076243",
   "metadata": {},
   "source": [
    "### Min Max Normalization"
   ]
  },
  {
   "cell_type": "code",
   "execution_count": 53,
   "id": "4bd11038-a678-4ead-9bee-b057d0bdf0e6",
   "metadata": {},
   "outputs": [],
   "source": [
    "def normalize_column_min_max(df, column, minimum=None, maximum=None):\n",
    "    if minimum is None or maximum is None:\n",
    "        print(\"creating new min max \")\n",
    "        minimum = df[column].min()\n",
    "        maximum = df[column].max()\n",
    "    else:\n",
    "        print(\"using passed values\")\n",
    "    \n",
    "    df[column] = (df[column]-minimum)/(maximum-minimum)\n",
    "    return df, minimum, maximum"
   ]
  },
  {
   "cell_type": "code",
   "execution_count": 54,
   "id": "6d151ea5-3bae-44a8-a46b-cea97df9aba0",
   "metadata": {},
   "outputs": [
    {
     "name": "stdout",
     "output_type": "stream",
     "text": [
      "creating new min max \n",
      "creating new min max \n",
      "creating new min max \n",
      "creating new min max \n",
      "using passed values\n",
      "using passed values\n",
      "using passed values\n",
      "using passed values\n"
     ]
    }
   ],
   "source": [
    "train_df, p_min, p_max = normalize_column_min_max(df=train_df.copy(), column='Pclass')\n",
    "train_df, a_min, a_max = normalize_column_min_max(df=train_df.copy(), column='Age')\n",
    "train_df, c_min, c_max = normalize_column_min_max(df=train_df.copy(), column='Cabin')\n",
    "train_df, e_min, e_max = normalize_column_min_max(df=train_df.copy(), column='Embarked')\n",
    "\n",
    "test_df, _, _ = normalize_column_min_max(df=test_df.copy(), column='Pclass', minimum=p_min, maximum=p_max)\n",
    "test_df, _, _ = normalize_column_min_max(df=test_df.copy(), column='Age', minimum=a_min, maximum=a_max)\n",
    "test_df, _, _ = normalize_column_min_max(df=test_df.copy(), column='Cabin', minimum=c_min, maximum=c_max)\n",
    "test_df, _, _ = normalize_column_min_max(df=test_df.copy(), column='Embarked', minimum=e_min, maximum=e_max)"
   ]
  },
  {
   "cell_type": "markdown",
   "id": "02496f22-84ff-4edc-bfbe-11232e71fd2f",
   "metadata": {},
   "source": [
    "### Create train dataset and labels"
   ]
  },
  {
   "cell_type": "code",
   "execution_count": 55,
   "id": "ced0e007-e285-4613-bfe3-5798a9fb50bb",
   "metadata": {},
   "outputs": [],
   "source": [
    "input_columns = ['Pclass', 'Sex', 'Age', 'Cabin', 'Embarked']\n",
    "train_input = []\n",
    "train_labels = []\n",
    "\n",
    "for _, row in train_df.iterrows():\n",
    "    input_ = []\n",
    "    train_labels.append([row['Survived']])\n",
    "    for column in input_columns:\n",
    "        input_.append(row[column])\n",
    "    input_ = np.array(input_)\n",
    "    # input_ = input_.reshape(input_.size, 1)\n",
    "    train_input.append(input_)"
   ]
  },
  {
   "cell_type": "code",
   "execution_count": 56,
   "id": "c8e42c34-fbc3-4821-a74a-36ea5ca63992",
   "metadata": {},
   "outputs": [],
   "source": [
    "train_input_shuffled, train_labels_shuffled = shuffle(train_input, train_labels)\n",
    "\n",
    "train_input_shuffled = np.array(train_input_shuffled)\n",
    "train_labels_shuffled = np.array(train_labels_shuffled)"
   ]
  },
  {
   "cell_type": "markdown",
   "id": "60de8070-f60c-4a07-be65-a37d1041b718",
   "metadata": {},
   "source": [
    "### Define a simple DNN architecture"
   ]
  },
  {
   "cell_type": "code",
   "execution_count": 63,
   "id": "8034b3c1-b7d0-4f01-a6a5-9e4c12eb4143",
   "metadata": {},
   "outputs": [],
   "source": [
    "model = Sequential()\n",
    "model.add(layers.Dense(8, input_shape=(None, 5), activation='relu'))\n",
    "model.add(layers.Dropout(rate=0.5))\n",
    "model.add(layers.Dense(32, activation='relu'))\n",
    "model.add(layers.Dense(1, activation='sigmoid'))"
   ]
  },
  {
   "cell_type": "code",
   "execution_count": 64,
   "id": "c98fc936-73c4-4151-b4b0-c5a854f9d984",
   "metadata": {},
   "outputs": [],
   "source": [
    "model.compile(optimizer='adam',\n",
    "              loss='binary_crossentropy',\n",
    "              metrics=[\"accuracy\"])"
   ]
  },
  {
   "cell_type": "code",
   "execution_count": 65,
   "id": "94c56fb6-ff66-4e58-a86c-e25729bb8403",
   "metadata": {},
   "outputs": [
    {
     "name": "stdout",
     "output_type": "stream",
     "text": [
      "Model: \"sequential_5\"\n",
      "_________________________________________________________________\n",
      "Layer (type)                 Output Shape              Param #   \n",
      "=================================================================\n",
      "dense_15 (Dense)             (None, None, 8)           48        \n",
      "_________________________________________________________________\n",
      "dropout_5 (Dropout)          (None, None, 8)           0         \n",
      "_________________________________________________________________\n",
      "dense_16 (Dense)             (None, None, 32)          288       \n",
      "_________________________________________________________________\n",
      "dense_17 (Dense)             (None, None, 1)           33        \n",
      "=================================================================\n",
      "Total params: 369\n",
      "Trainable params: 369\n",
      "Non-trainable params: 0\n",
      "_________________________________________________________________\n"
     ]
    }
   ],
   "source": [
    "model.summary()"
   ]
  },
  {
   "cell_type": "markdown",
   "id": "a43c8026-f947-462e-bc4e-0808499ddd09",
   "metadata": {},
   "source": [
    "### Train"
   ]
  },
  {
   "cell_type": "code",
   "execution_count": 66,
   "id": "b2a3044b-f085-4f4c-a0eb-1ad6127b25b3",
   "metadata": {},
   "outputs": [
    {
     "name": "stdout",
     "output_type": "stream",
     "text": [
      "Epoch 1/25\n",
      "WARNING:tensorflow:Model was constructed with shape (None, None, 5) for input KerasTensor(type_spec=TensorSpec(shape=(None, None, 5), dtype=tf.float32, name='dense_15_input'), name='dense_15_input', description=\"created by layer 'dense_15_input'\"), but it was called on an input with incompatible shape (None, 5).\n",
      "WARNING:tensorflow:Model was constructed with shape (None, None, 5) for input KerasTensor(type_spec=TensorSpec(shape=(None, None, 5), dtype=tf.float32, name='dense_15_input'), name='dense_15_input', description=\"created by layer 'dense_15_input'\"), but it was called on an input with incompatible shape (None, 5).\n",
      " 95/101 [===========================>..] - ETA: 0s - loss: 0.6942 - accuracy: 0.5671WARNING:tensorflow:Model was constructed with shape (None, None, 5) for input KerasTensor(type_spec=TensorSpec(shape=(None, None, 5), dtype=tf.float32, name='dense_15_input'), name='dense_15_input', description=\"created by layer 'dense_15_input'\"), but it was called on an input with incompatible shape (1, 5).\n",
      "101/101 [==============================] - 1s 8ms/step - loss: 0.6950 - accuracy: 0.5668 - val_loss: 0.6505 - val_accuracy: 0.6444\n",
      "Epoch 2/25\n",
      "101/101 [==============================] - 1s 5ms/step - loss: 0.6614 - accuracy: 0.6454 - val_loss: 0.6272 - val_accuracy: 0.7000\n",
      "Epoch 3/25\n",
      "101/101 [==============================] - 1s 5ms/step - loss: 0.6500 - accuracy: 0.6492 - val_loss: 0.6049 - val_accuracy: 0.7444\n",
      "Epoch 4/25\n",
      "101/101 [==============================] - 1s 6ms/step - loss: 0.6205 - accuracy: 0.7166 - val_loss: 0.5671 - val_accuracy: 0.7444\n",
      "Epoch 5/25\n",
      "101/101 [==============================] - 1s 6ms/step - loss: 0.6046 - accuracy: 0.7054 - val_loss: 0.5400 - val_accuracy: 0.7556\n",
      "Epoch 6/25\n",
      "101/101 [==============================] - 1s 5ms/step - loss: 0.5889 - accuracy: 0.7266 - val_loss: 0.5131 - val_accuracy: 0.7667\n",
      "Epoch 7/25\n",
      "101/101 [==============================] - 1s 5ms/step - loss: 0.5736 - accuracy: 0.7353 - val_loss: 0.4978 - val_accuracy: 0.7667\n",
      "Epoch 8/25\n",
      "101/101 [==============================] - 1s 5ms/step - loss: 0.5751 - accuracy: 0.7228 - val_loss: 0.4918 - val_accuracy: 0.7778\n",
      "Epoch 9/25\n",
      "101/101 [==============================] - 1s 5ms/step - loss: 0.5650 - accuracy: 0.7341 - val_loss: 0.4833 - val_accuracy: 0.7778\n",
      "Epoch 10/25\n",
      "101/101 [==============================] - 1s 5ms/step - loss: 0.5683 - accuracy: 0.7129 - val_loss: 0.4762 - val_accuracy: 0.7778\n",
      "Epoch 11/25\n",
      "101/101 [==============================] - 1s 7ms/step - loss: 0.5519 - accuracy: 0.7316 - val_loss: 0.4739 - val_accuracy: 0.7778\n",
      "Epoch 12/25\n",
      "101/101 [==============================] - 1s 6ms/step - loss: 0.5601 - accuracy: 0.7341 - val_loss: 0.4586 - val_accuracy: 0.7889\n",
      "Epoch 13/25\n",
      "101/101 [==============================] - 0s 4ms/step - loss: 0.5698 - accuracy: 0.7041 - val_loss: 0.4640 - val_accuracy: 0.8222\n",
      "Epoch 14/25\n",
      "101/101 [==============================] - 0s 4ms/step - loss: 0.5583 - accuracy: 0.7316 - val_loss: 0.4560 - val_accuracy: 0.8444\n",
      "Epoch 15/25\n",
      "101/101 [==============================] - 0s 4ms/step - loss: 0.5459 - accuracy: 0.7366 - val_loss: 0.4455 - val_accuracy: 0.8444\n",
      "Epoch 16/25\n",
      "101/101 [==============================] - 1s 5ms/step - loss: 0.5331 - accuracy: 0.7441 - val_loss: 0.4358 - val_accuracy: 0.8111\n",
      "Epoch 17/25\n",
      "101/101 [==============================] - 0s 4ms/step - loss: 0.5371 - accuracy: 0.7353 - val_loss: 0.4372 - val_accuracy: 0.8444\n",
      "Epoch 18/25\n",
      "101/101 [==============================] - 1s 6ms/step - loss: 0.5291 - accuracy: 0.7516 - val_loss: 0.4297 - val_accuracy: 0.8333\n",
      "Epoch 19/25\n",
      "101/101 [==============================] - 1s 5ms/step - loss: 0.5438 - accuracy: 0.7291 - val_loss: 0.4362 - val_accuracy: 0.8444\n",
      "Epoch 20/25\n",
      "101/101 [==============================] - 1s 7ms/step - loss: 0.5427 - accuracy: 0.7366 - val_loss: 0.4258 - val_accuracy: 0.8222\n",
      "Epoch 21/25\n",
      "101/101 [==============================] - 1s 7ms/step - loss: 0.5347 - accuracy: 0.7491 - val_loss: 0.4300 - val_accuracy: 0.8556\n",
      "Epoch 22/25\n",
      "101/101 [==============================] - 1s 6ms/step - loss: 0.5226 - accuracy: 0.7628 - val_loss: 0.4215 - val_accuracy: 0.8444\n",
      "Epoch 23/25\n",
      "101/101 [==============================] - 1s 5ms/step - loss: 0.5214 - accuracy: 0.7453 - val_loss: 0.4155 - val_accuracy: 0.8556\n",
      "Epoch 24/25\n",
      "101/101 [==============================] - 0s 5ms/step - loss: 0.5167 - accuracy: 0.7528 - val_loss: 0.4140 - val_accuracy: 0.8556\n",
      "Epoch 25/25\n",
      "101/101 [==============================] - 1s 7ms/step - loss: 0.5171 - accuracy: 0.7491 - val_loss: 0.4214 - val_accuracy: 0.8556\n"
     ]
    }
   ],
   "source": [
    "history = model.fit(train_input_shuffled, train_labels_shuffled, validation_split=0.1, epochs=25, batch_size=8, validation_batch_size=1)"
   ]
  },
  {
   "cell_type": "markdown",
   "id": "daaa7e93-5163-44ea-bd63-ff145c92aed2",
   "metadata": {},
   "source": [
    "### Train and validation charts"
   ]
  },
  {
   "cell_type": "code",
   "execution_count": 67,
   "id": "e9b675f9-fede-47ee-be2c-9dd143e798e1",
   "metadata": {},
   "outputs": [
    {
     "data": {
      "image/png": "[encoded data removed]",
      "text/plain": [
       "<Figure size 432x288 with 1 Axes>"
      ]
     },
     "metadata": {
      "needs_background": "light"
     },
     "output_type": "display_data"
    }
   ],
   "source": [
    "plt.plot(history.history['loss'], label='train_loss')\n",
    "plt.plot(history.history['val_loss'], label='val_loss')\n",
    "plt.legend()\n",
    "plt.show()"
   ]
  },
  {
   "cell_type": "code",
   "execution_count": 68,
   "id": "0549a0aa-c8f9-4316-9590-5f82d51c845f",
   "metadata": {},
   "outputs": [
    {
     "data": {
      "image/png": "[encoded data removed]",
      "text/plain": [
       "<Figure size 432x288 with 1 Axes>"
      ]
     },
     "metadata": {
      "needs_background": "light"
     },
     "output_type": "display_data"
    }
   ],
   "source": [
    "plt.plot(history.history['accuracy'], label='train_accuracy')\n",
    "plt.plot(history.history['val_accuracy'], label='val_accuracy')\n",
    "plt.legend()\n",
    "plt.show()"
   ]
  },
  {
   "cell_type": "markdown",
   "id": "1d87ef98-cec7-4ac6-b2ce-4b87d64b9929",
   "metadata": {},
   "source": [
    "### Predict"
   ]
  },
  {
   "cell_type": "code",
   "execution_count": 74,
   "id": "f0fa1238-8025-48ee-a4ec-294670fba179",
   "metadata": {},
   "outputs": [],
   "source": [
    "result_dict = {'PassengerId': [], 'Survived': []}\n",
    "\n",
    "for _, row in test_df.iterrows():\n",
    "    input_ = []\n",
    "    for column in input_columns:\n",
    "        input_.append(row[column])\n",
    "    input_ = np.array(input_)\n",
    "    # input_ = input_.reshape(input_.size, 1)\n",
    "    prediction = model.predict(np.array([input_]))\n",
    "    survived = 0\n",
    "    if prediction > 0.5:\n",
    "        survived = 1\n",
    "    result_dict['PassengerId'].append(row['PassengerId'])\n",
    "    result_dict['Survived'].append(survived)"
   ]
  },
  {
   "cell_type": "code",
   "execution_count": 75,
   "id": "a9e1689e-15bc-46df-ae8f-dbfd78607af1",
   "metadata": {},
   "outputs": [],
   "source": [
    "result_df = pd.DataFrame(result_dict)"
   ]
  },
  {
   "cell_type": "code",
   "execution_count": 77,
   "id": "577bbbd1-3127-4d9d-8520-542f5e9d611c",
   "metadata": {},
   "outputs": [
    {
     "data": {
      "text/html": [
       "<div>\n",
       "<style scoped>\n",
       "    .dataframe tbody tr th:only-of-type {\n",
       "        vertical-align: middle;\n",
       "    }\n",
       "\n",
       "    .dataframe tbody tr th {\n",
       "        vertical-align: top;\n",
       "    }\n",
       "\n",
       "    .dataframe thead th {\n",
       "        text-align: right;\n",
       "    }\n",
       "</style>\n",
       "<table border=\"1\" class=\"dataframe\">\n",
       "  <thead>\n",
       "    <tr style=\"text-align: right;\">\n",
       "      <th></th>\n",
       "      <th>PassengerId</th>\n",
       "      <th>Survived</th>\n",
       "    </tr>\n",
       "  </thead>\n",
       "  <tbody>\n",
       "    <tr>\n",
       "      <th>0</th>\n",
       "      <td>892</td>\n",
       "      <td>0</td>\n",
       "    </tr>\n",
       "    <tr>\n",
       "      <th>1</th>\n",
       "      <td>893</td>\n",
       "      <td>0</td>\n",
       "    </tr>\n",
       "    <tr>\n",
       "      <th>2</th>\n",
       "      <td>894</td>\n",
       "      <td>0</td>\n",
       "    </tr>\n",
       "    <tr>\n",
       "      <th>3</th>\n",
       "      <td>895</td>\n",
       "      <td>0</td>\n",
       "    </tr>\n",
       "    <tr>\n",
       "      <th>4</th>\n",
       "      <td>896</td>\n",
       "      <td>0</td>\n",
       "    </tr>\n",
       "  </tbody>\n",
       "</table>\n",
       "</div>"
      ],
      "text/plain": [
       "   PassengerId  Survived\n",
       "0          892         0\n",
       "1          893         0\n",
       "2          894         0\n",
       "3          895         0\n",
       "4          896         0"
      ]
     },
     "execution_count": 77,
     "metadata": {},
     "output_type": "execute_result"
    }
   ],
   "source": [
    "result_df.head()"
   ]
  },
  {
   "cell_type": "code",
   "execution_count": 78,
   "id": "77769e4b-9292-4ef1-99d1-fda0ee9c7a9d",
   "metadata": {},
   "outputs": [],
   "source": [
    "# Dump into a csv file\n",
    "result_df.to_csv('titanic_predictions.csv', index=False)"
   ]
  },
  {
   "cell_type": "code",
   "execution_count": null,
   "id": "b4c49d59-1271-425b-aab6-5d87d9178cd6",
   "metadata": {},
   "outputs": [],
   "source": []
  }
 ],
 "metadata": {
  "environment": {
   "name": "tf2-gpu.2-6.m80",
   "type": "gcloud",
   "uri": "gcr.io/deeplearning-platform-release/tf2-gpu.2-6:m80"
  },
  "kernelspec": {
   "display_name": "Python 3",
   "language": "python",
   "name": "python3"
  },
  "language_info": {
   "codemirror_mode": {
    "name": "ipython",
    "version": 3
   },
   "file_extension": ".py",
   "mimetype": "text/x-python",
   "name": "python",
   "nbconvert_exporter": "python",
   "pygments_lexer": "ipython3",
   "version": "3.7.10"
  }
 },
 "nbformat": 4,
 "nbformat_minor": 5
}
