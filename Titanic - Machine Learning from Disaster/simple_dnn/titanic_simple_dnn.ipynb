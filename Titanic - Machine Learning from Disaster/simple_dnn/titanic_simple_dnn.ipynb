{
 "cells": [
  {
   "cell_type": "code",
   "execution_count": 325,
   "id": "b0279b14-5486-4692-9b9d-688f476f93b5",
   "metadata": {},
   "outputs": [],
   "source": [
    "import pandas as pd\n",
    "import numpy as np\n",
    "\n",
    "import tensorflow as tf\n",
    "from tensorflow.keras import layers\n",
    "from tensorflow.keras.models import Sequential\n",
    "\n",
    "import matplotlib.pyplot as plt"
   ]
  },
  {
   "cell_type": "code",
   "execution_count": 326,
   "id": "38e841e4-aad6-4ae5-ba51-6b4a30c221aa",
   "metadata": {},
   "outputs": [],
   "source": [
    "train_df = pd.read_csv(\"train.csv\")\n",
    "test_df = pd.read_csv(\"test.csv\")"
   ]
  },
  {
   "cell_type": "code",
   "execution_count": 327,
   "id": "8be97ff2-f759-454f-9cc0-ac9b63a04445",
   "metadata": {},
   "outputs": [
    {
     "data": {
      "text/html": [
       "<div>\n",
       "<style scoped>\n",
       "    .dataframe tbody tr th:only-of-type {\n",
       "        vertical-align: middle;\n",
       "    }\n",
       "\n",
       "    .dataframe tbody tr th {\n",
       "        vertical-align: top;\n",
       "    }\n",
       "\n",
       "    .dataframe thead th {\n",
       "        text-align: right;\n",
       "    }\n",
       "</style>\n",
       "<table border=\"1\" class=\"dataframe\">\n",
       "  <thead>\n",
       "    <tr style=\"text-align: right;\">\n",
       "      <th></th>\n",
       "      <th>PassengerId</th>\n",
       "      <th>Survived</th>\n",
       "      <th>Pclass</th>\n",
       "      <th>Name</th>\n",
       "      <th>Sex</th>\n",
       "      <th>Age</th>\n",
       "      <th>SibSp</th>\n",
       "      <th>Parch</th>\n",
       "      <th>Ticket</th>\n",
       "      <th>Fare</th>\n",
       "      <th>Cabin</th>\n",
       "      <th>Embarked</th>\n",
       "    </tr>\n",
       "  </thead>\n",
       "  <tbody>\n",
       "    <tr>\n",
       "      <th>0</th>\n",
       "      <td>1</td>\n",
       "      <td>0</td>\n",
       "      <td>3</td>\n",
       "      <td>Braund, Mr. Owen Harris</td>\n",
       "      <td>male</td>\n",
       "      <td>22.0</td>\n",
       "      <td>1</td>\n",
       "      <td>0</td>\n",
       "      <td>A/5 21171</td>\n",
       "      <td>7.2500</td>\n",
       "      <td>NaN</td>\n",
       "      <td>S</td>\n",
       "    </tr>\n",
       "    <tr>\n",
       "      <th>1</th>\n",
       "      <td>2</td>\n",
       "      <td>1</td>\n",
       "      <td>1</td>\n",
       "      <td>Cumings, Mrs. John Bradley (Florence Briggs Th...</td>\n",
       "      <td>female</td>\n",
       "      <td>38.0</td>\n",
       "      <td>1</td>\n",
       "      <td>0</td>\n",
       "      <td>PC 17599</td>\n",
       "      <td>71.2833</td>\n",
       "      <td>C85</td>\n",
       "      <td>C</td>\n",
       "    </tr>\n",
       "    <tr>\n",
       "      <th>2</th>\n",
       "      <td>3</td>\n",
       "      <td>1</td>\n",
       "      <td>3</td>\n",
       "      <td>Heikkinen, Miss. Laina</td>\n",
       "      <td>female</td>\n",
       "      <td>26.0</td>\n",
       "      <td>0</td>\n",
       "      <td>0</td>\n",
       "      <td>STON/O2. 3101282</td>\n",
       "      <td>7.9250</td>\n",
       "      <td>NaN</td>\n",
       "      <td>S</td>\n",
       "    </tr>\n",
       "    <tr>\n",
       "      <th>3</th>\n",
       "      <td>4</td>\n",
       "      <td>1</td>\n",
       "      <td>1</td>\n",
       "      <td>Futrelle, Mrs. Jacques Heath (Lily May Peel)</td>\n",
       "      <td>female</td>\n",
       "      <td>35.0</td>\n",
       "      <td>1</td>\n",
       "      <td>0</td>\n",
       "      <td>113803</td>\n",
       "      <td>53.1000</td>\n",
       "      <td>C123</td>\n",
       "      <td>S</td>\n",
       "    </tr>\n",
       "    <tr>\n",
       "      <th>4</th>\n",
       "      <td>5</td>\n",
       "      <td>0</td>\n",
       "      <td>3</td>\n",
       "      <td>Allen, Mr. William Henry</td>\n",
       "      <td>male</td>\n",
       "      <td>35.0</td>\n",
       "      <td>0</td>\n",
       "      <td>0</td>\n",
       "      <td>373450</td>\n",
       "      <td>8.0500</td>\n",
       "      <td>NaN</td>\n",
       "      <td>S</td>\n",
       "    </tr>\n",
       "  </tbody>\n",
       "</table>\n",
       "</div>"
      ],
      "text/plain": [
       "   PassengerId  Survived  Pclass  \\\n",
       "0            1         0       3   \n",
       "1            2         1       1   \n",
       "2            3         1       3   \n",
       "3            4         1       1   \n",
       "4            5         0       3   \n",
       "\n",
       "                                                Name     Sex   Age  SibSp  \\\n",
       "0                            Braund, Mr. Owen Harris    male  22.0      1   \n",
       "1  Cumings, Mrs. John Bradley (Florence Briggs Th...  female  38.0      1   \n",
       "2                             Heikkinen, Miss. Laina  female  26.0      0   \n",
       "3       Futrelle, Mrs. Jacques Heath (Lily May Peel)  female  35.0      1   \n",
       "4                           Allen, Mr. William Henry    male  35.0      0   \n",
       "\n",
       "   Parch            Ticket     Fare Cabin Embarked  \n",
       "0      0         A/5 21171   7.2500   NaN        S  \n",
       "1      0          PC 17599  71.2833   C85        C  \n",
       "2      0  STON/O2. 3101282   7.9250   NaN        S  \n",
       "3      0            113803  53.1000  C123        S  \n",
       "4      0            373450   8.0500   NaN        S  "
      ]
     },
     "execution_count": 327,
     "metadata": {},
     "output_type": "execute_result"
    }
   ],
   "source": [
    "train_df.head(n=5)"
   ]
  },
  {
   "cell_type": "code",
   "execution_count": 328,
   "id": "efb28bb4-a767-43c4-8e2f-6f7376d29d54",
   "metadata": {},
   "outputs": [],
   "source": [
    "train_df = train_df.fillna(0)\n",
    "test_df = test_df.fillna(0)"
   ]
  },
  {
   "cell_type": "code",
   "execution_count": 329,
   "id": "b4598906-1da0-49da-bf20-af0af7852e8c",
   "metadata": {},
   "outputs": [],
   "source": [
    "def convert_str_to_num(df, column, saved_dict):\n",
    "    if saved_dict is not None:\n",
    "        print('using passed entry dict')\n",
    "        entry_dict = saved_dict\n",
    "    else:\n",
    "        print('creating a new entry dict')\n",
    "        entry_dict = {}\n",
    "        unique_entries = list(df[column].unique())\n",
    "        for idx, value in enumerate(unique_entries):\n",
    "            entry_dict[value if isinstance(value, str) else str(value)] = idx+1\n",
    "        \n",
    "    for i in range(len(df)):\n",
    "        if df[column][i] in entry_dict:\n",
    "            df[column][i] = entry_dict[df[column][i]]\n",
    "        else:\n",
    "            df[column][i] = 0\n",
    "        \n",
    "    # for value in entry_dict:\n",
    "    #  df[column] = df[column].replace(value, entry_dict[value])\n",
    "    return df, entry_dict"
   ]
  },
  {
   "cell_type": "code",
   "execution_count": 330,
   "id": "5a02bcf3-40b6-4c8a-a350-56d7c009e693",
   "metadata": {},
   "outputs": [
    {
     "name": "stdout",
     "output_type": "stream",
     "text": [
      "creating a new entry dict\n"
     ]
    },
    {
     "name": "stderr",
     "output_type": "stream",
     "text": [
      "/opt/conda/lib/python3.7/site-packages/ipykernel_launcher.py:14: SettingWithCopyWarning: \n",
      "A value is trying to be set on a copy of a slice from a DataFrame\n",
      "\n",
      "See the caveats in the documentation: https://pandas.pydata.org/pandas-docs/stable/user_guide/indexing.html#returning-a-view-versus-a-copy\n",
      "  \n"
     ]
    },
    {
     "name": "stdout",
     "output_type": "stream",
     "text": [
      "creating a new entry dict\n"
     ]
    },
    {
     "name": "stderr",
     "output_type": "stream",
     "text": [
      "/opt/conda/lib/python3.7/site-packages/ipykernel_launcher.py:16: SettingWithCopyWarning: \n",
      "A value is trying to be set on a copy of a slice from a DataFrame\n",
      "\n",
      "See the caveats in the documentation: https://pandas.pydata.org/pandas-docs/stable/user_guide/indexing.html#returning-a-view-versus-a-copy\n",
      "  app.launch_new_instance()\n"
     ]
    },
    {
     "name": "stdout",
     "output_type": "stream",
     "text": [
      "creating a new entry dict\n",
      "using passed entry dict\n",
      "using passed entry dict\n",
      "using passed entry dict\n"
     ]
    }
   ],
   "source": [
    "train_df, sex_dict = convert_str_to_num(train_df.copy(), 'Sex', saved_dict=None)\n",
    "train_df, cabin_dict = convert_str_to_num(train_df.copy(), 'Cabin', saved_dict=None)\n",
    "train_df, emb_dict = convert_str_to_num(train_df.copy(), 'Embarked', saved_dict=None)\n",
    "\n",
    "test_df, _ = convert_str_to_num(test_df.copy(), 'Sex', saved_dict=sex_dict)\n",
    "test_df, _ = convert_str_to_num(test_df.copy(), 'Cabin', saved_dict=cabin_dict)\n",
    "test_df, _ = convert_str_to_num(test_df.copy(), 'Embarked', saved_dict=emb_dict)"
   ]
  },
  {
   "cell_type": "code",
   "execution_count": 331,
   "id": "4bd11038-a678-4ead-9bee-b057d0bdf0e6",
   "metadata": {},
   "outputs": [],
   "source": [
    "def normalize_column_min_max(df, column, minimum=None, maximum=None):\n",
    "    if minimum is None or maximum is None:\n",
    "        print(\"creating new min max \")\n",
    "        minimum = df[column].min()\n",
    "        maximum = df[column].max()\n",
    "    else:\n",
    "        print(\"using passed values\")\n",
    "    \n",
    "    df[column] = (df[column]-minimum)/(maximum-minimum)\n",
    "    return df, minimum, maximum"
   ]
  },
  {
   "cell_type": "code",
   "execution_count": 332,
   "id": "6d151ea5-3bae-44a8-a46b-cea97df9aba0",
   "metadata": {},
   "outputs": [
    {
     "name": "stdout",
     "output_type": "stream",
     "text": [
      "creating new min max \n",
      "creating new min max \n",
      "creating new min max \n",
      "creating new min max \n",
      "using passed values\n",
      "using passed values\n",
      "using passed values\n",
      "using passed values\n"
     ]
    }
   ],
   "source": [
    "train_df, p_min, p_max = normalize_column_min_max(df=train_df.copy(), column='Pclass')\n",
    "train_df, a_min, a_max = normalize_column_min_max(df=train_df.copy(), column='Age')\n",
    "train_df, c_min, c_max = normalize_column_min_max(df=train_df.copy(), column='Cabin')\n",
    "train_df, e_min, e_max = normalize_column_min_max(df=train_df.copy(), column='Embarked')\n",
    "\n",
    "test_df, _, _ = normalize_column_min_max(df=test_df.copy(), column='Pclass', minimum=p_min, maximum=p_max)\n",
    "test_df, _, _ = normalize_column_min_max(df=test_df.copy(), column='Age', minimum=a_min, maximum=a_max)\n",
    "test_df, _, _ = normalize_column_min_max(df=test_df.copy(), column='Cabin', minimum=c_min, maximum=c_max)\n",
    "test_df, _, _ = normalize_column_min_max(df=test_df.copy(), column='Embarked', minimum=e_min, maximum=e_max)"
   ]
  },
  {
   "cell_type": "code",
   "execution_count": 333,
   "id": "ced0e007-e285-4613-bfe3-5798a9fb50bb",
   "metadata": {},
   "outputs": [],
   "source": [
    "input_columns = ['Pclass', 'Sex', 'Age', 'Cabin', 'Embarked']\n",
    "_input = []\n",
    "_labels = []\n",
    "\n",
    "for _, row in train_df.iterrows():\n",
    "    input_ = []\n",
    "    _labels.append([row['Survived']])\n",
    "    for column in input_columns:\n",
    "        input_.append(row[column])\n",
    "    _input.append(input_)\n",
    "\n",
    "train_length = int(len(_input)*0.9)\n",
    "\n",
    "train_input, train_labels = _input[:train_length], _labels[:train_length]\n",
    "val_input, val_labels = _input[train_length:], _labels[train_length:]"
   ]
  },
  {
   "cell_type": "code",
   "execution_count": 335,
   "id": "797f02b4-9794-4e67-a86c-835a24ab025c",
   "metadata": {},
   "outputs": [],
   "source": [
    "train_data = tf.data.Dataset.from_tensor_slices((train_input, train_labels))\n",
    "val_data = tf.data.Dataset.from_tensor_slices((val_input, val_labels))"
   ]
  },
  {
   "cell_type": "code",
   "execution_count": 354,
   "id": "8034b3c1-b7d0-4f01-a6a5-9e4c12eb4143",
   "metadata": {},
   "outputs": [],
   "source": [
    "model = Sequential()\n",
    "model.add(layers.Dense(16, input_shape=(5, 1), activation='relu'))\n",
    "model.add(layers.Dropout(rate=0.5))\n",
    "model.add(layers.Dense(32, activation='relu'))\n",
    "model.add(layers.Dense(128, activation='relu'))\n",
    "model.add(layers.Dense(64, activation='relu'))\n",
    "model.add(layers.Dense(1, activation='sigmoid'))"
   ]
  },
  {
   "cell_type": "code",
   "execution_count": 355,
   "id": "c98fc936-73c4-4151-b4b0-c5a854f9d984",
   "metadata": {},
   "outputs": [],
   "source": [
    "model.compile(optimizer='adam',\n",
    "              loss='binary_crossentropy',\n",
    "              metrics=[\"accuracy\"])"
   ]
  },
  {
   "cell_type": "code",
   "execution_count": 356,
   "id": "94c56fb6-ff66-4e58-a86c-e25729bb8403",
   "metadata": {},
   "outputs": [
    {
     "name": "stdout",
     "output_type": "stream",
     "text": [
      "Model: \"sequential_31\"\n",
      "_________________________________________________________________\n",
      "Layer (type)                 Output Shape              Param #   \n",
      "=================================================================\n",
      "dense_155 (Dense)            (None, 5, 16)             32        \n",
      "_________________________________________________________________\n",
      "dropout_32 (Dropout)         (None, 5, 16)             0         \n",
      "_________________________________________________________________\n",
      "dense_156 (Dense)            (None, 5, 32)             544       \n",
      "_________________________________________________________________\n",
      "dense_157 (Dense)            (None, 5, 128)            4224      \n",
      "_________________________________________________________________\n",
      "dense_158 (Dense)            (None, 5, 64)             8256      \n",
      "_________________________________________________________________\n",
      "dense_159 (Dense)            (None, 5, 1)              65        \n",
      "=================================================================\n",
      "Total params: 13,121\n",
      "Trainable params: 13,121\n",
      "Non-trainable params: 0\n",
      "_________________________________________________________________\n"
     ]
    }
   ],
   "source": [
    "model.summary()"
   ]
  },
  {
   "cell_type": "code",
   "execution_count": 357,
   "id": "b2a3044b-f085-4f4c-a0eb-1ad6127b25b3",
   "metadata": {},
   "outputs": [
    {
     "name": "stdout",
     "output_type": "stream",
     "text": [
      "Epoch 1/20\n",
      "WARNING:tensorflow:Model was constructed with shape (None, 5, 1) for input KerasTensor(type_spec=TensorSpec(shape=(None, 5, 1), dtype=tf.float32, name='dense_155_input'), name='dense_155_input', description=\"created by layer 'dense_155_input'\"), but it was called on an input with incompatible shape (5, 1, 1).\n",
      "WARNING:tensorflow:Model was constructed with shape (None, 5, 1) for input KerasTensor(type_spec=TensorSpec(shape=(None, 5, 1), dtype=tf.float32, name='dense_155_input'), name='dense_155_input', description=\"created by layer 'dense_155_input'\"), but it was called on an input with incompatible shape (5, 1, 1).\n",
      "792/801 [============================>.] - ETA: 0s - loss: 0.6750 - accuracy: 0.5967WARNING:tensorflow:Model was constructed with shape (None, 5, 1) for input KerasTensor(type_spec=TensorSpec(shape=(None, 5, 1), dtype=tf.float32, name='dense_155_input'), name='dense_155_input', description=\"created by layer 'dense_155_input'\"), but it was called on an input with incompatible shape (5, 1, 1).\n",
      "801/801 [==============================] - 2s 2ms/step - loss: 0.6739 - accuracy: 0.5988 - val_loss: 0.6640 - val_accuracy: 0.6222\n",
      "Epoch 2/20\n",
      "801/801 [==============================] - 1s 2ms/step - loss: 0.6619 - accuracy: 0.6292 - val_loss: 0.6652 - val_accuracy: 0.6222\n",
      "Epoch 3/20\n",
      "801/801 [==============================] - 1s 2ms/step - loss: 0.6521 - accuracy: 0.6409 - val_loss: 0.6654 - val_accuracy: 0.6222\n",
      "Epoch 4/20\n",
      "801/801 [==============================] - 1s 2ms/step - loss: 0.6465 - accuracy: 0.6429 - val_loss: 0.6678 - val_accuracy: 0.6222\n",
      "Epoch 5/20\n",
      "801/801 [==============================] - 1s 2ms/step - loss: 0.6458 - accuracy: 0.6457 - val_loss: 0.6739 - val_accuracy: 0.6222\n",
      "Epoch 6/20\n",
      "801/801 [==============================] - 2s 2ms/step - loss: 0.6435 - accuracy: 0.6459 - val_loss: 0.6787 - val_accuracy: 0.6222\n",
      "Epoch 7/20\n",
      "801/801 [==============================] - 1s 2ms/step - loss: 0.6426 - accuracy: 0.6494 - val_loss: 0.6709 - val_accuracy: 0.6222\n",
      "Epoch 8/20\n",
      "801/801 [==============================] - 2s 2ms/step - loss: 0.6410 - accuracy: 0.6489 - val_loss: 0.6749 - val_accuracy: 0.6222\n",
      "Epoch 9/20\n",
      "801/801 [==============================] - 1s 2ms/step - loss: 0.6389 - accuracy: 0.6494 - val_loss: 0.6704 - val_accuracy: 0.6222\n",
      "Epoch 10/20\n",
      "801/801 [==============================] - 1s 2ms/step - loss: 0.6397 - accuracy: 0.6484 - val_loss: 0.6718 - val_accuracy: 0.6222\n",
      "Epoch 11/20\n",
      "801/801 [==============================] - 1s 2ms/step - loss: 0.6400 - accuracy: 0.6497 - val_loss: 0.6670 - val_accuracy: 0.6222\n",
      "Epoch 12/20\n",
      "801/801 [==============================] - 1s 2ms/step - loss: 0.6378 - accuracy: 0.6484 - val_loss: 0.6689 - val_accuracy: 0.6222\n",
      "Epoch 13/20\n",
      "801/801 [==============================] - 1s 2ms/step - loss: 0.6388 - accuracy: 0.6494 - val_loss: 0.6681 - val_accuracy: 0.6222\n",
      "Epoch 14/20\n",
      "801/801 [==============================] - 1s 2ms/step - loss: 0.6391 - accuracy: 0.6497 - val_loss: 0.6722 - val_accuracy: 0.6222\n",
      "Epoch 15/20\n",
      "801/801 [==============================] - 1s 2ms/step - loss: 0.6377 - accuracy: 0.6497 - val_loss: 0.6720 - val_accuracy: 0.6222\n",
      "Epoch 16/20\n",
      "801/801 [==============================] - 1s 2ms/step - loss: 0.6372 - accuracy: 0.6492 - val_loss: 0.6698 - val_accuracy: 0.6222\n",
      "Epoch 17/20\n",
      "801/801 [==============================] - 1s 2ms/step - loss: 0.6389 - accuracy: 0.6474 - val_loss: 0.6616 - val_accuracy: 0.6222\n",
      "Epoch 18/20\n",
      "801/801 [==============================] - 1s 2ms/step - loss: 0.6392 - accuracy: 0.6487 - val_loss: 0.6662 - val_accuracy: 0.6222\n",
      "Epoch 19/20\n",
      "801/801 [==============================] - 1s 2ms/step - loss: 0.6375 - accuracy: 0.6499 - val_loss: 0.6618 - val_accuracy: 0.6222\n",
      "Epoch 20/20\n",
      "801/801 [==============================] - 1s 2ms/step - loss: 0.6400 - accuracy: 0.6477 - val_loss: 0.6689 - val_accuracy: 0.6222\n"
     ]
    }
   ],
   "source": [
    "history = model.fit(train_data, validation_data=val_data, epochs=20, batch_size=16)"
   ]
  },
  {
   "cell_type": "code",
   "execution_count": 348,
   "id": "e9b675f9-fede-47ee-be2c-9dd143e798e1",
   "metadata": {},
   "outputs": [
    {
     "data": {
      "image/png": "[encoded data removed]",
      "text/plain": [
       "<Figure size 432x288 with 1 Axes>"
      ]
     },
     "metadata": {
      "needs_background": "light"
     },
     "output_type": "display_data"
    }
   ],
   "source": [
    "plt.plot(history.history['loss'], label='train_loss')\n",
    "plt.plot(history.history['val_loss'], label='val_loss')\n",
    "plt.legend()\n",
    "plt.show()"
   ]
  },
  {
   "cell_type": "code",
   "execution_count": 349,
   "id": "0549a0aa-c8f9-4316-9590-5f82d51c845f",
   "metadata": {},
   "outputs": [
    {
     "data": {
      "image/png": "[encoded data removed]",
      "text/plain": [
       "<Figure size 432x288 with 1 Axes>"
      ]
     },
     "metadata": {
      "needs_background": "light"
     },
     "output_type": "display_data"
    }
   ],
   "source": [
    "plt.plot(history.history['accuracy'], label='train_accuracy')\n",
    "plt.plot(history.history['val_accuracy'], label='val_accuracy')\n",
    "plt.legend()\n",
    "plt.show()"
   ]
  },
  {
   "cell_type": "code",
   "execution_count": null,
   "id": "f0fa1238-8025-48ee-a4ec-294670fba179",
   "metadata": {},
   "outputs": [],
   "source": [
    "test_df\n",
    "\n",
    "for _, row in test_df.iterrows():\n",
    "    input_ = []\n",
    "    for column in input_columns:\n",
    "        input_.append(row[column])\n",
    "    input_ = np.array(input_)\n",
    "    input_ = input_.reshape()\n",
    "    print(input_.shape)\n",
    "    print(model.predict(input_))"
   ]
  },
  {
   "cell_type": "code",
   "execution_count": null,
   "id": "2e543979-07b6-450c-8e6e-f6ae347f8627",
   "metadata": {},
   "outputs": [],
   "source": []
  }
 ],
 "metadata": {
  "environment": {
   "name": "tf2-gpu.2-6.m80",
   "type": "gcloud",
   "uri": "gcr.io/deeplearning-platform-release/tf2-gpu.2-6:m80"
  },
  "kernelspec": {
   "display_name": "Python 3",
   "language": "python",
   "name": "python3"
  },
  "language_info": {
   "codemirror_mode": {
    "name": "ipython",
    "version": 3
   },
   "file_extension": ".py",
   "mimetype": "text/x-python",
   "name": "python",
   "nbconvert_exporter": "python",
   "pygments_lexer": "ipython3",
   "version": "3.7.10"
  }
 },
 "nbformat": 4,
 "nbformat_minor": 5
}
