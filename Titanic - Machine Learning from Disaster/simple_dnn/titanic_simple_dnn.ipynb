{
 "cells": [
  {
   "cell_type": "code",
   "execution_count": 1,
   "id": "edbdaa71",
   "metadata": {
    "execution": {
     "iopub.execute_input": "2021-09-29T17:53:37.878821Z",
     "iopub.status.busy": "2021-09-29T17:53:37.873343Z",
     "iopub.status.idle": "2021-09-29T17:53:44.395592Z",
     "shell.execute_reply": "2021-09-29T17:53:44.394311Z",
     "shell.execute_reply.started": "2021-09-29T17:49:20.151680Z"
    },
    "papermill": {
     "duration": 6.555005,
     "end_time": "2021-09-29T17:53:44.395790",
     "exception": false,
     "start_time": "2021-09-29T17:53:37.840785",
     "status": "completed"
    },
    "tags": []
   },
   "outputs": [
    {
     "name": "stderr",
     "output_type": "stream",
     "text": [
      "2021-09-29 17:53:38.611546: W tensorflow/stream_executor/platform/default/dso_loader.cc:60] Could not load dynamic library 'libcudart.so.11.0'; dlerror: libcudart.so.11.0: cannot open shared object file: No such file or directory; LD_LIBRARY_PATH: /opt/conda/lib\n",
      "2021-09-29 17:53:38.611680: I tensorflow/stream_executor/cuda/cudart_stub.cc:29] Ignore above cudart dlerror if you do not have a GPU set up on your machine.\n"
     ]
    }
   ],
   "source": [
    "import pandas as pd\n",
    "import numpy as np\n",
    "\n",
    "import tensorflow as tf\n",
    "from tensorflow.keras import layers\n",
    "from tensorflow.keras.models import Sequential\n",
    "from sklearn.utils import shuffle\n",
    "from sklearn.model_selection import train_test_split\n",
    "\n",
    "import matplotlib.pyplot as plt"
   ]
  },
  {
   "cell_type": "code",
   "execution_count": 2,
   "id": "e7788a78",
   "metadata": {
    "execution": {
     "iopub.execute_input": "2021-09-29T17:53:44.447466Z",
     "iopub.status.busy": "2021-09-29T17:53:44.446712Z",
     "iopub.status.idle": "2021-09-29T17:53:44.475389Z",
     "shell.execute_reply": "2021-09-29T17:53:44.474709Z",
     "shell.execute_reply.started": "2021-09-29T17:49:20.314263Z"
    },
    "papermill": {
     "duration": 0.056299,
     "end_time": "2021-09-29T17:53:44.475552",
     "exception": false,
     "start_time": "2021-09-29T17:53:44.419253",
     "status": "completed"
    },
    "tags": []
   },
   "outputs": [],
   "source": [
    "# Read train and test csv files\n",
    "train_df = pd.read_csv(\"/kaggle/input/titanic/train.csv\")\n",
    "test_df = pd.read_csv(\"/kaggle/input/titanic/test.csv\")"
   ]
  },
  {
   "cell_type": "code",
   "execution_count": 3,
   "id": "1ce4d43c",
   "metadata": {
    "execution": {
     "iopub.execute_input": "2021-09-29T17:53:44.528006Z",
     "iopub.status.busy": "2021-09-29T17:53:44.527290Z",
     "iopub.status.idle": "2021-09-29T17:53:44.546151Z",
     "shell.execute_reply": "2021-09-29T17:53:44.546673Z",
     "shell.execute_reply.started": "2021-09-29T17:49:20.464581Z"
    },
    "papermill": {
     "duration": 0.049555,
     "end_time": "2021-09-29T17:53:44.546879",
     "exception": false,
     "start_time": "2021-09-29T17:53:44.497324",
     "status": "completed"
    },
    "tags": []
   },
   "outputs": [
    {
     "data": {
      "text/html": [
       "<div>\n",
       "<style scoped>\n",
       "    .dataframe tbody tr th:only-of-type {\n",
       "        vertical-align: middle;\n",
       "    }\n",
       "\n",
       "    .dataframe tbody tr th {\n",
       "        vertical-align: top;\n",
       "    }\n",
       "\n",
       "    .dataframe thead th {\n",
       "        text-align: right;\n",
       "    }\n",
       "</style>\n",
       "<table border=\"1\" class=\"dataframe\">\n",
       "  <thead>\n",
       "    <tr style=\"text-align: right;\">\n",
       "      <th></th>\n",
       "      <th>PassengerId</th>\n",
       "      <th>Survived</th>\n",
       "      <th>Pclass</th>\n",
       "      <th>Name</th>\n",
       "      <th>Sex</th>\n",
       "      <th>Age</th>\n",
       "      <th>SibSp</th>\n",
       "      <th>Parch</th>\n",
       "      <th>Ticket</th>\n",
       "      <th>Fare</th>\n",
       "      <th>Cabin</th>\n",
       "      <th>Embarked</th>\n",
       "    </tr>\n",
       "  </thead>\n",
       "  <tbody>\n",
       "    <tr>\n",
       "      <th>0</th>\n",
       "      <td>1</td>\n",
       "      <td>0</td>\n",
       "      <td>3</td>\n",
       "      <td>Braund, Mr. Owen Harris</td>\n",
       "      <td>male</td>\n",
       "      <td>22.0</td>\n",
       "      <td>1</td>\n",
       "      <td>0</td>\n",
       "      <td>A/5 21171</td>\n",
       "      <td>7.2500</td>\n",
       "      <td>NaN</td>\n",
       "      <td>S</td>\n",
       "    </tr>\n",
       "    <tr>\n",
       "      <th>1</th>\n",
       "      <td>2</td>\n",
       "      <td>1</td>\n",
       "      <td>1</td>\n",
       "      <td>Cumings, Mrs. John Bradley (Florence Briggs Th...</td>\n",
       "      <td>female</td>\n",
       "      <td>38.0</td>\n",
       "      <td>1</td>\n",
       "      <td>0</td>\n",
       "      <td>PC 17599</td>\n",
       "      <td>71.2833</td>\n",
       "      <td>C85</td>\n",
       "      <td>C</td>\n",
       "    </tr>\n",
       "    <tr>\n",
       "      <th>2</th>\n",
       "      <td>3</td>\n",
       "      <td>1</td>\n",
       "      <td>3</td>\n",
       "      <td>Heikkinen, Miss. Laina</td>\n",
       "      <td>female</td>\n",
       "      <td>26.0</td>\n",
       "      <td>0</td>\n",
       "      <td>0</td>\n",
       "      <td>STON/O2. 3101282</td>\n",
       "      <td>7.9250</td>\n",
       "      <td>NaN</td>\n",
       "      <td>S</td>\n",
       "    </tr>\n",
       "    <tr>\n",
       "      <th>3</th>\n",
       "      <td>4</td>\n",
       "      <td>1</td>\n",
       "      <td>1</td>\n",
       "      <td>Futrelle, Mrs. Jacques Heath (Lily May Peel)</td>\n",
       "      <td>female</td>\n",
       "      <td>35.0</td>\n",
       "      <td>1</td>\n",
       "      <td>0</td>\n",
       "      <td>113803</td>\n",
       "      <td>53.1000</td>\n",
       "      <td>C123</td>\n",
       "      <td>S</td>\n",
       "    </tr>\n",
       "    <tr>\n",
       "      <th>4</th>\n",
       "      <td>5</td>\n",
       "      <td>0</td>\n",
       "      <td>3</td>\n",
       "      <td>Allen, Mr. William Henry</td>\n",
       "      <td>male</td>\n",
       "      <td>35.0</td>\n",
       "      <td>0</td>\n",
       "      <td>0</td>\n",
       "      <td>373450</td>\n",
       "      <td>8.0500</td>\n",
       "      <td>NaN</td>\n",
       "      <td>S</td>\n",
       "    </tr>\n",
       "  </tbody>\n",
       "</table>\n",
       "</div>"
      ],
      "text/plain": [
       "   PassengerId  Survived  Pclass  \\\n",
       "0            1         0       3   \n",
       "1            2         1       1   \n",
       "2            3         1       3   \n",
       "3            4         1       1   \n",
       "4            5         0       3   \n",
       "\n",
       "                                                Name     Sex   Age  SibSp  \\\n",
       "0                            Braund, Mr. Owen Harris    male  22.0      1   \n",
       "1  Cumings, Mrs. John Bradley (Florence Briggs Th...  female  38.0      1   \n",
       "2                             Heikkinen, Miss. Laina  female  26.0      0   \n",
       "3       Futrelle, Mrs. Jacques Heath (Lily May Peel)  female  35.0      1   \n",
       "4                           Allen, Mr. William Henry    male  35.0      0   \n",
       "\n",
       "   Parch            Ticket     Fare Cabin Embarked  \n",
       "0      0         A/5 21171   7.2500   NaN        S  \n",
       "1      0          PC 17599  71.2833   C85        C  \n",
       "2      0  STON/O2. 3101282   7.9250   NaN        S  \n",
       "3      0            113803  53.1000  C123        S  \n",
       "4      0            373450   8.0500   NaN        S  "
      ]
     },
     "execution_count": 3,
     "metadata": {},
     "output_type": "execute_result"
    }
   ],
   "source": [
    "# to have an overlook of data\n",
    "train_df.head(n=5)"
   ]
  },
  {
   "cell_type": "code",
   "execution_count": 4,
   "id": "28b3fe2d",
   "metadata": {
    "execution": {
     "iopub.execute_input": "2021-09-29T17:53:44.597246Z",
     "iopub.status.busy": "2021-09-29T17:53:44.596521Z",
     "iopub.status.idle": "2021-09-29T17:53:44.601357Z",
     "shell.execute_reply": "2021-09-29T17:53:44.601925Z",
     "shell.execute_reply.started": "2021-09-29T17:49:20.526120Z"
    },
    "papermill": {
     "duration": 0.033035,
     "end_time": "2021-09-29T17:53:44.602153",
     "exception": false,
     "start_time": "2021-09-29T17:53:44.569118",
     "status": "completed"
    },
    "tags": []
   },
   "outputs": [],
   "source": [
    "# replacing nan values with 0\n",
    "train_df = train_df.fillna(0)\n",
    "test_df = test_df.fillna(0)"
   ]
  },
  {
   "cell_type": "markdown",
   "id": "2b8ce8a6",
   "metadata": {
    "papermill": {
     "duration": 0.021849,
     "end_time": "2021-09-29T17:53:44.646239",
     "exception": false,
     "start_time": "2021-09-29T17:53:44.624390",
     "status": "completed"
    },
    "tags": []
   },
   "source": [
    "### Converting columns with string values to integers"
   ]
  },
  {
   "cell_type": "code",
   "execution_count": 5,
   "id": "ded2d999",
   "metadata": {
    "execution": {
     "iopub.execute_input": "2021-09-29T17:53:44.695639Z",
     "iopub.status.busy": "2021-09-29T17:53:44.694910Z",
     "iopub.status.idle": "2021-09-29T17:53:44.702681Z",
     "shell.execute_reply": "2021-09-29T17:53:44.703236Z",
     "shell.execute_reply.started": "2021-09-29T17:49:21.040457Z"
    },
    "papermill": {
     "duration": 0.03502,
     "end_time": "2021-09-29T17:53:44.703438",
     "exception": false,
     "start_time": "2021-09-29T17:53:44.668418",
     "status": "completed"
    },
    "tags": []
   },
   "outputs": [],
   "source": [
    "def convert_str_to_num(df, column, saved_dict):\n",
    "    if saved_dict is not None:\n",
    "        print('using passed entry dict')\n",
    "        entry_dict = saved_dict\n",
    "    else:\n",
    "        print('creating a new entry dict')\n",
    "        entry_dict = {}\n",
    "        unique_entries = list(df[column].unique())\n",
    "        for idx, value in enumerate(unique_entries):\n",
    "            entry_dict[value if isinstance(value, str) else str(value)] = idx+1\n",
    "        \n",
    "    for i in range(len(df)):\n",
    "        if df[column][i] in entry_dict:\n",
    "            df[column][i] = entry_dict[df[column][i]]\n",
    "        else:\n",
    "            df[column][i] = 0\n",
    "        \n",
    "    # for value in entry_dict:\n",
    "    #  df[column] = df[column].replace(value, entry_dict[value])\n",
    "    return df, entry_dict"
   ]
  },
  {
   "cell_type": "code",
   "execution_count": 6,
   "id": "76ec0c15",
   "metadata": {
    "execution": {
     "iopub.execute_input": "2021-09-29T17:53:44.752027Z",
     "iopub.status.busy": "2021-09-29T17:53:44.751307Z",
     "iopub.status.idle": "2021-09-29T17:53:45.946806Z",
     "shell.execute_reply": "2021-09-29T17:53:45.945842Z",
     "shell.execute_reply.started": "2021-09-29T17:49:21.429851Z"
    },
    "papermill": {
     "duration": 1.221267,
     "end_time": "2021-09-29T17:53:45.947032",
     "exception": false,
     "start_time": "2021-09-29T17:53:44.725765",
     "status": "completed"
    },
    "tags": []
   },
   "outputs": [
    {
     "name": "stdout",
     "output_type": "stream",
     "text": [
      "creating a new entry dict\n"
     ]
    },
    {
     "name": "stderr",
     "output_type": "stream",
     "text": [
      "/opt/conda/lib/python3.7/site-packages/ipykernel_launcher.py:14: SettingWithCopyWarning: \n",
      "A value is trying to be set on a copy of a slice from a DataFrame\n",
      "\n",
      "See the caveats in the documentation: https://pandas.pydata.org/pandas-docs/stable/user_guide/indexing.html#returning-a-view-versus-a-copy\n",
      "  \n"
     ]
    },
    {
     "name": "stdout",
     "output_type": "stream",
     "text": [
      "creating a new entry dict\n"
     ]
    },
    {
     "name": "stderr",
     "output_type": "stream",
     "text": [
      "/opt/conda/lib/python3.7/site-packages/ipykernel_launcher.py:16: SettingWithCopyWarning: \n",
      "A value is trying to be set on a copy of a slice from a DataFrame\n",
      "\n",
      "See the caveats in the documentation: https://pandas.pydata.org/pandas-docs/stable/user_guide/indexing.html#returning-a-view-versus-a-copy\n",
      "  app.launch_new_instance()\n"
     ]
    },
    {
     "name": "stdout",
     "output_type": "stream",
     "text": [
      "creating a new entry dict\n",
      "using passed entry dict\n",
      "using passed entry dict\n",
      "using passed entry dict\n"
     ]
    }
   ],
   "source": [
    "train_df, sex_dict = convert_str_to_num(train_df.copy(), 'Sex', saved_dict=None)\n",
    "train_df, cabin_dict = convert_str_to_num(train_df.copy(), 'Cabin', saved_dict=None)\n",
    "train_df, emb_dict = convert_str_to_num(train_df.copy(), 'Embarked', saved_dict=None)\n",
    "\n",
    "test_df, _ = convert_str_to_num(test_df.copy(), 'Sex', saved_dict=sex_dict)\n",
    "test_df, _ = convert_str_to_num(test_df.copy(), 'Cabin', saved_dict=cabin_dict)\n",
    "test_df, _ = convert_str_to_num(test_df.copy(), 'Embarked', saved_dict=emb_dict)"
   ]
  },
  {
   "cell_type": "markdown",
   "id": "30648892",
   "metadata": {
    "papermill": {
     "duration": 0.02397,
     "end_time": "2021-09-29T17:53:45.996246",
     "exception": false,
     "start_time": "2021-09-29T17:53:45.972276",
     "status": "completed"
    },
    "tags": []
   },
   "source": [
    "### Min Max Normalization"
   ]
  },
  {
   "cell_type": "code",
   "execution_count": 7,
   "id": "f45159c1",
   "metadata": {
    "execution": {
     "iopub.execute_input": "2021-09-29T17:53:46.054121Z",
     "iopub.status.busy": "2021-09-29T17:53:46.053173Z",
     "iopub.status.idle": "2021-09-29T17:53:46.056113Z",
     "shell.execute_reply": "2021-09-29T17:53:46.055570Z",
     "shell.execute_reply.started": "2021-09-29T17:49:22.655849Z"
    },
    "papermill": {
     "duration": 0.034908,
     "end_time": "2021-09-29T17:53:46.056273",
     "exception": false,
     "start_time": "2021-09-29T17:53:46.021365",
     "status": "completed"
    },
    "tags": []
   },
   "outputs": [],
   "source": [
    "def normalize_column_min_max(df, column, minimum=None, maximum=None):\n",
    "    if minimum is None or maximum is None:\n",
    "        print(\"creating new min max \")\n",
    "        minimum = df[column].min()\n",
    "        maximum = df[column].max()\n",
    "    else:\n",
    "        print(\"using passed values\")\n",
    "    \n",
    "    df[column] = (df[column]-minimum)/(maximum-minimum)\n",
    "    return df, minimum, maximum"
   ]
  },
  {
   "cell_type": "code",
   "execution_count": 8,
   "id": "5d35192a",
   "metadata": {
    "execution": {
     "iopub.execute_input": "2021-09-29T17:53:46.117598Z",
     "iopub.status.busy": "2021-09-29T17:53:46.113774Z",
     "iopub.status.idle": "2021-09-29T17:53:46.139338Z",
     "shell.execute_reply": "2021-09-29T17:53:46.140123Z",
     "shell.execute_reply.started": "2021-09-29T17:49:23.235512Z"
    },
    "papermill": {
     "duration": 0.059577,
     "end_time": "2021-09-29T17:53:46.140396",
     "exception": false,
     "start_time": "2021-09-29T17:53:46.080819",
     "status": "completed"
    },
    "tags": []
   },
   "outputs": [
    {
     "name": "stdout",
     "output_type": "stream",
     "text": [
      "creating new min max \n",
      "creating new min max \n",
      "creating new min max \n",
      "creating new min max \n",
      "creating new min max \n",
      "creating new min max \n",
      "using passed values\n",
      "using passed values\n",
      "using passed values\n",
      "using passed values\n",
      "using passed values\n",
      "using passed values\n"
     ]
    }
   ],
   "source": [
    "train_df, p_min, p_max = normalize_column_min_max(df=train_df.copy(), column='Pclass')\n",
    "train_df, a_min, a_max = normalize_column_min_max(df=train_df.copy(), column='Age')\n",
    "train_df, c_min, c_max = normalize_column_min_max(df=train_df.copy(), column='Cabin')\n",
    "train_df, e_min, e_max = normalize_column_min_max(df=train_df.copy(), column='Embarked')\n",
    "train_df, s_min, s_max = normalize_column_min_max(df=train_df.copy(), column='SibSp')\n",
    "train_df, pc_min, pc_max = normalize_column_min_max(df=train_df.copy(), column='Parch')\n",
    "\n",
    "test_df, _, _ = normalize_column_min_max(df=test_df.copy(), column='Pclass', minimum=p_min, maximum=p_max)\n",
    "test_df, _, _ = normalize_column_min_max(df=test_df.copy(), column='Age', minimum=a_min, maximum=a_max)\n",
    "test_df, _, _ = normalize_column_min_max(df=test_df.copy(), column='Cabin', minimum=c_min, maximum=c_max)\n",
    "test_df, _, _ = normalize_column_min_max(df=test_df.copy(), column='Embarked', minimum=e_min, maximum=e_max)\n",
    "test_df, _, _ = normalize_column_min_max(df=test_df.copy(), column='SibSp', minimum=s_min, maximum=s_max)\n",
    "test_df, _, _ = normalize_column_min_max(df=test_df.copy(), column='Parch', minimum=pc_min, maximum=pc_max)"
   ]
  },
  {
   "cell_type": "markdown",
   "id": "c44c36f7",
   "metadata": {
    "papermill": {
     "duration": 0.024391,
     "end_time": "2021-09-29T17:53:46.190251",
     "exception": false,
     "start_time": "2021-09-29T17:53:46.165860",
     "status": "completed"
    },
    "tags": []
   },
   "source": [
    "### Create train dataset and labels"
   ]
  },
  {
   "cell_type": "code",
   "execution_count": 9,
   "id": "1f4895c5",
   "metadata": {
    "execution": {
     "iopub.execute_input": "2021-09-29T17:53:46.247807Z",
     "iopub.status.busy": "2021-09-29T17:53:46.246639Z",
     "iopub.status.idle": "2021-09-29T17:53:46.335817Z",
     "shell.execute_reply": "2021-09-29T17:53:46.335163Z",
     "shell.execute_reply.started": "2021-09-29T17:50:15.987553Z"
    },
    "papermill": {
     "duration": 0.121052,
     "end_time": "2021-09-29T17:53:46.335990",
     "exception": false,
     "start_time": "2021-09-29T17:53:46.214938",
     "status": "completed"
    },
    "tags": []
   },
   "outputs": [],
   "source": [
    "input_columns = ['Pclass', 'Sex', 'Age', 'SibSp', 'Parch', 'Cabin', 'Embarked']\n",
    "train_input = []\n",
    "train_labels = []\n",
    "\n",
    "for _, row in train_df.iterrows():\n",
    "    input_ = []\n",
    "    train_labels.append([row['Survived']])\n",
    "    for column in input_columns:\n",
    "        input_.append(row[column])\n",
    "    input_ = np.array(input_)\n",
    "    # input_ = input_.reshape(input_.size, 1)\n",
    "    train_input.append(input_)"
   ]
  },
  {
   "cell_type": "code",
   "execution_count": 10,
   "id": "b2a99cde",
   "metadata": {
    "execution": {
     "iopub.execute_input": "2021-09-29T17:53:46.394233Z",
     "iopub.status.busy": "2021-09-29T17:53:46.393488Z",
     "iopub.status.idle": "2021-09-29T17:53:46.398303Z",
     "shell.execute_reply": "2021-09-29T17:53:46.398837Z",
     "shell.execute_reply.started": "2021-09-29T17:50:18.779230Z"
    },
    "papermill": {
     "duration": 0.03836,
     "end_time": "2021-09-29T17:53:46.399058",
     "exception": false,
     "start_time": "2021-09-29T17:53:46.360698",
     "status": "completed"
    },
    "tags": []
   },
   "outputs": [],
   "source": [
    "train_input_shuffled, train_labels_shuffled = shuffle(train_input, train_labels)\n",
    "\n",
    "train_input_shuffled = np.array(train_input_shuffled)\n",
    "train_labels_shuffled = np.array(train_labels_shuffled)"
   ]
  },
  {
   "cell_type": "markdown",
   "id": "283cf1c6",
   "metadata": {
    "papermill": {
     "duration": 0.024146,
     "end_time": "2021-09-29T17:53:46.447944",
     "exception": false,
     "start_time": "2021-09-29T17:53:46.423798",
     "status": "completed"
    },
    "tags": []
   },
   "source": [
    "### Define a simple DNN architecture"
   ]
  },
  {
   "cell_type": "code",
   "execution_count": 11,
   "id": "13afbe7c",
   "metadata": {
    "execution": {
     "iopub.execute_input": "2021-09-29T17:53:46.503003Z",
     "iopub.status.busy": "2021-09-29T17:53:46.501951Z",
     "iopub.status.idle": "2021-09-29T17:53:46.919595Z",
     "shell.execute_reply": "2021-09-29T17:53:46.918967Z",
     "shell.execute_reply.started": "2021-09-29T17:52:23.404839Z"
    },
    "papermill": {
     "duration": 0.447364,
     "end_time": "2021-09-29T17:53:46.919750",
     "exception": false,
     "start_time": "2021-09-29T17:53:46.472386",
     "status": "completed"
    },
    "tags": []
   },
   "outputs": [
    {
     "name": "stderr",
     "output_type": "stream",
     "text": [
      "2021-09-29 17:53:46.516620: I tensorflow/compiler/jit/xla_cpu_device.cc:41] Not creating XLA devices, tf_xla_enable_xla_devices not set\n",
      "2021-09-29 17:53:46.519580: W tensorflow/stream_executor/platform/default/dso_loader.cc:60] Could not load dynamic library 'libcuda.so.1'; dlerror: libcuda.so.1: cannot open shared object file: No such file or directory; LD_LIBRARY_PATH: /opt/conda/lib\n",
      "2021-09-29 17:53:46.519622: W tensorflow/stream_executor/cuda/cuda_driver.cc:326] failed call to cuInit: UNKNOWN ERROR (303)\n",
      "2021-09-29 17:53:46.519649: I tensorflow/stream_executor/cuda/cuda_diagnostics.cc:156] kernel driver does not appear to be running on this host (3d6469183fef): /proc/driver/nvidia/version does not exist\n",
      "2021-09-29 17:53:46.520616: I tensorflow/core/platform/cpu_feature_guard.cc:142] This TensorFlow binary is optimized with oneAPI Deep Neural Network Library (oneDNN) to use the following CPU instructions in performance-critical operations:  AVX2 FMA\n",
      "To enable them in other operations, rebuild TensorFlow with the appropriate compiler flags.\n",
      "2021-09-29 17:53:46.521082: I tensorflow/compiler/jit/xla_gpu_device.cc:99] Not creating XLA devices, tf_xla_enable_xla_devices not set\n"
     ]
    }
   ],
   "source": [
    "model = Sequential()\n",
    "model.add(layers.Dense(8, input_shape=(None, 7), activation='relu'))\n",
    "model.add(layers.Dropout(rate=0.5))\n",
    "model.add(layers.Dense(64, activation='relu'))\n",
    "model.add(layers.Dense(1, activation='sigmoid'))"
   ]
  },
  {
   "cell_type": "code",
   "execution_count": 12,
   "id": "114ab394",
   "metadata": {
    "execution": {
     "iopub.execute_input": "2021-09-29T17:53:46.981273Z",
     "iopub.status.busy": "2021-09-29T17:53:46.980579Z",
     "iopub.status.idle": "2021-09-29T17:53:46.992453Z",
     "shell.execute_reply": "2021-09-29T17:53:46.993009Z",
     "shell.execute_reply.started": "2021-09-29T17:52:23.555832Z"
    },
    "papermill": {
     "duration": 0.048211,
     "end_time": "2021-09-29T17:53:46.993234",
     "exception": false,
     "start_time": "2021-09-29T17:53:46.945023",
     "status": "completed"
    },
    "tags": []
   },
   "outputs": [],
   "source": [
    "model.compile(optimizer='adam',\n",
    "              loss='binary_crossentropy',\n",
    "              metrics=[\"accuracy\"])"
   ]
  },
  {
   "cell_type": "code",
   "execution_count": 13,
   "id": "4ce497ba",
   "metadata": {
    "execution": {
     "iopub.execute_input": "2021-09-29T17:53:47.047658Z",
     "iopub.status.busy": "2021-09-29T17:53:47.046974Z",
     "iopub.status.idle": "2021-09-29T17:53:47.055243Z",
     "shell.execute_reply": "2021-09-29T17:53:47.055702Z",
     "shell.execute_reply.started": "2021-09-29T17:52:23.722956Z"
    },
    "papermill": {
     "duration": 0.037216,
     "end_time": "2021-09-29T17:53:47.055911",
     "exception": false,
     "start_time": "2021-09-29T17:53:47.018695",
     "status": "completed"
    },
    "tags": []
   },
   "outputs": [
    {
     "name": "stdout",
     "output_type": "stream",
     "text": [
      "Model: \"sequential\"\n",
      "_________________________________________________________________\n",
      "Layer (type)                 Output Shape              Param #   \n",
      "=================================================================\n",
      "dense (Dense)                (None, None, 8)           64        \n",
      "_________________________________________________________________\n",
      "dropout (Dropout)            (None, None, 8)           0         \n",
      "_________________________________________________________________\n",
      "dense_1 (Dense)              (None, None, 64)          576       \n",
      "_________________________________________________________________\n",
      "dense_2 (Dense)              (None, None, 1)           65        \n",
      "=================================================================\n",
      "Total params: 705\n",
      "Trainable params: 705\n",
      "Non-trainable params: 0\n",
      "_________________________________________________________________\n"
     ]
    }
   ],
   "source": [
    "model.summary()"
   ]
  },
  {
   "cell_type": "markdown",
   "id": "d6b8026f",
   "metadata": {
    "papermill": {
     "duration": 0.025451,
     "end_time": "2021-09-29T17:53:47.106945",
     "exception": false,
     "start_time": "2021-09-29T17:53:47.081494",
     "status": "completed"
    },
    "tags": []
   },
   "source": [
    "### Train"
   ]
  },
  {
   "cell_type": "code",
   "execution_count": 14,
   "id": "b5286b5b",
   "metadata": {
    "execution": {
     "iopub.execute_input": "2021-09-29T17:53:47.165767Z",
     "iopub.status.busy": "2021-09-29T17:53:47.165044Z",
     "iopub.status.idle": "2021-09-29T17:53:51.211979Z",
     "shell.execute_reply": "2021-09-29T17:53:51.211114Z",
     "shell.execute_reply.started": "2021-09-29T17:52:29.223213Z"
    },
    "papermill": {
     "duration": 4.079409,
     "end_time": "2021-09-29T17:53:51.212174",
     "exception": false,
     "start_time": "2021-09-29T17:53:47.132765",
     "status": "completed"
    },
    "tags": []
   },
   "outputs": [
    {
     "name": "stderr",
     "output_type": "stream",
     "text": [
      "2021-09-29 17:53:47.252056: I tensorflow/compiler/mlir/mlir_graph_optimization_pass.cc:116] None of the MLIR optimization passes are enabled (registered 2)\n",
      "2021-09-29 17:53:47.265582: I tensorflow/core/platform/profile_utils/cpu_utils.cc:112] CPU Frequency: 2199995000 Hz\n"
     ]
    },
    {
     "name": "stdout",
     "output_type": "stream",
     "text": [
      "Epoch 1/10\n",
      "101/101 [==============================] - 1s 8ms/step - loss: 0.6936 - accuracy: 0.5791 - val_loss: 0.6003 - val_accuracy: 0.7889\n",
      "Epoch 2/10\n",
      "101/101 [==============================] - 0s 3ms/step - loss: 0.6387 - accuracy: 0.6636 - val_loss: 0.5566 - val_accuracy: 0.7889\n",
      "Epoch 3/10\n",
      "101/101 [==============================] - 0s 3ms/step - loss: 0.5953 - accuracy: 0.7095 - val_loss: 0.5358 - val_accuracy: 0.7556\n",
      "Epoch 4/10\n",
      "101/101 [==============================] - 0s 3ms/step - loss: 0.5889 - accuracy: 0.7121 - val_loss: 0.4977 - val_accuracy: 0.7444\n",
      "Epoch 5/10\n",
      "101/101 [==============================] - 0s 3ms/step - loss: 0.5486 - accuracy: 0.7357 - val_loss: 0.4784 - val_accuracy: 0.8000\n",
      "Epoch 6/10\n",
      "101/101 [==============================] - 0s 3ms/step - loss: 0.5547 - accuracy: 0.7458 - val_loss: 0.4807 - val_accuracy: 0.8111\n",
      "Epoch 7/10\n",
      "101/101 [==============================] - 0s 3ms/step - loss: 0.5458 - accuracy: 0.7477 - val_loss: 0.4616 - val_accuracy: 0.8111\n",
      "Epoch 8/10\n",
      "101/101 [==============================] - 0s 3ms/step - loss: 0.5182 - accuracy: 0.7578 - val_loss: 0.4674 - val_accuracy: 0.8222\n",
      "Epoch 9/10\n",
      "101/101 [==============================] - 0s 3ms/step - loss: 0.5089 - accuracy: 0.7589 - val_loss: 0.4550 - val_accuracy: 0.8222\n",
      "Epoch 10/10\n",
      "101/101 [==============================] - 0s 3ms/step - loss: 0.5456 - accuracy: 0.7599 - val_loss: 0.4544 - val_accuracy: 0.8778\n"
     ]
    }
   ],
   "source": [
    "history = model.fit(train_input_shuffled, train_labels_shuffled, validation_split=0.1, epochs=10, batch_size=8, validation_batch_size=1)"
   ]
  },
  {
   "cell_type": "markdown",
   "id": "fc7fb0b0",
   "metadata": {
    "papermill": {
     "duration": 0.038218,
     "end_time": "2021-09-29T17:53:51.289501",
     "exception": false,
     "start_time": "2021-09-29T17:53:51.251283",
     "status": "completed"
    },
    "tags": []
   },
   "source": [
    "### Train and validation charts"
   ]
  },
  {
   "cell_type": "code",
   "execution_count": 15,
   "id": "aa689a89",
   "metadata": {
    "execution": {
     "iopub.execute_input": "2021-09-29T17:53:51.370461Z",
     "iopub.status.busy": "2021-09-29T17:53:51.369770Z",
     "iopub.status.idle": "2021-09-29T17:53:51.615375Z",
     "shell.execute_reply": "2021-09-29T17:53:51.615996Z",
     "shell.execute_reply.started": "2021-09-29T17:52:36.160694Z"
    },
    "papermill": {
     "duration": 0.288423,
     "end_time": "2021-09-29T17:53:51.616191",
     "exception": false,
     "start_time": "2021-09-29T17:53:51.327768",
     "status": "completed"
    },
    "tags": []
   },
   "outputs": [
    {
     "data": {
      "image/png": "[encoded data removed]",
      "text/plain": [
       "<Figure size 432x288 with 1 Axes>"
      ]
     },
     "metadata": {
      "needs_background": "light"
     },
     "output_type": "display_data"
    }
   ],
   "source": [
    "plt.plot(history.history['loss'], label='train_loss')\n",
    "plt.plot(history.history['val_loss'], label='val_loss')\n",
    "plt.legend()\n",
    "plt.show()"
   ]
  },
  {
   "cell_type": "code",
   "execution_count": 16,
   "id": "8c046806",
   "metadata": {
    "execution": {
     "iopub.execute_input": "2021-09-29T17:53:51.725510Z",
     "iopub.status.busy": "2021-09-29T17:53:51.701393Z",
     "iopub.status.idle": "2021-09-29T17:53:51.920483Z",
     "shell.execute_reply": "2021-09-29T17:53:51.919876Z",
     "shell.execute_reply.started": "2021-09-29T17:52:38.198423Z"
    },
    "papermill": {
     "duration": 0.264685,
     "end_time": "2021-09-29T17:53:51.920640",
     "exception": false,
     "start_time": "2021-09-29T17:53:51.655955",
     "status": "completed"
    },
    "tags": []
   },
   "outputs": [
    {
     "data": {
      "image/png": "[encoded data removed]",
      "text/plain": [
       "<Figure size 432x288 with 1 Axes>"
      ]
     },
     "metadata": {
      "needs_background": "light"
     },
     "output_type": "display_data"
    }
   ],
   "source": [
    "plt.plot(history.history['accuracy'], label='train_accuracy')\n",
    "plt.plot(history.history['val_accuracy'], label='val_accuracy')\n",
    "plt.legend()\n",
    "plt.show()"
   ]
  },
  {
   "cell_type": "markdown",
   "id": "b404f09f",
   "metadata": {
    "papermill": {
     "duration": 0.040857,
     "end_time": "2021-09-29T17:53:52.003187",
     "exception": false,
     "start_time": "2021-09-29T17:53:51.962330",
     "status": "completed"
    },
    "tags": []
   },
   "source": [
    "### Predict"
   ]
  },
  {
   "cell_type": "code",
   "execution_count": 17,
   "id": "d5fb7321",
   "metadata": {
    "execution": {
     "iopub.execute_input": "2021-09-29T17:53:52.090515Z",
     "iopub.status.busy": "2021-09-29T17:53:52.089724Z",
     "iopub.status.idle": "2021-09-29T17:54:10.590974Z",
     "shell.execute_reply": "2021-09-29T17:54:10.591542Z",
     "shell.execute_reply.started": "2021-09-29T17:52:41.420904Z"
    },
    "papermill": {
     "duration": 18.545692,
     "end_time": "2021-09-29T17:54:10.591745",
     "exception": false,
     "start_time": "2021-09-29T17:53:52.046053",
     "status": "completed"
    },
    "tags": []
   },
   "outputs": [],
   "source": [
    "result_dict = {'PassengerId': [], 'Survived': []}\n",
    "\n",
    "for _, row in test_df.iterrows():\n",
    "    input_ = []\n",
    "    for column in input_columns:\n",
    "        input_.append(row[column])\n",
    "    input_ = np.array(input_)\n",
    "    # input_ = input_.reshape(input_.size, 1)\n",
    "    prediction = model.predict(np.array([input_]))\n",
    "    survived = 0\n",
    "    if prediction > 0.5:\n",
    "        survived = 1\n",
    "    result_dict['PassengerId'].append(row['PassengerId'])\n",
    "    result_dict['Survived'].append(survived)"
   ]
  },
  {
   "cell_type": "code",
   "execution_count": 18,
   "id": "1bb8acdc",
   "metadata": {
    "execution": {
     "iopub.execute_input": "2021-09-29T17:54:10.681656Z",
     "iopub.status.busy": "2021-09-29T17:54:10.680602Z",
     "iopub.status.idle": "2021-09-29T17:54:10.683767Z",
     "shell.execute_reply": "2021-09-29T17:54:10.683239Z",
     "shell.execute_reply.started": "2021-09-29T17:53:01.754265Z"
    },
    "papermill": {
     "duration": 0.050481,
     "end_time": "2021-09-29T17:54:10.683952",
     "exception": false,
     "start_time": "2021-09-29T17:54:10.633471",
     "status": "completed"
    },
    "tags": []
   },
   "outputs": [],
   "source": [
    "result_df = pd.DataFrame(result_dict)"
   ]
  },
  {
   "cell_type": "code",
   "execution_count": 19,
   "id": "c7dbf9cb",
   "metadata": {
    "execution": {
     "iopub.execute_input": "2021-09-29T17:54:10.768346Z",
     "iopub.status.busy": "2021-09-29T17:54:10.767624Z",
     "iopub.status.idle": "2021-09-29T17:54:10.776302Z",
     "shell.execute_reply": "2021-09-29T17:54:10.776814Z",
     "shell.execute_reply.started": "2021-09-29T17:53:01.762977Z"
    },
    "papermill": {
     "duration": 0.052779,
     "end_time": "2021-09-29T17:54:10.777032",
     "exception": false,
     "start_time": "2021-09-29T17:54:10.724253",
     "status": "completed"
    },
    "tags": []
   },
   "outputs": [
    {
     "data": {
      "text/html": [
       "<div>\n",
       "<style scoped>\n",
       "    .dataframe tbody tr th:only-of-type {\n",
       "        vertical-align: middle;\n",
       "    }\n",
       "\n",
       "    .dataframe tbody tr th {\n",
       "        vertical-align: top;\n",
       "    }\n",
       "\n",
       "    .dataframe thead th {\n",
       "        text-align: right;\n",
       "    }\n",
       "</style>\n",
       "<table border=\"1\" class=\"dataframe\">\n",
       "  <thead>\n",
       "    <tr style=\"text-align: right;\">\n",
       "      <th></th>\n",
       "      <th>PassengerId</th>\n",
       "      <th>Survived</th>\n",
       "    </tr>\n",
       "  </thead>\n",
       "  <tbody>\n",
       "    <tr>\n",
       "      <th>0</th>\n",
       "      <td>892</td>\n",
       "      <td>0</td>\n",
       "    </tr>\n",
       "    <tr>\n",
       "      <th>1</th>\n",
       "      <td>893</td>\n",
       "      <td>0</td>\n",
       "    </tr>\n",
       "    <tr>\n",
       "      <th>2</th>\n",
       "      <td>894</td>\n",
       "      <td>0</td>\n",
       "    </tr>\n",
       "    <tr>\n",
       "      <th>3</th>\n",
       "      <td>895</td>\n",
       "      <td>0</td>\n",
       "    </tr>\n",
       "    <tr>\n",
       "      <th>4</th>\n",
       "      <td>896</td>\n",
       "      <td>0</td>\n",
       "    </tr>\n",
       "  </tbody>\n",
       "</table>\n",
       "</div>"
      ],
      "text/plain": [
       "   PassengerId  Survived\n",
       "0          892         0\n",
       "1          893         0\n",
       "2          894         0\n",
       "3          895         0\n",
       "4          896         0"
      ]
     },
     "execution_count": 19,
     "metadata": {},
     "output_type": "execute_result"
    }
   ],
   "source": [
    "result_df.head()"
   ]
  },
  {
   "cell_type": "code",
   "execution_count": 20,
   "id": "7d5dd9d1",
   "metadata": {
    "execution": {
     "iopub.execute_input": "2021-09-29T17:54:10.864623Z",
     "iopub.status.busy": "2021-09-29T17:54:10.863931Z",
     "iopub.status.idle": "2021-09-29T17:54:10.873025Z",
     "shell.execute_reply": "2021-09-29T17:54:10.872274Z",
     "shell.execute_reply.started": "2021-09-29T17:53:01.781551Z"
    },
    "papermill": {
     "duration": 0.055399,
     "end_time": "2021-09-29T17:54:10.873189",
     "exception": false,
     "start_time": "2021-09-29T17:54:10.817790",
     "status": "completed"
    },
    "tags": []
   },
   "outputs": [],
   "source": [
    "# Dump into a csv file\n",
    "result_df.to_csv('submission.csv', index=False)"
   ]
  },
  {
   "cell_type": "code",
   "execution_count": null,
   "id": "e614a37d",
   "metadata": {
    "papermill": {
     "duration": 0.040417,
     "end_time": "2021-09-29T17:54:10.955151",
     "exception": false,
     "start_time": "2021-09-29T17:54:10.914734",
     "status": "completed"
    },
    "tags": []
   },
   "outputs": [],
   "source": []
  }
 ],
 "metadata": {
  "kernelspec": {
   "display_name": "Python 3",
   "language": "python",
   "name": "python3"
  },
  "language_info": {
   "codemirror_mode": {
    "name": "ipython",
    "version": 3
   },
   "file_extension": ".py",
   "mimetype": "text/x-python",
   "name": "python",
   "nbconvert_exporter": "python",
   "pygments_lexer": "ipython3",
   "version": "3.7.10"
  },
  "papermill": {
   "default_parameters": {},
   "duration": 44.893764,
   "end_time": "2021-09-29T17:54:13.858670",
   "environment_variables": {},
   "exception": null,
   "input_path": "__notebook__.ipynb",
   "output_path": "__notebook__.ipynb",
   "parameters": {},
   "start_time": "2021-09-29T17:53:28.964906",
   "version": "2.3.3"
  }
 },
 "nbformat": 4,
 "nbformat_minor": 5
}
