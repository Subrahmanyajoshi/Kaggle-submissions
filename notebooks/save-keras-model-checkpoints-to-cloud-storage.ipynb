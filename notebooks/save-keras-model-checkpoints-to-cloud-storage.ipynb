{
 "cells": [
  {
   "cell_type": "markdown",
   "id": "bce83d1f",
   "metadata": {
    "papermill": {
     "duration": 0.016648,
     "end_time": "2022-02-24T03:23:10.159904",
     "exception": false,
     "start_time": "2022-02-24T03:23:10.143256",
     "status": "completed"
    },
    "tags": []
   },
   "source": [
    "## Saving keras model checkpoints directly to Google Cloud Storage during training\n",
    "\n",
    "One of the biggest problems i have faced while running my keras model training jobs on Google Cloud AI platform is that model checkpoint callback cannot write checkpoints directly to GCS.\n",
    "\n",
    "Lets see how this problem can be solved by creating a custom tensorflow keras callback. "
   ]
  },
  {
   "cell_type": "markdown",
   "id": "43a049ad",
   "metadata": {
    "papermill": {
     "duration": 0.014575,
     "end_time": "2022-02-24T03:23:10.191850",
     "exception": false,
     "start_time": "2022-02-24T03:23:10.177275",
     "status": "completed"
    },
    "tags": []
   },
   "source": [
    "#### We will use the very popular IRIS dataset in this notebook and build a super simple model to classify the flower types."
   ]
  },
  {
   "cell_type": "code",
   "execution_count": 1,
   "id": "2abc98ef",
   "metadata": {
    "execution": {
     "iopub.execute_input": "2022-02-24T03:23:10.225820Z",
     "iopub.status.busy": "2022-02-24T03:23:10.224806Z",
     "iopub.status.idle": "2022-02-24T03:23:16.032318Z",
     "shell.execute_reply": "2022-02-24T03:23:16.032784Z"
    },
    "papermill": {
     "duration": 5.826343,
     "end_time": "2022-02-24T03:23:16.033112",
     "exception": false,
     "start_time": "2022-02-24T03:23:10.206769",
     "status": "completed"
    },
    "tags": []
   },
   "outputs": [],
   "source": [
    "import os\n",
    "\n",
    "import pandas as pd\n",
    "import numpy as np\n",
    "\n",
    "import tensorflow as tf\n",
    "from tensorflow.keras import layers\n",
    "from tensorflow.keras.models import Sequential\n",
    "from sklearn.utils import shuffle\n",
    "from sklearn.preprocessing import OneHotEncoder\n",
    "from sklearn.model_selection import train_test_split\n",
    "\n",
    "from tensorflow.keras.callbacks import Callback\n",
    "from google.cloud import storage\n",
    "\n",
    "from tensorflow.keras.callbacks import ModelCheckpoint, EarlyStopping, TensorBoard, CSVLogger"
   ]
  },
  {
   "cell_type": "code",
   "execution_count": 2,
   "id": "540c8251",
   "metadata": {
    "execution": {
     "iopub.execute_input": "2022-02-24T03:23:16.067800Z",
     "iopub.status.busy": "2022-02-24T03:23:16.067177Z",
     "iopub.status.idle": "2022-02-24T03:23:16.070275Z",
     "shell.execute_reply": "2022-02-24T03:23:16.070723Z"
    },
    "papermill": {
     "duration": 0.021731,
     "end_time": "2022-02-24T03:23:16.070860",
     "exception": false,
     "start_time": "2022-02-24T03:23:16.049129",
     "status": "completed"
    },
    "tags": []
   },
   "outputs": [],
   "source": [
    "# Disable tensorflow debugging information\n",
    "os.environ['TF_CPP_MIN_LOG_LEVEL'] = '3'\n",
    "os.environ[\"KMP_SETTINGS\"] = \"false\""
   ]
  },
  {
   "cell_type": "code",
   "execution_count": 3,
   "id": "52d096dd",
   "metadata": {
    "execution": {
     "iopub.execute_input": "2022-02-24T03:23:16.107043Z",
     "iopub.status.busy": "2022-02-24T03:23:16.106445Z",
     "iopub.status.idle": "2022-02-24T03:23:16.144611Z",
     "shell.execute_reply": "2022-02-24T03:23:16.145067Z"
    },
    "papermill": {
     "duration": 0.058843,
     "end_time": "2022-02-24T03:23:16.145220",
     "exception": false,
     "start_time": "2022-02-24T03:23:16.086377",
     "status": "completed"
    },
    "tags": []
   },
   "outputs": [
    {
     "data": {
      "text/html": [
       "<div>\n",
       "<style scoped>\n",
       "    .dataframe tbody tr th:only-of-type {\n",
       "        vertical-align: middle;\n",
       "    }\n",
       "\n",
       "    .dataframe tbody tr th {\n",
       "        vertical-align: top;\n",
       "    }\n",
       "\n",
       "    .dataframe thead th {\n",
       "        text-align: right;\n",
       "    }\n",
       "</style>\n",
       "<table border=\"1\" class=\"dataframe\">\n",
       "  <thead>\n",
       "    <tr style=\"text-align: right;\">\n",
       "      <th></th>\n",
       "      <th>sepal_length</th>\n",
       "      <th>sepal_width</th>\n",
       "      <th>petal_length</th>\n",
       "      <th>petal_width</th>\n",
       "      <th>species</th>\n",
       "    </tr>\n",
       "  </thead>\n",
       "  <tbody>\n",
       "    <tr>\n",
       "      <th>0</th>\n",
       "      <td>5.1</td>\n",
       "      <td>3.5</td>\n",
       "      <td>1.4</td>\n",
       "      <td>0.2</td>\n",
       "      <td>Iris-setosa</td>\n",
       "    </tr>\n",
       "    <tr>\n",
       "      <th>1</th>\n",
       "      <td>4.9</td>\n",
       "      <td>3.0</td>\n",
       "      <td>1.4</td>\n",
       "      <td>0.2</td>\n",
       "      <td>Iris-setosa</td>\n",
       "    </tr>\n",
       "    <tr>\n",
       "      <th>2</th>\n",
       "      <td>4.7</td>\n",
       "      <td>3.2</td>\n",
       "      <td>1.3</td>\n",
       "      <td>0.2</td>\n",
       "      <td>Iris-setosa</td>\n",
       "    </tr>\n",
       "    <tr>\n",
       "      <th>3</th>\n",
       "      <td>4.6</td>\n",
       "      <td>3.1</td>\n",
       "      <td>1.5</td>\n",
       "      <td>0.2</td>\n",
       "      <td>Iris-setosa</td>\n",
       "    </tr>\n",
       "    <tr>\n",
       "      <th>4</th>\n",
       "      <td>5.0</td>\n",
       "      <td>3.6</td>\n",
       "      <td>1.4</td>\n",
       "      <td>0.2</td>\n",
       "      <td>Iris-setosa</td>\n",
       "    </tr>\n",
       "  </tbody>\n",
       "</table>\n",
       "</div>"
      ],
      "text/plain": [
       "   sepal_length  sepal_width  petal_length  petal_width      species\n",
       "0           5.1          3.5           1.4          0.2  Iris-setosa\n",
       "1           4.9          3.0           1.4          0.2  Iris-setosa\n",
       "2           4.7          3.2           1.3          0.2  Iris-setosa\n",
       "3           4.6          3.1           1.5          0.2  Iris-setosa\n",
       "4           5.0          3.6           1.4          0.2  Iris-setosa"
      ]
     },
     "execution_count": 3,
     "metadata": {},
     "output_type": "execute_result"
    }
   ],
   "source": [
    "# Read the csv file\n",
    "data = pd.read_csv('/kaggle/input/iris-flower-dataset/IRIS.csv')\n",
    "data.head(n=5)"
   ]
  },
  {
   "cell_type": "code",
   "execution_count": 4,
   "id": "eb82ce4c",
   "metadata": {
    "execution": {
     "iopub.execute_input": "2022-02-24T03:23:16.179945Z",
     "iopub.status.busy": "2022-02-24T03:23:16.179010Z",
     "iopub.status.idle": "2022-02-24T03:23:16.189719Z",
     "shell.execute_reply": "2022-02-24T03:23:16.190102Z"
    },
    "papermill": {
     "duration": 0.029081,
     "end_time": "2022-02-24T03:23:16.190251",
     "exception": false,
     "start_time": "2022-02-24T03:23:16.161170",
     "status": "completed"
    },
    "tags": []
   },
   "outputs": [],
   "source": [
    "# Separate input and labels\n",
    "X, y = data[['sepal_length', 'sepal_width', 'petal_length', 'petal_width']].values, data['species'].values.reshape(-1, 1)"
   ]
  },
  {
   "cell_type": "code",
   "execution_count": 5,
   "id": "0fda47f2",
   "metadata": {
    "execution": {
     "iopub.execute_input": "2022-02-24T03:23:16.224724Z",
     "iopub.status.busy": "2022-02-24T03:23:16.223837Z",
     "iopub.status.idle": "2022-02-24T03:23:16.228535Z",
     "shell.execute_reply": "2022-02-24T03:23:16.229000Z"
    },
    "papermill": {
     "duration": 0.023475,
     "end_time": "2022-02-24T03:23:16.229158",
     "exception": false,
     "start_time": "2022-02-24T03:23:16.205683",
     "status": "completed"
    },
    "tags": []
   },
   "outputs": [],
   "source": [
    "# One hot encode the labels\n",
    "ohc = OneHotEncoder(handle_unknown='ignore')\n",
    "ohc.fit(y)\n",
    "y = ohc.transform(y).toarray()"
   ]
  },
  {
   "cell_type": "code",
   "execution_count": 6,
   "id": "a91a0202",
   "metadata": {
    "execution": {
     "iopub.execute_input": "2022-02-24T03:23:16.263013Z",
     "iopub.status.busy": "2022-02-24T03:23:16.262142Z",
     "iopub.status.idle": "2022-02-24T03:23:16.266078Z",
     "shell.execute_reply": "2022-02-24T03:23:16.266528Z"
    },
    "papermill": {
     "duration": 0.02226,
     "end_time": "2022-02-24T03:23:16.266665",
     "exception": false,
     "start_time": "2022-02-24T03:23:16.244405",
     "status": "completed"
    },
    "tags": []
   },
   "outputs": [],
   "source": [
    "# Train test split\n",
    "X_train, X_test, y_train, y_test = train_test_split(X, y, test_size=0.2)"
   ]
  },
  {
   "cell_type": "markdown",
   "id": "86022efc",
   "metadata": {
    "papermill": {
     "duration": 0.016163,
     "end_time": "2022-02-24T03:23:16.298719",
     "exception": false,
     "start_time": "2022-02-24T03:23:16.282556",
     "status": "completed"
    },
    "tags": []
   },
   "source": [
    "### Define a simple DNN architecture\n",
    "\n",
    "We will keep the model very simple since we are not concentrating on accuracy of the model."
   ]
  },
  {
   "cell_type": "code",
   "execution_count": 7,
   "id": "8ba6edb7",
   "metadata": {
    "execution": {
     "iopub.execute_input": "2022-02-24T03:23:16.334276Z",
     "iopub.status.busy": "2022-02-24T03:23:16.333468Z",
     "iopub.status.idle": "2022-02-24T03:23:16.478649Z",
     "shell.execute_reply": "2022-02-24T03:23:16.479106Z"
    },
    "papermill": {
     "duration": 0.164634,
     "end_time": "2022-02-24T03:23:16.479323",
     "exception": false,
     "start_time": "2022-02-24T03:23:16.314689",
     "status": "completed"
    },
    "tags": []
   },
   "outputs": [
    {
     "name": "stdout",
     "output_type": "stream",
     "text": [
      "Model: \"sequential\"\n",
      "_________________________________________________________________\n",
      "Layer (type)                 Output Shape              Param #   \n",
      "=================================================================\n",
      "dense (Dense)                (None, None, 4)           20        \n",
      "_________________________________________________________________\n",
      "dense_1 (Dense)              (None, None, 64)          320       \n",
      "_________________________________________________________________\n",
      "dense_2 (Dense)              (None, None, 3)           195       \n",
      "=================================================================\n",
      "Total params: 535\n",
      "Trainable params: 535\n",
      "Non-trainable params: 0\n",
      "_________________________________________________________________\n"
     ]
    }
   ],
   "source": [
    "model = Sequential()\n",
    "model.add(layers.Dense(4, input_shape=(None, 4), activation='relu'))\n",
    "model.add(layers.Dense(64, activation='relu'))                                                                                                                                                                \n",
    "model.add(layers.Dense(3, activation='softmax'))\n",
    "\n",
    "model.compile(optimizer='adam',\n",
    "              loss='categorical_crossentropy',\n",
    "              metrics=[\"accuracy\"])\n",
    "model.summary()"
   ]
  },
  {
   "cell_type": "markdown",
   "id": "433bb246",
   "metadata": {
    "papermill": {
     "duration": 0.016028,
     "end_time": "2022-02-24T03:23:16.511599",
     "exception": false,
     "start_time": "2022-02-24T03:23:16.495571",
     "status": "completed"
    },
    "tags": []
   },
   "source": [
    "## General callbacks"
   ]
  },
  {
   "cell_type": "code",
   "execution_count": 8,
   "id": "b697b9e1",
   "metadata": {
    "execution": {
     "iopub.execute_input": "2022-02-24T03:23:16.551457Z",
     "iopub.status.busy": "2022-02-24T03:23:16.550873Z",
     "iopub.status.idle": "2022-02-24T03:23:16.556866Z",
     "shell.execute_reply": "2022-02-24T03:23:16.556367Z"
    },
    "papermill": {
     "duration": 0.028606,
     "end_time": "2022-02-24T03:23:16.556982",
     "exception": false,
     "start_time": "2022-02-24T03:23:16.528376",
     "status": "completed"
    },
    "tags": []
   },
   "outputs": [],
   "source": [
    "# Create directories for tensorboard and checkpoints if it doesn't exist\n",
    "os.makedirs('/tmp/tensorboard', exist_ok=True)\n",
    "os.makedirs('/tmp/checkpoints', exist_ok=True)\n",
    "\n",
    "# Tensorboard is a tool to monitor training.\n",
    "tensorboard = TensorBoard(log_dir='/tmp/tensorboard')\n",
    "\n",
    "# Callback to save a copy of model after every epoch.\n",
    "cp_callback = ModelCheckpoint(filepath='/tmp/checkpoints/model.{epoch:02d}-{val_loss:.2f}.hdf5',\n",
    "                             monitor='val_accuracy',\n",
    "                             save_freq='epoch',\n",
    "                             verbose=1,\n",
    "                             period=1,\n",
    "                             save_best_only=False,\n",
    "                             save_weights_only=True)\n",
    "\n",
    "# Keeps monitoring training and terminates it if model starts to overfit or value of specified monitoring metric is stationary.\n",
    "es_callback = EarlyStopping(monitor='val_accuracy',\n",
    "                            mode='min',\n",
    "                            verbose=1,\n",
    "                            patience=5)\n",
    "\n",
    "callbacks = [tensorboard, cp_callback, es_callback]"
   ]
  },
  {
   "cell_type": "markdown",
   "id": "8f5fca07",
   "metadata": {
    "papermill": {
     "duration": 0.016384,
     "end_time": "2022-02-24T03:23:16.589984",
     "exception": false,
     "start_time": "2022-02-24T03:23:16.573600",
     "status": "completed"
    },
    "tags": []
   },
   "source": [
    "## Creating a custom GCS callback\n",
    "\n",
    "Model checkpoint callback will write checkpoints to /tmp/checkpoints at the end of every epoch. We will create our own custom callback which also runs at the end of each epoch after model checkpoint callback runs, and uploads the newly created checkpoint to GCS."
   ]
  },
  {
   "cell_type": "code",
   "execution_count": 9,
   "id": "8dbec1c0",
   "metadata": {
    "execution": {
     "iopub.execute_input": "2022-02-24T03:23:16.626220Z",
     "iopub.status.busy": "2022-02-24T03:23:16.625699Z",
     "iopub.status.idle": "2022-02-24T03:23:16.628786Z",
     "shell.execute_reply": "2022-02-24T03:23:16.629369Z"
    },
    "papermill": {
     "duration": 0.02256,
     "end_time": "2022-02-24T03:23:16.629514",
     "exception": false,
     "start_time": "2022-02-24T03:23:16.606954",
     "status": "completed"
    },
    "tags": []
   },
   "outputs": [],
   "source": [
    "# Google Cloud Credentials\n",
    "\n",
    "# Project ID\n",
    "gcp_project_id = 'gcp-demos-341918'\n",
    "\n",
    "# GCS bucket name\n",
    "bucket_name = \"callback-demo-bucket\""
   ]
  },
  {
   "cell_type": "markdown",
   "id": "4396b4d2",
   "metadata": {
    "papermill": {
     "duration": 0.016217,
     "end_time": "2022-02-24T03:23:16.661927",
     "exception": false,
     "start_time": "2022-02-24T03:23:16.645710",
     "status": "completed"
    },
    "tags": []
   },
   "source": [
    "### Create a bucket to store the checkpoints"
   ]
  },
  {
   "cell_type": "code",
   "execution_count": 10,
   "id": "85bfa718",
   "metadata": {
    "execution": {
     "iopub.execute_input": "2022-02-24T03:23:16.697019Z",
     "iopub.status.busy": "2022-02-24T03:23:16.696481Z",
     "iopub.status.idle": "2022-02-24T03:23:17.940416Z",
     "shell.execute_reply": "2022-02-24T03:23:17.939853Z"
    },
    "papermill": {
     "duration": 1.262218,
     "end_time": "2022-02-24T03:23:17.940554",
     "exception": false,
     "start_time": "2022-02-24T03:23:16.678336",
     "status": "completed"
    },
    "tags": []
   },
   "outputs": [
    {
     "name": "stdout",
     "output_type": "stream",
     "text": [
      "Created new bucket: callback-demo-bucket\n"
     ]
    }
   ],
   "source": [
    "storage_client = storage.Client(project=gcp_project_id)\n",
    "\n",
    "buckets = [b.name for b in storage_client.list_buckets()]\n",
    "\n",
    "if bucket_name not in buckets:\n",
    "    bucket = storage_client.bucket(bucket_name)\n",
    "    bucket.storage_class = \"COLDLINE\"\n",
    "    new_bucket = storage_client.create_bucket(bucket, location=\"us\", )\n",
    "    print(f\"Created new bucket: {new_bucket.name}\")"
   ]
  },
  {
   "cell_type": "markdown",
   "id": "1cb6734d",
   "metadata": {
    "papermill": {
     "duration": 0.016817,
     "end_time": "2022-02-24T03:23:17.975076",
     "exception": false,
     "start_time": "2022-02-24T03:23:17.958259",
     "status": "completed"
    },
    "tags": []
   },
   "source": [
    "### Implement the GCS callback\n",
    "\n",
    "Custom callbacks can be implemented by inherting the Callback class from tensorflow.keras.callbacks module. There are multiple functions which can be overridden to achieve desired tasks in multiple stages during training like:\n",
    "\n",
    "* Beginning or ending of training|evaluation|prediction.\n",
    "* Beginning or ending of epochs.\n",
    "* Beginning or ending of batches.\n",
    "\n",
    "To solve our problem, we will override the on_epoch_end function, which will copy the checkpoint to the specified GCS bucket at end of each epoch using Google Cloud Storage python client."
   ]
  },
  {
   "cell_type": "code",
   "execution_count": 11,
   "id": "6e925e50",
   "metadata": {
    "execution": {
     "iopub.execute_input": "2022-02-24T03:23:18.013862Z",
     "iopub.status.busy": "2022-02-24T03:23:18.013232Z",
     "iopub.status.idle": "2022-02-24T03:23:18.022638Z",
     "shell.execute_reply": "2022-02-24T03:23:18.023222Z"
    },
    "papermill": {
     "duration": 0.029993,
     "end_time": "2022-02-24T03:23:18.023389",
     "exception": false,
     "start_time": "2022-02-24T03:23:17.993396",
     "status": "completed"
    },
    "tags": []
   },
   "outputs": [],
   "source": [
    "class GCSCallback(Callback):\n",
    "    \"\"\" A custom callback to copy checkpoints from local file system directory to Google Cloud Storage directory\"\"\"\n",
    "    \n",
    "    def __init__(self, cp_path: str, bucket_name: str):\n",
    "        \"\"\" init method\n",
    "        Args:\n",
    "            cp_path (str): gcs directory path to store checkpoints\n",
    "            bucket_name (str): name of GCS bucket\n",
    "        \"\"\"\n",
    "        super(GCSCallback, self).__init__()\n",
    "        self.checkpoint_path = cp_path\n",
    "        self.bucket_name = bucket_name\n",
    "        \n",
    "        client = storage.Client(project=gcp_project_id)\n",
    "        self.bucket = client.get_bucket(bucket_name)\n",
    "        \n",
    "    def upload_file_to_gcs(self, src_path: str, dest_path: str):\n",
    "        \"\"\" Uploads file to Google Cloud Storage\n",
    "        Args:\n",
    "            src_path (str): absolute path of source file\n",
    "            dest_path (str): gcs directory path beginning with 'gs://<bucket-name>'\n",
    "        Returns:\n",
    "        \"\"\"\n",
    "        # blob needs only the path inside the bucket. we need to remove gs://<bucket-name> part\n",
    "        dest_path = dest_path.split(f'{self.bucket_name}/')[1]\n",
    "        \n",
    "        # Create a complete destination path. This is basically self.cp_path + file_name.\n",
    "        dest_path = os.path.join(dest_path, os.path.basename(src_path))\n",
    "        \n",
    "        blob = self.bucket.blob(dest_path)\n",
    "        blob.upload_from_filename(src_path)\n",
    "        \n",
    "    def on_epoch_end(self, epoch, logs=None):\n",
    "        \n",
    "        # ModelCheckpoint callback will write checkpoints to /checkpoints directory\n",
    "        for cp_file in os.listdir('/tmp/checkpoints'):\n",
    "            src_path = os.path.join('/tmp/checkpoints', cp_file)\n",
    "            self.upload_file_to_gcs(src_path=src_path, dest_path=self.checkpoint_path)\n",
    "        print(f\"Epoch {str(epoch+1).zfill(5)}: Uploaded saved model to {self.checkpoint_path}\\n\")\n"
   ]
  },
  {
   "cell_type": "code",
   "execution_count": 12,
   "id": "a1ff3cb5",
   "metadata": {
    "execution": {
     "iopub.execute_input": "2022-02-24T03:23:18.061180Z",
     "iopub.status.busy": "2022-02-24T03:23:18.060564Z",
     "iopub.status.idle": "2022-02-24T03:23:18.234360Z",
     "shell.execute_reply": "2022-02-24T03:23:18.234826Z"
    },
    "papermill": {
     "duration": 0.19401,
     "end_time": "2022-02-24T03:23:18.234992",
     "exception": false,
     "start_time": "2022-02-24T03:23:18.040982",
     "status": "completed"
    },
    "tags": []
   },
   "outputs": [],
   "source": [
    "# Create the callback object and append it to the callback list\n",
    "gcs_callback = GCSCallback(cp_path=f'gs://{bucket_name}/checkpoints', bucket_name=bucket_name)\n",
    "\n",
    "callbacks.append(gcs_callback)"
   ]
  },
  {
   "cell_type": "markdown",
   "id": "b8a90ab0",
   "metadata": {
    "papermill": {
     "duration": 0.017422,
     "end_time": "2022-02-24T03:23:18.270038",
     "exception": false,
     "start_time": "2022-02-24T03:23:18.252616",
     "status": "completed"
    },
    "tags": []
   },
   "source": [
    "## Training"
   ]
  },
  {
   "cell_type": "code",
   "execution_count": 13,
   "id": "e1c1cfce",
   "metadata": {
    "execution": {
     "iopub.execute_input": "2022-02-24T03:23:18.307796Z",
     "iopub.status.busy": "2022-02-24T03:23:18.307203Z",
     "iopub.status.idle": "2022-02-24T03:23:26.276840Z",
     "shell.execute_reply": "2022-02-24T03:23:26.277332Z"
    },
    "papermill": {
     "duration": 7.989938,
     "end_time": "2022-02-24T03:23:26.277497",
     "exception": false,
     "start_time": "2022-02-24T03:23:18.287559",
     "status": "completed"
    },
    "tags": []
   },
   "outputs": [
    {
     "name": "stdout",
     "output_type": "stream",
     "text": [
      "Epoch 1/10\n",
      "14/14 [==============================] - 1s 21ms/step - loss: 0.9669 - accuracy: 0.6759 - val_loss: 0.9636 - val_accuracy: 0.5833\n",
      "\n",
      "Epoch 00001: saving model to /tmp/checkpoints/model.01-0.96.hdf5\n",
      "Epoch 00001: Uploaded saved model to gs://callback-demo-bucket/checkpoints\n",
      "\n",
      "Epoch 2/10\n",
      "14/14 [==============================] - 0s 4ms/step - loss: 0.8469 - accuracy: 0.6759 - val_loss: 0.8608 - val_accuracy: 1.0000\n",
      "\n",
      "Epoch 00002: saving model to /tmp/checkpoints/model.02-0.86.hdf5\n",
      "Epoch 00002: Uploaded saved model to gs://callback-demo-bucket/checkpoints\n",
      "\n",
      "Epoch 3/10\n",
      "14/14 [==============================] - 0s 9ms/step - loss: 0.7562 - accuracy: 0.9259 - val_loss: 0.7822 - val_accuracy: 1.0000\n",
      "\n",
      "Epoch 00003: saving model to /tmp/checkpoints/model.03-0.78.hdf5\n",
      "Epoch 00003: Uploaded saved model to gs://callback-demo-bucket/checkpoints\n",
      "\n",
      "Epoch 4/10\n",
      "14/14 [==============================] - 0s 4ms/step - loss: 0.6755 - accuracy: 0.8426 - val_loss: 0.7057 - val_accuracy: 0.9167\n",
      "\n",
      "Epoch 00004: saving model to /tmp/checkpoints/model.04-0.71.hdf5\n",
      "Epoch 00004: Uploaded saved model to gs://callback-demo-bucket/checkpoints\n",
      "\n",
      "Epoch 5/10\n",
      "14/14 [==============================] - 0s 4ms/step - loss: 0.6017 - accuracy: 0.8611 - val_loss: 0.6235 - val_accuracy: 0.9167\n",
      "\n",
      "Epoch 00005: saving model to /tmp/checkpoints/model.05-0.62.hdf5\n",
      "Epoch 00005: Uploaded saved model to gs://callback-demo-bucket/checkpoints\n",
      "\n",
      "Epoch 6/10\n",
      "14/14 [==============================] - 0s 4ms/step - loss: 0.5370 - accuracy: 0.8519 - val_loss: 0.5510 - val_accuracy: 0.9167\n",
      "\n",
      "Epoch 00006: saving model to /tmp/checkpoints/model.06-0.55.hdf5\n",
      "Epoch 00006: Uploaded saved model to gs://callback-demo-bucket/checkpoints\n",
      "\n",
      "Epoch 00006: early stopping\n"
     ]
    }
   ],
   "source": [
    "history = model.fit(X_train, y_train, validation_split=0.1, epochs=10, batch_size=8, callbacks=callbacks)"
   ]
  },
  {
   "cell_type": "markdown",
   "id": "4afc5c9d",
   "metadata": {
    "papermill": {
     "duration": 0.022775,
     "end_time": "2022-02-24T03:23:26.324811",
     "exception": false,
     "start_time": "2022-02-24T03:23:26.302036",
     "status": "completed"
    },
    "tags": []
   },
   "source": [
    "### Verifying that checkpoints are saved to GCS"
   ]
  },
  {
   "cell_type": "code",
   "execution_count": 14,
   "id": "145f3eb7",
   "metadata": {
    "execution": {
     "iopub.execute_input": "2022-02-24T03:23:26.377931Z",
     "iopub.status.busy": "2022-02-24T03:23:26.377354Z",
     "iopub.status.idle": "2022-02-24T03:23:26.640075Z",
     "shell.execute_reply": "2022-02-24T03:23:26.640593Z"
    },
    "papermill": {
     "duration": 0.292708,
     "end_time": "2022-02-24T03:23:26.640764",
     "exception": false,
     "start_time": "2022-02-24T03:23:26.348056",
     "status": "completed"
    },
    "tags": []
   },
   "outputs": [
    {
     "name": "stdout",
     "output_type": "stream",
     "text": [
      "checkpoints/model.01-0.96.hdf5\n",
      "checkpoints/model.02-0.86.hdf5\n",
      "checkpoints/model.03-0.78.hdf5\n",
      "checkpoints/model.04-0.71.hdf5\n",
      "checkpoints/model.05-0.62.hdf5\n",
      "checkpoints/model.06-0.55.hdf5\n"
     ]
    }
   ],
   "source": [
    "# Get GCS bucket\n",
    "bucket = storage_client.get_bucket(bucket_name)\n",
    "\n",
    "elements = list(bucket.list_blobs(prefix='checkpoints'))\n",
    "\n",
    "for element in elements:\n",
    "    print(element.name)"
   ]
  },
  {
   "cell_type": "markdown",
   "id": "dce648c8",
   "metadata": {
    "papermill": {
     "duration": 0.024387,
     "end_time": "2022-02-24T03:23:26.689480",
     "exception": false,
     "start_time": "2022-02-24T03:23:26.665093",
     "status": "completed"
    },
    "tags": []
   },
   "source": [
    "#### The checkpoints were copied to GCS bucket ! This can also be seen at the cloud storage UI in google cloud console to verify that checkpoints are getting copied at the end of every epoch."
   ]
  },
  {
   "cell_type": "markdown",
   "id": "7ef6ed7d",
   "metadata": {
    "papermill": {
     "duration": 0.02318,
     "end_time": "2022-02-24T03:23:26.736442",
     "exception": false,
     "start_time": "2022-02-24T03:23:26.713262",
     "status": "completed"
    },
    "tags": []
   },
   "source": [
    "## Resources\n",
    "\n",
    "* https://www.tensorflow.org/guide/keras/custom_callback\n",
    "* https://cloud.google.com/storage/docs/how-to"
   ]
  },
  {
   "cell_type": "code",
   "execution_count": null,
   "id": "ab0b1962",
   "metadata": {
    "papermill": {
     "duration": 0.022912,
     "end_time": "2022-02-24T03:23:26.782784",
     "exception": false,
     "start_time": "2022-02-24T03:23:26.759872",
     "status": "completed"
    },
    "tags": []
   },
   "outputs": [],
   "source": []
  }
 ],
 "metadata": {
  "kernelspec": {
   "display_name": "Python 3",
   "language": "python",
   "name": "python3"
  },
  "language_info": {
   "codemirror_mode": {
    "name": "ipython",
    "version": 3
   },
   "file_extension": ".py",
   "mimetype": "text/x-python",
   "name": "python",
   "nbconvert_exporter": "python",
   "pygments_lexer": "ipython3",
   "version": "3.7.12"
  },
  "papermill": {
   "default_parameters": {},
   "duration": 28.15287,
   "end_time": "2022-02-24T03:23:29.414351",
   "environment_variables": {},
   "exception": null,
   "input_path": "__notebook__.ipynb",
   "output_path": "__notebook__.ipynb",
   "parameters": {},
   "start_time": "2022-02-24T03:23:01.261481",
   "version": "2.3.3"
  }
 },
 "nbformat": 4,
 "nbformat_minor": 5
}
